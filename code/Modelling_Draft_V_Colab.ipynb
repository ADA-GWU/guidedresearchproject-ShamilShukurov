{
  "cells": [
    {
      "cell_type": "code",
      "execution_count": 161,
      "id": "4dda165f",
      "metadata": {
        "id": "4dda165f"
      },
      "outputs": [],
      "source": [
        "import pandas as pd\n",
        "import numpy as np\n",
        "import os\n",
        "import lightgbm as lgb\n",
        "from sklearn.metrics import *\n",
        "import matplotlib.pyplot as plt\n",
        "from sklearn.utils import resample\n",
        "from imblearn.over_sampling import SMOTE\n",
        "from imblearn.ensemble import BalancedBaggingClassifier\n",
        "import pickle"
      ]
    },
    {
      "cell_type": "code",
      "execution_count": 104,
      "id": "22c0639a",
      "metadata": {
        "id": "22c0639a"
      },
      "outputs": [],
      "source": [
        "def plot_sklearn_roc_curve(y_real, y_pred):\n",
        "    fpr, tpr, _ = roc_curve(y_real, y_pred)\n",
        "    roc_display = RocCurveDisplay(fpr=fpr, tpr=tpr).plot()\n",
        "    roc_display.figure_.set_size_inches(5,5)\n",
        "    plt.plot([0, 1], [0, 1], color = 'g')"
      ]
    },
    {
      "cell_type": "code",
      "execution_count": null,
      "id": "2497f614",
      "metadata": {
        "id": "2497f614"
      },
      "outputs": [],
      "source": [
        "dataset_infos = pd.read_csv(r\"C:\\Users\\SukurovSB\\Desktop\\Guided_Research_New\\guidedresearchproject-ShamilShukurov\\data\\dataset_infos.csv\")"
      ]
    },
    {
      "cell_type": "code",
      "execution_count": null,
      "id": "efc1d8f1",
      "metadata": {
        "id": "efc1d8f1",
        "outputId": "f05ec89e-890d-486a-9db6-41c39437f5c7"
      },
      "outputs": [
        {
          "data": {
            "text/html": [
              "<div>\n",
              "<style scoped>\n",
              "    .dataframe tbody tr th:only-of-type {\n",
              "        vertical-align: middle;\n",
              "    }\n",
              "\n",
              "    .dataframe tbody tr th {\n",
              "        vertical-align: top;\n",
              "    }\n",
              "\n",
              "    .dataframe thead th {\n",
              "        text-align: right;\n",
              "    }\n",
              "</style>\n",
              "<table border=\"1\" class=\"dataframe\">\n",
              "  <thead>\n",
              "    <tr style=\"text-align: right;\">\n",
              "      <th></th>\n",
              "      <th>Unnamed: 0</th>\n",
              "      <th>Dataset_Name</th>\n",
              "      <th>Row_Count</th>\n",
              "      <th>Minority_Class_Percent</th>\n",
              "      <th>Target_Column</th>\n",
              "    </tr>\n",
              "  </thead>\n",
              "  <tbody>\n",
              "    <tr>\n",
              "      <th>0</th>\n",
              "      <td>0</td>\n",
              "      <td>Abalone</td>\n",
              "      <td>1477</td>\n",
              "      <td>4.520</td>\n",
              "      <td>target</td>\n",
              "    </tr>\n",
              "    <tr>\n",
              "      <th>1</th>\n",
              "      <td>1</td>\n",
              "      <td>Adult</td>\n",
              "      <td>32561</td>\n",
              "      <td>24.080</td>\n",
              "      <td>target</td>\n",
              "    </tr>\n",
              "    <tr>\n",
              "      <th>2</th>\n",
              "      <td>2</td>\n",
              "      <td>Churn</td>\n",
              "      <td>7043</td>\n",
              "      <td>26.530</td>\n",
              "      <td>target</td>\n",
              "    </tr>\n",
              "    <tr>\n",
              "      <th>3</th>\n",
              "      <td>3</td>\n",
              "      <td>Contraceptive</td>\n",
              "      <td>1743</td>\n",
              "      <td>22.600</td>\n",
              "      <td>target</td>\n",
              "    </tr>\n",
              "    <tr>\n",
              "      <th>4</th>\n",
              "      <td>4</td>\n",
              "      <td>Covertype</td>\n",
              "      <td>581012</td>\n",
              "      <td>14.770</td>\n",
              "      <td>target</td>\n",
              "    </tr>\n",
              "    <tr>\n",
              "      <th>5</th>\n",
              "      <td>5</td>\n",
              "      <td>Fraud</td>\n",
              "      <td>284807</td>\n",
              "      <td>0.172</td>\n",
              "      <td>Class</td>\n",
              "    </tr>\n",
              "    <tr>\n",
              "      <th>6</th>\n",
              "      <td>6</td>\n",
              "      <td>Fraud2</td>\n",
              "      <td>650000</td>\n",
              "      <td>0.500</td>\n",
              "      <td>is_fraud</td>\n",
              "    </tr>\n",
              "    <tr>\n",
              "      <th>7</th>\n",
              "      <td>7</td>\n",
              "      <td>Letter-a</td>\n",
              "      <td>20000</td>\n",
              "      <td>3.940</td>\n",
              "      <td>letter_a</td>\n",
              "    </tr>\n",
              "    <tr>\n",
              "      <th>8</th>\n",
              "      <td>8</td>\n",
              "      <td>Letter-vowel</td>\n",
              "      <td>20000</td>\n",
              "      <td>19.390</td>\n",
              "      <td>is_vowel</td>\n",
              "    </tr>\n",
              "    <tr>\n",
              "      <th>9</th>\n",
              "      <td>9</td>\n",
              "      <td>Pendigits</td>\n",
              "      <td>10992</td>\n",
              "      <td>9.590</td>\n",
              "      <td>is_9</td>\n",
              "    </tr>\n",
              "    <tr>\n",
              "      <th>10</th>\n",
              "      <td>10</td>\n",
              "      <td>Sick_euthyroid</td>\n",
              "      <td>2194</td>\n",
              "      <td>10.050</td>\n",
              "      <td>target</td>\n",
              "    </tr>\n",
              "    <tr>\n",
              "      <th>11</th>\n",
              "      <td>11</td>\n",
              "      <td>Splice-junction</td>\n",
              "      <td>3186</td>\n",
              "      <td>24.070</td>\n",
              "      <td>target</td>\n",
              "    </tr>\n",
              "    <tr>\n",
              "      <th>12</th>\n",
              "      <td>12</td>\n",
              "      <td>Wine</td>\n",
              "      <td>6497</td>\n",
              "      <td>3.760</td>\n",
              "      <td>target</td>\n",
              "    </tr>\n",
              "  </tbody>\n",
              "</table>\n",
              "</div>"
            ],
            "text/plain": [
              "    Unnamed: 0     Dataset_Name  Row_Count  Minority_Class_Percent  \\\n",
              "0            0          Abalone       1477                   4.520   \n",
              "1            1            Adult      32561                  24.080   \n",
              "2            2            Churn       7043                  26.530   \n",
              "3            3    Contraceptive       1743                  22.600   \n",
              "4            4        Covertype     581012                  14.770   \n",
              "5            5            Fraud     284807                   0.172   \n",
              "6            6           Fraud2     650000                   0.500   \n",
              "7            7         Letter-a      20000                   3.940   \n",
              "8            8     Letter-vowel      20000                  19.390   \n",
              "9            9        Pendigits      10992                   9.590   \n",
              "10          10   Sick_euthyroid       2194                  10.050   \n",
              "11          11  Splice-junction       3186                  24.070   \n",
              "12          12             Wine       6497                   3.760   \n",
              "\n",
              "   Target_Column  \n",
              "0         target  \n",
              "1         target  \n",
              "2         target  \n",
              "3         target  \n",
              "4         target  \n",
              "5          Class  \n",
              "6       is_fraud  \n",
              "7       letter_a  \n",
              "8       is_vowel  \n",
              "9           is_9  \n",
              "10        target  \n",
              "11        target  \n",
              "12        target  "
            ]
          },
          "execution_count": 4,
          "metadata": {},
          "output_type": "execute_result"
        }
      ],
      "source": [
        "dataset_infos"
      ]
    },
    {
      "cell_type": "code",
      "execution_count": null,
      "id": "97e92f16",
      "metadata": {
        "id": "97e92f16"
      },
      "outputs": [],
      "source": [
        "train_data_folder = r\"C:\\Users\\SukurovSB\\Desktop\\train_datasets\"\n",
        "test_data_folder = r\"C:\\Users\\SukurovSB\\Desktop\\test_datasets\""
      ]
    },
    {
      "cell_type": "code",
      "execution_count": 91,
      "id": "f2c78705",
      "metadata": {
        "id": "f2c78705"
      },
      "outputs": [],
      "source": [
        "letter_a_train = pd.read_csv(\"letter_a_train.csv\")\n",
        "letter_a_test = pd.read_csv(\"letter_a_test.csv\")"
      ]
    },
    {
      "cell_type": "code",
      "execution_count": 5,
      "id": "10770445",
      "metadata": {
        "colab": {
          "base_uri": "https://localhost:8080/",
          "height": 424
        },
        "id": "10770445",
        "outputId": "d8613063-be0d-4611-9a9a-f2231e24ad7a"
      },
      "outputs": [
        {
          "output_type": "execute_result",
          "data": {
            "text/plain": [
              "       x-box  y-box  width  high   onpix  x-bar  y-bar  x2bar  y2bar  xybar  \\\n",
              "0          4      7      5      5      4      6      7      3      7     11   \n",
              "1          4      7      6      5      5      6      8      3      7     11   \n",
              "2          3      5      4      3      3      7      8      5      5      7   \n",
              "3          4     10      6      7      6      5      7      5      7      6   \n",
              "4          4     10      6      8      4      8     11      2      3      4   \n",
              "...      ...    ...    ...    ...    ...    ...    ...    ...    ...    ...   \n",
              "15995      5     11      4      6      3      7      7      4      3      9   \n",
              "15996      3      7      5      5      4      9     11      6      4      6   \n",
              "15997      3      4      6      3      2      9      6      2      8     10   \n",
              "15998      3      8      4      6      2      7      8      0      8     14   \n",
              "15999      1      3      2      2      1     10      7      1      5     11   \n",
              "\n",
              "       x2ybr  xy2br  x-ege  xegvy  y-ege  yegvx  letter_a  \n",
              "0          8      9      3      8      4      8         0  \n",
              "1          8      9      3      8      4      7         0  \n",
              "2          7      6      5      9      2      6         0  \n",
              "3          6     12      3      8      6      9         0  \n",
              "4         10      9      3     11      1      8         0  \n",
              "...      ...    ...    ...    ...    ...    ...       ...  \n",
              "15995      6      7      3     10      8      7         0  \n",
              "15996      5      7      2      8      6      4         0  \n",
              "15997      3      7      2      7      3      9         0  \n",
              "15998      6      6      0      8      1      7         0  \n",
              "15999      4      8      0      7      0      7         0  \n",
              "\n",
              "[16000 rows x 17 columns]"
            ],
            "text/html": [
              "\n",
              "\n",
              "  <div id=\"df-3b3b2744-3e8e-4a2e-9144-af4298be9016\">\n",
              "    <div class=\"colab-df-container\">\n",
              "      <div>\n",
              "<style scoped>\n",
              "    .dataframe tbody tr th:only-of-type {\n",
              "        vertical-align: middle;\n",
              "    }\n",
              "\n",
              "    .dataframe tbody tr th {\n",
              "        vertical-align: top;\n",
              "    }\n",
              "\n",
              "    .dataframe thead th {\n",
              "        text-align: right;\n",
              "    }\n",
              "</style>\n",
              "<table border=\"1\" class=\"dataframe\">\n",
              "  <thead>\n",
              "    <tr style=\"text-align: right;\">\n",
              "      <th></th>\n",
              "      <th>x-box</th>\n",
              "      <th>y-box</th>\n",
              "      <th>width</th>\n",
              "      <th>high</th>\n",
              "      <th>onpix</th>\n",
              "      <th>x-bar</th>\n",
              "      <th>y-bar</th>\n",
              "      <th>x2bar</th>\n",
              "      <th>y2bar</th>\n",
              "      <th>xybar</th>\n",
              "      <th>x2ybr</th>\n",
              "      <th>xy2br</th>\n",
              "      <th>x-ege</th>\n",
              "      <th>xegvy</th>\n",
              "      <th>y-ege</th>\n",
              "      <th>yegvx</th>\n",
              "      <th>letter_a</th>\n",
              "    </tr>\n",
              "  </thead>\n",
              "  <tbody>\n",
              "    <tr>\n",
              "      <th>0</th>\n",
              "      <td>4</td>\n",
              "      <td>7</td>\n",
              "      <td>5</td>\n",
              "      <td>5</td>\n",
              "      <td>4</td>\n",
              "      <td>6</td>\n",
              "      <td>7</td>\n",
              "      <td>3</td>\n",
              "      <td>7</td>\n",
              "      <td>11</td>\n",
              "      <td>8</td>\n",
              "      <td>9</td>\n",
              "      <td>3</td>\n",
              "      <td>8</td>\n",
              "      <td>4</td>\n",
              "      <td>8</td>\n",
              "      <td>0</td>\n",
              "    </tr>\n",
              "    <tr>\n",
              "      <th>1</th>\n",
              "      <td>4</td>\n",
              "      <td>7</td>\n",
              "      <td>6</td>\n",
              "      <td>5</td>\n",
              "      <td>5</td>\n",
              "      <td>6</td>\n",
              "      <td>8</td>\n",
              "      <td>3</td>\n",
              "      <td>7</td>\n",
              "      <td>11</td>\n",
              "      <td>8</td>\n",
              "      <td>9</td>\n",
              "      <td>3</td>\n",
              "      <td>8</td>\n",
              "      <td>4</td>\n",
              "      <td>7</td>\n",
              "      <td>0</td>\n",
              "    </tr>\n",
              "    <tr>\n",
              "      <th>2</th>\n",
              "      <td>3</td>\n",
              "      <td>5</td>\n",
              "      <td>4</td>\n",
              "      <td>3</td>\n",
              "      <td>3</td>\n",
              "      <td>7</td>\n",
              "      <td>8</td>\n",
              "      <td>5</td>\n",
              "      <td>5</td>\n",
              "      <td>7</td>\n",
              "      <td>7</td>\n",
              "      <td>6</td>\n",
              "      <td>5</td>\n",
              "      <td>9</td>\n",
              "      <td>2</td>\n",
              "      <td>6</td>\n",
              "      <td>0</td>\n",
              "    </tr>\n",
              "    <tr>\n",
              "      <th>3</th>\n",
              "      <td>4</td>\n",
              "      <td>10</td>\n",
              "      <td>6</td>\n",
              "      <td>7</td>\n",
              "      <td>6</td>\n",
              "      <td>5</td>\n",
              "      <td>7</td>\n",
              "      <td>5</td>\n",
              "      <td>7</td>\n",
              "      <td>6</td>\n",
              "      <td>6</td>\n",
              "      <td>12</td>\n",
              "      <td>3</td>\n",
              "      <td>8</td>\n",
              "      <td>6</td>\n",
              "      <td>9</td>\n",
              "      <td>0</td>\n",
              "    </tr>\n",
              "    <tr>\n",
              "      <th>4</th>\n",
              "      <td>4</td>\n",
              "      <td>10</td>\n",
              "      <td>6</td>\n",
              "      <td>8</td>\n",
              "      <td>4</td>\n",
              "      <td>8</td>\n",
              "      <td>11</td>\n",
              "      <td>2</td>\n",
              "      <td>3</td>\n",
              "      <td>4</td>\n",
              "      <td>10</td>\n",
              "      <td>9</td>\n",
              "      <td>3</td>\n",
              "      <td>11</td>\n",
              "      <td>1</td>\n",
              "      <td>8</td>\n",
              "      <td>0</td>\n",
              "    </tr>\n",
              "    <tr>\n",
              "      <th>...</th>\n",
              "      <td>...</td>\n",
              "      <td>...</td>\n",
              "      <td>...</td>\n",
              "      <td>...</td>\n",
              "      <td>...</td>\n",
              "      <td>...</td>\n",
              "      <td>...</td>\n",
              "      <td>...</td>\n",
              "      <td>...</td>\n",
              "      <td>...</td>\n",
              "      <td>...</td>\n",
              "      <td>...</td>\n",
              "      <td>...</td>\n",
              "      <td>...</td>\n",
              "      <td>...</td>\n",
              "      <td>...</td>\n",
              "      <td>...</td>\n",
              "    </tr>\n",
              "    <tr>\n",
              "      <th>15995</th>\n",
              "      <td>5</td>\n",
              "      <td>11</td>\n",
              "      <td>4</td>\n",
              "      <td>6</td>\n",
              "      <td>3</td>\n",
              "      <td>7</td>\n",
              "      <td>7</td>\n",
              "      <td>4</td>\n",
              "      <td>3</td>\n",
              "      <td>9</td>\n",
              "      <td>6</td>\n",
              "      <td>7</td>\n",
              "      <td>3</td>\n",
              "      <td>10</td>\n",
              "      <td>8</td>\n",
              "      <td>7</td>\n",
              "      <td>0</td>\n",
              "    </tr>\n",
              "    <tr>\n",
              "      <th>15996</th>\n",
              "      <td>3</td>\n",
              "      <td>7</td>\n",
              "      <td>5</td>\n",
              "      <td>5</td>\n",
              "      <td>4</td>\n",
              "      <td>9</td>\n",
              "      <td>11</td>\n",
              "      <td>6</td>\n",
              "      <td>4</td>\n",
              "      <td>6</td>\n",
              "      <td>5</td>\n",
              "      <td>7</td>\n",
              "      <td>2</td>\n",
              "      <td>8</td>\n",
              "      <td>6</td>\n",
              "      <td>4</td>\n",
              "      <td>0</td>\n",
              "    </tr>\n",
              "    <tr>\n",
              "      <th>15997</th>\n",
              "      <td>3</td>\n",
              "      <td>4</td>\n",
              "      <td>6</td>\n",
              "      <td>3</td>\n",
              "      <td>2</td>\n",
              "      <td>9</td>\n",
              "      <td>6</td>\n",
              "      <td>2</td>\n",
              "      <td>8</td>\n",
              "      <td>10</td>\n",
              "      <td>3</td>\n",
              "      <td>7</td>\n",
              "      <td>2</td>\n",
              "      <td>7</td>\n",
              "      <td>3</td>\n",
              "      <td>9</td>\n",
              "      <td>0</td>\n",
              "    </tr>\n",
              "    <tr>\n",
              "      <th>15998</th>\n",
              "      <td>3</td>\n",
              "      <td>8</td>\n",
              "      <td>4</td>\n",
              "      <td>6</td>\n",
              "      <td>2</td>\n",
              "      <td>7</td>\n",
              "      <td>8</td>\n",
              "      <td>0</td>\n",
              "      <td>8</td>\n",
              "      <td>14</td>\n",
              "      <td>6</td>\n",
              "      <td>6</td>\n",
              "      <td>0</td>\n",
              "      <td>8</td>\n",
              "      <td>1</td>\n",
              "      <td>7</td>\n",
              "      <td>0</td>\n",
              "    </tr>\n",
              "    <tr>\n",
              "      <th>15999</th>\n",
              "      <td>1</td>\n",
              "      <td>3</td>\n",
              "      <td>2</td>\n",
              "      <td>2</td>\n",
              "      <td>1</td>\n",
              "      <td>10</td>\n",
              "      <td>7</td>\n",
              "      <td>1</td>\n",
              "      <td>5</td>\n",
              "      <td>11</td>\n",
              "      <td>4</td>\n",
              "      <td>8</td>\n",
              "      <td>0</td>\n",
              "      <td>7</td>\n",
              "      <td>0</td>\n",
              "      <td>7</td>\n",
              "      <td>0</td>\n",
              "    </tr>\n",
              "  </tbody>\n",
              "</table>\n",
              "<p>16000 rows × 17 columns</p>\n",
              "</div>\n",
              "      <button class=\"colab-df-convert\" onclick=\"convertToInteractive('df-3b3b2744-3e8e-4a2e-9144-af4298be9016')\"\n",
              "              title=\"Convert this dataframe to an interactive table.\"\n",
              "              style=\"display:none;\">\n",
              "\n",
              "  <svg xmlns=\"http://www.w3.org/2000/svg\" height=\"24px\"viewBox=\"0 0 24 24\"\n",
              "       width=\"24px\">\n",
              "    <path d=\"M0 0h24v24H0V0z\" fill=\"none\"/>\n",
              "    <path d=\"M18.56 5.44l.94 2.06.94-2.06 2.06-.94-2.06-.94-.94-2.06-.94 2.06-2.06.94zm-11 1L8.5 8.5l.94-2.06 2.06-.94-2.06-.94L8.5 2.5l-.94 2.06-2.06.94zm10 10l.94 2.06.94-2.06 2.06-.94-2.06-.94-.94-2.06-.94 2.06-2.06.94z\"/><path d=\"M17.41 7.96l-1.37-1.37c-.4-.4-.92-.59-1.43-.59-.52 0-1.04.2-1.43.59L10.3 9.45l-7.72 7.72c-.78.78-.78 2.05 0 2.83L4 21.41c.39.39.9.59 1.41.59.51 0 1.02-.2 1.41-.59l7.78-7.78 2.81-2.81c.8-.78.8-2.07 0-2.86zM5.41 20L4 18.59l7.72-7.72 1.47 1.35L5.41 20z\"/>\n",
              "  </svg>\n",
              "      </button>\n",
              "\n",
              "\n",
              "\n",
              "    <div id=\"df-469610d6-f3de-4cf5-a380-fc8937b3dc11\">\n",
              "      <button class=\"colab-df-quickchart\" onclick=\"quickchart('df-469610d6-f3de-4cf5-a380-fc8937b3dc11')\"\n",
              "              title=\"Suggest charts.\"\n",
              "              style=\"display:none;\">\n",
              "\n",
              "<svg xmlns=\"http://www.w3.org/2000/svg\" height=\"24px\"viewBox=\"0 0 24 24\"\n",
              "     width=\"24px\">\n",
              "    <g>\n",
              "        <path d=\"M19 3H5c-1.1 0-2 .9-2 2v14c0 1.1.9 2 2 2h14c1.1 0 2-.9 2-2V5c0-1.1-.9-2-2-2zM9 17H7v-7h2v7zm4 0h-2V7h2v10zm4 0h-2v-4h2v4z\"/>\n",
              "    </g>\n",
              "</svg>\n",
              "      </button>\n",
              "    </div>\n",
              "\n",
              "<style>\n",
              "  .colab-df-quickchart {\n",
              "    background-color: #E8F0FE;\n",
              "    border: none;\n",
              "    border-radius: 50%;\n",
              "    cursor: pointer;\n",
              "    display: none;\n",
              "    fill: #1967D2;\n",
              "    height: 32px;\n",
              "    padding: 0 0 0 0;\n",
              "    width: 32px;\n",
              "  }\n",
              "\n",
              "  .colab-df-quickchart:hover {\n",
              "    background-color: #E2EBFA;\n",
              "    box-shadow: 0px 1px 2px rgba(60, 64, 67, 0.3), 0px 1px 3px 1px rgba(60, 64, 67, 0.15);\n",
              "    fill: #174EA6;\n",
              "  }\n",
              "\n",
              "  [theme=dark] .colab-df-quickchart {\n",
              "    background-color: #3B4455;\n",
              "    fill: #D2E3FC;\n",
              "  }\n",
              "\n",
              "  [theme=dark] .colab-df-quickchart:hover {\n",
              "    background-color: #434B5C;\n",
              "    box-shadow: 0px 1px 3px 1px rgba(0, 0, 0, 0.15);\n",
              "    filter: drop-shadow(0px 1px 2px rgba(0, 0, 0, 0.3));\n",
              "    fill: #FFFFFF;\n",
              "  }\n",
              "</style>\n",
              "\n",
              "    <script>\n",
              "      async function quickchart(key) {\n",
              "        const containerElement = document.querySelector('#' + key);\n",
              "        const charts = await google.colab.kernel.invokeFunction(\n",
              "            'suggestCharts', [key], {});\n",
              "      }\n",
              "    </script>\n",
              "\n",
              "      <script>\n",
              "\n",
              "function displayQuickchartButton(domScope) {\n",
              "  let quickchartButtonEl =\n",
              "    domScope.querySelector('#df-469610d6-f3de-4cf5-a380-fc8937b3dc11 button.colab-df-quickchart');\n",
              "  quickchartButtonEl.style.display =\n",
              "    google.colab.kernel.accessAllowed ? 'block' : 'none';\n",
              "}\n",
              "\n",
              "        displayQuickchartButton(document);\n",
              "      </script>\n",
              "      <style>\n",
              "    .colab-df-container {\n",
              "      display:flex;\n",
              "      flex-wrap:wrap;\n",
              "      gap: 12px;\n",
              "    }\n",
              "\n",
              "    .colab-df-convert {\n",
              "      background-color: #E8F0FE;\n",
              "      border: none;\n",
              "      border-radius: 50%;\n",
              "      cursor: pointer;\n",
              "      display: none;\n",
              "      fill: #1967D2;\n",
              "      height: 32px;\n",
              "      padding: 0 0 0 0;\n",
              "      width: 32px;\n",
              "    }\n",
              "\n",
              "    .colab-df-convert:hover {\n",
              "      background-color: #E2EBFA;\n",
              "      box-shadow: 0px 1px 2px rgba(60, 64, 67, 0.3), 0px 1px 3px 1px rgba(60, 64, 67, 0.15);\n",
              "      fill: #174EA6;\n",
              "    }\n",
              "\n",
              "    [theme=dark] .colab-df-convert {\n",
              "      background-color: #3B4455;\n",
              "      fill: #D2E3FC;\n",
              "    }\n",
              "\n",
              "    [theme=dark] .colab-df-convert:hover {\n",
              "      background-color: #434B5C;\n",
              "      box-shadow: 0px 1px 3px 1px rgba(0, 0, 0, 0.15);\n",
              "      filter: drop-shadow(0px 1px 2px rgba(0, 0, 0, 0.3));\n",
              "      fill: #FFFFFF;\n",
              "    }\n",
              "  </style>\n",
              "\n",
              "      <script>\n",
              "        const buttonEl =\n",
              "          document.querySelector('#df-3b3b2744-3e8e-4a2e-9144-af4298be9016 button.colab-df-convert');\n",
              "        buttonEl.style.display =\n",
              "          google.colab.kernel.accessAllowed ? 'block' : 'none';\n",
              "\n",
              "        async function convertToInteractive(key) {\n",
              "          const element = document.querySelector('#df-3b3b2744-3e8e-4a2e-9144-af4298be9016');\n",
              "          const dataTable =\n",
              "            await google.colab.kernel.invokeFunction('convertToInteractive',\n",
              "                                                     [key], {});\n",
              "          if (!dataTable) return;\n",
              "\n",
              "          const docLinkHtml = 'Like what you see? Visit the ' +\n",
              "            '<a target=\"_blank\" href=https://colab.research.google.com/notebooks/data_table.ipynb>data table notebook</a>'\n",
              "            + ' to learn more about interactive tables.';\n",
              "          element.innerHTML = '';\n",
              "          dataTable['output_type'] = 'display_data';\n",
              "          await google.colab.output.renderOutput(dataTable, element);\n",
              "          const docLink = document.createElement('div');\n",
              "          docLink.innerHTML = docLinkHtml;\n",
              "          element.appendChild(docLink);\n",
              "        }\n",
              "      </script>\n",
              "    </div>\n",
              "  </div>\n"
            ]
          },
          "metadata": {},
          "execution_count": 5
        }
      ],
      "source": [
        "letter_a_train"
      ]
    },
    {
      "cell_type": "code",
      "execution_count": 6,
      "id": "11d23749",
      "metadata": {
        "colab": {
          "base_uri": "https://localhost:8080/",
          "height": 424
        },
        "id": "11d23749",
        "outputId": "839a16a5-5bc4-4f22-e4dc-bb894aff6865"
      },
      "outputs": [
        {
          "output_type": "execute_result",
          "data": {
            "text/plain": [
              "      x-box  y-box  width  high   onpix  x-bar  y-bar  x2bar  y2bar  xybar  \\\n",
              "0         3      6      5      6      4      6      7      3      8      8   \n",
              "1         4     11      6      8      8      7      8      3      5      6   \n",
              "2         3      4      5      3      2     10      2      2      1      9   \n",
              "3         2      4      2      3      2      7      7      5      7      7   \n",
              "4         4      5      5      7      3      8      7      8      6      6   \n",
              "...     ...    ...    ...    ...    ...    ...    ...    ...    ...    ...   \n",
              "3995      4      7      6      5      7      6      6      3      2      8   \n",
              "3996      2      1      3      3      1      6     12      3      6      8   \n",
              "3997      5     10      7      9      4      8      5      9      8      5   \n",
              "3998      4      5      5      7      5     10     11      5      4      5   \n",
              "3999      2      5      4      4      2      7     10      1      6      7   \n",
              "\n",
              "      x2ybr  xy2br  x-ege  xegvy  y-ege  yegvx  letter_a  \n",
              "0         6      9      3      7      7      6         0  \n",
              "1         6     10      6     11      7      5         0  \n",
              "2         2      9      2      6      2      8         1  \n",
              "3         6      8      2      8      5     10         0  \n",
              "4         7      9      3      8      5      9         0  \n",
              "...     ...    ...    ...    ...    ...    ...       ...  \n",
              "3995      6      7      3      7     11      2         0  \n",
              "3996     11      7      1     11      1      7         0  \n",
              "3997      4      8      3      8      4      8         0  \n",
              "3998      8      8      5     10      9      5         0  \n",
              "3999     11      8      1     11      2      8         0  \n",
              "\n",
              "[4000 rows x 17 columns]"
            ],
            "text/html": [
              "\n",
              "\n",
              "  <div id=\"df-c3e60608-fa43-4c65-acd8-6a9629a6c8ba\">\n",
              "    <div class=\"colab-df-container\">\n",
              "      <div>\n",
              "<style scoped>\n",
              "    .dataframe tbody tr th:only-of-type {\n",
              "        vertical-align: middle;\n",
              "    }\n",
              "\n",
              "    .dataframe tbody tr th {\n",
              "        vertical-align: top;\n",
              "    }\n",
              "\n",
              "    .dataframe thead th {\n",
              "        text-align: right;\n",
              "    }\n",
              "</style>\n",
              "<table border=\"1\" class=\"dataframe\">\n",
              "  <thead>\n",
              "    <tr style=\"text-align: right;\">\n",
              "      <th></th>\n",
              "      <th>x-box</th>\n",
              "      <th>y-box</th>\n",
              "      <th>width</th>\n",
              "      <th>high</th>\n",
              "      <th>onpix</th>\n",
              "      <th>x-bar</th>\n",
              "      <th>y-bar</th>\n",
              "      <th>x2bar</th>\n",
              "      <th>y2bar</th>\n",
              "      <th>xybar</th>\n",
              "      <th>x2ybr</th>\n",
              "      <th>xy2br</th>\n",
              "      <th>x-ege</th>\n",
              "      <th>xegvy</th>\n",
              "      <th>y-ege</th>\n",
              "      <th>yegvx</th>\n",
              "      <th>letter_a</th>\n",
              "    </tr>\n",
              "  </thead>\n",
              "  <tbody>\n",
              "    <tr>\n",
              "      <th>0</th>\n",
              "      <td>3</td>\n",
              "      <td>6</td>\n",
              "      <td>5</td>\n",
              "      <td>6</td>\n",
              "      <td>4</td>\n",
              "      <td>6</td>\n",
              "      <td>7</td>\n",
              "      <td>3</td>\n",
              "      <td>8</td>\n",
              "      <td>8</td>\n",
              "      <td>6</td>\n",
              "      <td>9</td>\n",
              "      <td>3</td>\n",
              "      <td>7</td>\n",
              "      <td>7</td>\n",
              "      <td>6</td>\n",
              "      <td>0</td>\n",
              "    </tr>\n",
              "    <tr>\n",
              "      <th>1</th>\n",
              "      <td>4</td>\n",
              "      <td>11</td>\n",
              "      <td>6</td>\n",
              "      <td>8</td>\n",
              "      <td>8</td>\n",
              "      <td>7</td>\n",
              "      <td>8</td>\n",
              "      <td>3</td>\n",
              "      <td>5</td>\n",
              "      <td>6</td>\n",
              "      <td>6</td>\n",
              "      <td>10</td>\n",
              "      <td>6</td>\n",
              "      <td>11</td>\n",
              "      <td>7</td>\n",
              "      <td>5</td>\n",
              "      <td>0</td>\n",
              "    </tr>\n",
              "    <tr>\n",
              "      <th>2</th>\n",
              "      <td>3</td>\n",
              "      <td>4</td>\n",
              "      <td>5</td>\n",
              "      <td>3</td>\n",
              "      <td>2</td>\n",
              "      <td>10</td>\n",
              "      <td>2</td>\n",
              "      <td>2</td>\n",
              "      <td>1</td>\n",
              "      <td>9</td>\n",
              "      <td>2</td>\n",
              "      <td>9</td>\n",
              "      <td>2</td>\n",
              "      <td>6</td>\n",
              "      <td>2</td>\n",
              "      <td>8</td>\n",
              "      <td>1</td>\n",
              "    </tr>\n",
              "    <tr>\n",
              "      <th>3</th>\n",
              "      <td>2</td>\n",
              "      <td>4</td>\n",
              "      <td>2</td>\n",
              "      <td>3</td>\n",
              "      <td>2</td>\n",
              "      <td>7</td>\n",
              "      <td>7</td>\n",
              "      <td>5</td>\n",
              "      <td>7</td>\n",
              "      <td>7</td>\n",
              "      <td>6</td>\n",
              "      <td>8</td>\n",
              "      <td>2</td>\n",
              "      <td>8</td>\n",
              "      <td>5</td>\n",
              "      <td>10</td>\n",
              "      <td>0</td>\n",
              "    </tr>\n",
              "    <tr>\n",
              "      <th>4</th>\n",
              "      <td>4</td>\n",
              "      <td>5</td>\n",
              "      <td>5</td>\n",
              "      <td>7</td>\n",
              "      <td>3</td>\n",
              "      <td>8</td>\n",
              "      <td>7</td>\n",
              "      <td>8</td>\n",
              "      <td>6</td>\n",
              "      <td>6</td>\n",
              "      <td>7</td>\n",
              "      <td>9</td>\n",
              "      <td>3</td>\n",
              "      <td>8</td>\n",
              "      <td>5</td>\n",
              "      <td>9</td>\n",
              "      <td>0</td>\n",
              "    </tr>\n",
              "    <tr>\n",
              "      <th>...</th>\n",
              "      <td>...</td>\n",
              "      <td>...</td>\n",
              "      <td>...</td>\n",
              "      <td>...</td>\n",
              "      <td>...</td>\n",
              "      <td>...</td>\n",
              "      <td>...</td>\n",
              "      <td>...</td>\n",
              "      <td>...</td>\n",
              "      <td>...</td>\n",
              "      <td>...</td>\n",
              "      <td>...</td>\n",
              "      <td>...</td>\n",
              "      <td>...</td>\n",
              "      <td>...</td>\n",
              "      <td>...</td>\n",
              "      <td>...</td>\n",
              "    </tr>\n",
              "    <tr>\n",
              "      <th>3995</th>\n",
              "      <td>4</td>\n",
              "      <td>7</td>\n",
              "      <td>6</td>\n",
              "      <td>5</td>\n",
              "      <td>7</td>\n",
              "      <td>6</td>\n",
              "      <td>6</td>\n",
              "      <td>3</td>\n",
              "      <td>2</td>\n",
              "      <td>8</td>\n",
              "      <td>6</td>\n",
              "      <td>7</td>\n",
              "      <td>3</td>\n",
              "      <td>7</td>\n",
              "      <td>11</td>\n",
              "      <td>2</td>\n",
              "      <td>0</td>\n",
              "    </tr>\n",
              "    <tr>\n",
              "      <th>3996</th>\n",
              "      <td>2</td>\n",
              "      <td>1</td>\n",
              "      <td>3</td>\n",
              "      <td>3</td>\n",
              "      <td>1</td>\n",
              "      <td>6</td>\n",
              "      <td>12</td>\n",
              "      <td>3</td>\n",
              "      <td>6</td>\n",
              "      <td>8</td>\n",
              "      <td>11</td>\n",
              "      <td>7</td>\n",
              "      <td>1</td>\n",
              "      <td>11</td>\n",
              "      <td>1</td>\n",
              "      <td>7</td>\n",
              "      <td>0</td>\n",
              "    </tr>\n",
              "    <tr>\n",
              "      <th>3997</th>\n",
              "      <td>5</td>\n",
              "      <td>10</td>\n",
              "      <td>7</td>\n",
              "      <td>9</td>\n",
              "      <td>4</td>\n",
              "      <td>8</td>\n",
              "      <td>5</td>\n",
              "      <td>9</td>\n",
              "      <td>8</td>\n",
              "      <td>5</td>\n",
              "      <td>4</td>\n",
              "      <td>8</td>\n",
              "      <td>3</td>\n",
              "      <td>8</td>\n",
              "      <td>4</td>\n",
              "      <td>8</td>\n",
              "      <td>0</td>\n",
              "    </tr>\n",
              "    <tr>\n",
              "      <th>3998</th>\n",
              "      <td>4</td>\n",
              "      <td>5</td>\n",
              "      <td>5</td>\n",
              "      <td>7</td>\n",
              "      <td>5</td>\n",
              "      <td>10</td>\n",
              "      <td>11</td>\n",
              "      <td>5</td>\n",
              "      <td>4</td>\n",
              "      <td>5</td>\n",
              "      <td>8</td>\n",
              "      <td>8</td>\n",
              "      <td>5</td>\n",
              "      <td>10</td>\n",
              "      <td>9</td>\n",
              "      <td>5</td>\n",
              "      <td>0</td>\n",
              "    </tr>\n",
              "    <tr>\n",
              "      <th>3999</th>\n",
              "      <td>2</td>\n",
              "      <td>5</td>\n",
              "      <td>4</td>\n",
              "      <td>4</td>\n",
              "      <td>2</td>\n",
              "      <td>7</td>\n",
              "      <td>10</td>\n",
              "      <td>1</td>\n",
              "      <td>6</td>\n",
              "      <td>7</td>\n",
              "      <td>11</td>\n",
              "      <td>8</td>\n",
              "      <td>1</td>\n",
              "      <td>11</td>\n",
              "      <td>2</td>\n",
              "      <td>8</td>\n",
              "      <td>0</td>\n",
              "    </tr>\n",
              "  </tbody>\n",
              "</table>\n",
              "<p>4000 rows × 17 columns</p>\n",
              "</div>\n",
              "      <button class=\"colab-df-convert\" onclick=\"convertToInteractive('df-c3e60608-fa43-4c65-acd8-6a9629a6c8ba')\"\n",
              "              title=\"Convert this dataframe to an interactive table.\"\n",
              "              style=\"display:none;\">\n",
              "\n",
              "  <svg xmlns=\"http://www.w3.org/2000/svg\" height=\"24px\"viewBox=\"0 0 24 24\"\n",
              "       width=\"24px\">\n",
              "    <path d=\"M0 0h24v24H0V0z\" fill=\"none\"/>\n",
              "    <path d=\"M18.56 5.44l.94 2.06.94-2.06 2.06-.94-2.06-.94-.94-2.06-.94 2.06-2.06.94zm-11 1L8.5 8.5l.94-2.06 2.06-.94-2.06-.94L8.5 2.5l-.94 2.06-2.06.94zm10 10l.94 2.06.94-2.06 2.06-.94-2.06-.94-.94-2.06-.94 2.06-2.06.94z\"/><path d=\"M17.41 7.96l-1.37-1.37c-.4-.4-.92-.59-1.43-.59-.52 0-1.04.2-1.43.59L10.3 9.45l-7.72 7.72c-.78.78-.78 2.05 0 2.83L4 21.41c.39.39.9.59 1.41.59.51 0 1.02-.2 1.41-.59l7.78-7.78 2.81-2.81c.8-.78.8-2.07 0-2.86zM5.41 20L4 18.59l7.72-7.72 1.47 1.35L5.41 20z\"/>\n",
              "  </svg>\n",
              "      </button>\n",
              "\n",
              "\n",
              "\n",
              "    <div id=\"df-2d1d0aaa-0579-4553-9120-5c3a82eec0ad\">\n",
              "      <button class=\"colab-df-quickchart\" onclick=\"quickchart('df-2d1d0aaa-0579-4553-9120-5c3a82eec0ad')\"\n",
              "              title=\"Suggest charts.\"\n",
              "              style=\"display:none;\">\n",
              "\n",
              "<svg xmlns=\"http://www.w3.org/2000/svg\" height=\"24px\"viewBox=\"0 0 24 24\"\n",
              "     width=\"24px\">\n",
              "    <g>\n",
              "        <path d=\"M19 3H5c-1.1 0-2 .9-2 2v14c0 1.1.9 2 2 2h14c1.1 0 2-.9 2-2V5c0-1.1-.9-2-2-2zM9 17H7v-7h2v7zm4 0h-2V7h2v10zm4 0h-2v-4h2v4z\"/>\n",
              "    </g>\n",
              "</svg>\n",
              "      </button>\n",
              "    </div>\n",
              "\n",
              "<style>\n",
              "  .colab-df-quickchart {\n",
              "    background-color: #E8F0FE;\n",
              "    border: none;\n",
              "    border-radius: 50%;\n",
              "    cursor: pointer;\n",
              "    display: none;\n",
              "    fill: #1967D2;\n",
              "    height: 32px;\n",
              "    padding: 0 0 0 0;\n",
              "    width: 32px;\n",
              "  }\n",
              "\n",
              "  .colab-df-quickchart:hover {\n",
              "    background-color: #E2EBFA;\n",
              "    box-shadow: 0px 1px 2px rgba(60, 64, 67, 0.3), 0px 1px 3px 1px rgba(60, 64, 67, 0.15);\n",
              "    fill: #174EA6;\n",
              "  }\n",
              "\n",
              "  [theme=dark] .colab-df-quickchart {\n",
              "    background-color: #3B4455;\n",
              "    fill: #D2E3FC;\n",
              "  }\n",
              "\n",
              "  [theme=dark] .colab-df-quickchart:hover {\n",
              "    background-color: #434B5C;\n",
              "    box-shadow: 0px 1px 3px 1px rgba(0, 0, 0, 0.15);\n",
              "    filter: drop-shadow(0px 1px 2px rgba(0, 0, 0, 0.3));\n",
              "    fill: #FFFFFF;\n",
              "  }\n",
              "</style>\n",
              "\n",
              "    <script>\n",
              "      async function quickchart(key) {\n",
              "        const containerElement = document.querySelector('#' + key);\n",
              "        const charts = await google.colab.kernel.invokeFunction(\n",
              "            'suggestCharts', [key], {});\n",
              "      }\n",
              "    </script>\n",
              "\n",
              "      <script>\n",
              "\n",
              "function displayQuickchartButton(domScope) {\n",
              "  let quickchartButtonEl =\n",
              "    domScope.querySelector('#df-2d1d0aaa-0579-4553-9120-5c3a82eec0ad button.colab-df-quickchart');\n",
              "  quickchartButtonEl.style.display =\n",
              "    google.colab.kernel.accessAllowed ? 'block' : 'none';\n",
              "}\n",
              "\n",
              "        displayQuickchartButton(document);\n",
              "      </script>\n",
              "      <style>\n",
              "    .colab-df-container {\n",
              "      display:flex;\n",
              "      flex-wrap:wrap;\n",
              "      gap: 12px;\n",
              "    }\n",
              "\n",
              "    .colab-df-convert {\n",
              "      background-color: #E8F0FE;\n",
              "      border: none;\n",
              "      border-radius: 50%;\n",
              "      cursor: pointer;\n",
              "      display: none;\n",
              "      fill: #1967D2;\n",
              "      height: 32px;\n",
              "      padding: 0 0 0 0;\n",
              "      width: 32px;\n",
              "    }\n",
              "\n",
              "    .colab-df-convert:hover {\n",
              "      background-color: #E2EBFA;\n",
              "      box-shadow: 0px 1px 2px rgba(60, 64, 67, 0.3), 0px 1px 3px 1px rgba(60, 64, 67, 0.15);\n",
              "      fill: #174EA6;\n",
              "    }\n",
              "\n",
              "    [theme=dark] .colab-df-convert {\n",
              "      background-color: #3B4455;\n",
              "      fill: #D2E3FC;\n",
              "    }\n",
              "\n",
              "    [theme=dark] .colab-df-convert:hover {\n",
              "      background-color: #434B5C;\n",
              "      box-shadow: 0px 1px 3px 1px rgba(0, 0, 0, 0.15);\n",
              "      filter: drop-shadow(0px 1px 2px rgba(0, 0, 0, 0.3));\n",
              "      fill: #FFFFFF;\n",
              "    }\n",
              "  </style>\n",
              "\n",
              "      <script>\n",
              "        const buttonEl =\n",
              "          document.querySelector('#df-c3e60608-fa43-4c65-acd8-6a9629a6c8ba button.colab-df-convert');\n",
              "        buttonEl.style.display =\n",
              "          google.colab.kernel.accessAllowed ? 'block' : 'none';\n",
              "\n",
              "        async function convertToInteractive(key) {\n",
              "          const element = document.querySelector('#df-c3e60608-fa43-4c65-acd8-6a9629a6c8ba');\n",
              "          const dataTable =\n",
              "            await google.colab.kernel.invokeFunction('convertToInteractive',\n",
              "                                                     [key], {});\n",
              "          if (!dataTable) return;\n",
              "\n",
              "          const docLinkHtml = 'Like what you see? Visit the ' +\n",
              "            '<a target=\"_blank\" href=https://colab.research.google.com/notebooks/data_table.ipynb>data table notebook</a>'\n",
              "            + ' to learn more about interactive tables.';\n",
              "          element.innerHTML = '';\n",
              "          dataTable['output_type'] = 'display_data';\n",
              "          await google.colab.output.renderOutput(dataTable, element);\n",
              "          const docLink = document.createElement('div');\n",
              "          docLink.innerHTML = docLinkHtml;\n",
              "          element.appendChild(docLink);\n",
              "        }\n",
              "      </script>\n",
              "    </div>\n",
              "  </div>\n"
            ]
          },
          "metadata": {},
          "execution_count": 6
        }
      ],
      "source": [
        "letter_a_test"
      ]
    },
    {
      "cell_type": "code",
      "execution_count": 7,
      "id": "6c578c21",
      "metadata": {
        "id": "6c578c21"
      },
      "outputs": [],
      "source": [
        "target_col = \"letter_a\""
      ]
    },
    {
      "cell_type": "code",
      "execution_count": 8,
      "id": "f81307bb",
      "metadata": {
        "id": "f81307bb"
      },
      "outputs": [],
      "source": [
        "df_train = letter_a_train.copy()\n",
        "df_test  = letter_a_test.copy()"
      ]
    },
    {
      "cell_type": "code",
      "execution_count": 89,
      "id": "0b67cadd",
      "metadata": {
        "id": "0b67cadd"
      },
      "outputs": [],
      "source": [
        "X_test = df_test.drop(columns=target_col)\n",
        "y_test = df_test[target_col]"
      ]
    },
    {
      "cell_type": "markdown",
      "id": "ba761fea",
      "metadata": {
        "id": "ba761fea"
      },
      "source": [
        "## Lightgbm baseline"
      ]
    },
    {
      "cell_type": "code",
      "execution_count": 10,
      "id": "0f56e9dc",
      "metadata": {
        "id": "0f56e9dc"
      },
      "outputs": [],
      "source": [
        "X_train = df_train.drop(columns=target_col)\n",
        "y_train = df_train[target_col]"
      ]
    },
    {
      "cell_type": "code",
      "execution_count": 11,
      "id": "27659085",
      "metadata": {
        "colab": {
          "base_uri": "https://localhost:8080/",
          "height": 75
        },
        "id": "27659085",
        "outputId": "913421b8-e7f2-4b2e-8a70-0dad0214c848"
      },
      "outputs": [
        {
          "output_type": "execute_result",
          "data": {
            "text/plain": [
              "LGBMClassifier()"
            ],
            "text/html": [
              "<style>#sk-container-id-1 {color: black;background-color: white;}#sk-container-id-1 pre{padding: 0;}#sk-container-id-1 div.sk-toggleable {background-color: white;}#sk-container-id-1 label.sk-toggleable__label {cursor: pointer;display: block;width: 100%;margin-bottom: 0;padding: 0.3em;box-sizing: border-box;text-align: center;}#sk-container-id-1 label.sk-toggleable__label-arrow:before {content: \"▸\";float: left;margin-right: 0.25em;color: #696969;}#sk-container-id-1 label.sk-toggleable__label-arrow:hover:before {color: black;}#sk-container-id-1 div.sk-estimator:hover label.sk-toggleable__label-arrow:before {color: black;}#sk-container-id-1 div.sk-toggleable__content {max-height: 0;max-width: 0;overflow: hidden;text-align: left;background-color: #f0f8ff;}#sk-container-id-1 div.sk-toggleable__content pre {margin: 0.2em;color: black;border-radius: 0.25em;background-color: #f0f8ff;}#sk-container-id-1 input.sk-toggleable__control:checked~div.sk-toggleable__content {max-height: 200px;max-width: 100%;overflow: auto;}#sk-container-id-1 input.sk-toggleable__control:checked~label.sk-toggleable__label-arrow:before {content: \"▾\";}#sk-container-id-1 div.sk-estimator input.sk-toggleable__control:checked~label.sk-toggleable__label {background-color: #d4ebff;}#sk-container-id-1 div.sk-label input.sk-toggleable__control:checked~label.sk-toggleable__label {background-color: #d4ebff;}#sk-container-id-1 input.sk-hidden--visually {border: 0;clip: rect(1px 1px 1px 1px);clip: rect(1px, 1px, 1px, 1px);height: 1px;margin: -1px;overflow: hidden;padding: 0;position: absolute;width: 1px;}#sk-container-id-1 div.sk-estimator {font-family: monospace;background-color: #f0f8ff;border: 1px dotted black;border-radius: 0.25em;box-sizing: border-box;margin-bottom: 0.5em;}#sk-container-id-1 div.sk-estimator:hover {background-color: #d4ebff;}#sk-container-id-1 div.sk-parallel-item::after {content: \"\";width: 100%;border-bottom: 1px solid gray;flex-grow: 1;}#sk-container-id-1 div.sk-label:hover label.sk-toggleable__label {background-color: #d4ebff;}#sk-container-id-1 div.sk-serial::before {content: \"\";position: absolute;border-left: 1px solid gray;box-sizing: border-box;top: 0;bottom: 0;left: 50%;z-index: 0;}#sk-container-id-1 div.sk-serial {display: flex;flex-direction: column;align-items: center;background-color: white;padding-right: 0.2em;padding-left: 0.2em;position: relative;}#sk-container-id-1 div.sk-item {position: relative;z-index: 1;}#sk-container-id-1 div.sk-parallel {display: flex;align-items: stretch;justify-content: center;background-color: white;position: relative;}#sk-container-id-1 div.sk-item::before, #sk-container-id-1 div.sk-parallel-item::before {content: \"\";position: absolute;border-left: 1px solid gray;box-sizing: border-box;top: 0;bottom: 0;left: 50%;z-index: -1;}#sk-container-id-1 div.sk-parallel-item {display: flex;flex-direction: column;z-index: 1;position: relative;background-color: white;}#sk-container-id-1 div.sk-parallel-item:first-child::after {align-self: flex-end;width: 50%;}#sk-container-id-1 div.sk-parallel-item:last-child::after {align-self: flex-start;width: 50%;}#sk-container-id-1 div.sk-parallel-item:only-child::after {width: 0;}#sk-container-id-1 div.sk-dashed-wrapped {border: 1px dashed gray;margin: 0 0.4em 0.5em 0.4em;box-sizing: border-box;padding-bottom: 0.4em;background-color: white;}#sk-container-id-1 div.sk-label label {font-family: monospace;font-weight: bold;display: inline-block;line-height: 1.2em;}#sk-container-id-1 div.sk-label-container {text-align: center;}#sk-container-id-1 div.sk-container {/* jupyter's `normalize.less` sets `[hidden] { display: none; }` but bootstrap.min.css set `[hidden] { display: none !important; }` so we also need the `!important` here to be able to override the default hidden behavior on the sphinx rendered scikit-learn.org. See: https://github.com/scikit-learn/scikit-learn/issues/21755 */display: inline-block !important;position: relative;}#sk-container-id-1 div.sk-text-repr-fallback {display: none;}</style><div id=\"sk-container-id-1\" class=\"sk-top-container\"><div class=\"sk-text-repr-fallback\"><pre>LGBMClassifier()</pre><b>In a Jupyter environment, please rerun this cell to show the HTML representation or trust the notebook. <br />On GitHub, the HTML representation is unable to render, please try loading this page with nbviewer.org.</b></div><div class=\"sk-container\" hidden><div class=\"sk-item\"><div class=\"sk-estimator sk-toggleable\"><input class=\"sk-toggleable__control sk-hidden--visually\" id=\"sk-estimator-id-1\" type=\"checkbox\" checked><label for=\"sk-estimator-id-1\" class=\"sk-toggleable__label sk-toggleable__label-arrow\">LGBMClassifier</label><div class=\"sk-toggleable__content\"><pre>LGBMClassifier()</pre></div></div></div></div></div>"
            ]
          },
          "metadata": {},
          "execution_count": 11
        }
      ],
      "source": [
        "clf = lgb.LGBMClassifier()\n",
        "clf.fit(X_train, y_train)"
      ]
    },
    {
      "cell_type": "code",
      "execution_count": 12,
      "id": "fa2885fb",
      "metadata": {
        "id": "fa2885fb"
      },
      "outputs": [],
      "source": [
        "prediction_train = clf.predict(X_train)\n",
        "prediction_test = clf.predict(X_test)\n",
        "prediction_proba_train=clf.predict_proba(X_train)\n",
        "prediction_proba_test=clf.predict_proba(X_test)"
      ]
    },
    {
      "cell_type": "code",
      "execution_count": 13,
      "id": "eefa4317",
      "metadata": {
        "colab": {
          "base_uri": "https://localhost:8080/"
        },
        "id": "eefa4317",
        "outputId": "c368e189-1878-404b-881a-992ef47777a9"
      },
      "outputs": [
        {
          "output_type": "stream",
          "name": "stdout",
          "text": [
            "              precision    recall  f1-score   support\n",
            "\n",
            "           0       1.00      1.00      1.00      3851\n",
            "           1       0.99      0.97      0.98       149\n",
            "\n",
            "    accuracy                           1.00      4000\n",
            "   macro avg       0.99      0.99      0.99      4000\n",
            "weighted avg       1.00      1.00      1.00      4000\n",
            "\n",
            "              precision    recall  f1-score   support\n",
            "\n",
            "           0       1.00      1.00      1.00     15360\n",
            "           1       1.00      1.00      1.00       640\n",
            "\n",
            "    accuracy                           1.00     16000\n",
            "   macro avg       1.00      1.00      1.00     16000\n",
            "weighted avg       1.00      1.00      1.00     16000\n",
            "\n"
          ]
        }
      ],
      "source": [
        "print(classification_report(y_test,prediction_test,zero_division=True))\n",
        "print(classification_report(y_train,prediction_train,zero_division=True))"
      ]
    },
    {
      "cell_type": "code",
      "execution_count": 14,
      "id": "2ffc9199",
      "metadata": {
        "colab": {
          "base_uri": "https://localhost:8080/",
          "height": 482
        },
        "id": "2ffc9199",
        "outputId": "4be0ea83-f715-4801-dc99-09fafe47e17d"
      },
      "outputs": [
        {
          "output_type": "stream",
          "name": "stdout",
          "text": [
            "0.999968630130063\n"
          ]
        },
        {
          "output_type": "display_data",
          "data": {
            "text/plain": [
              "<Figure size 500x500 with 1 Axes>"
            ],
            "image/png": "[encoded data removed]"
          },
          "metadata": {}
        }
      ],
      "source": [
        "print(roc_auc_score(y_test, prediction_proba_test[:,1]))\n",
        "plot_sklearn_roc_curve(y_test,prediction_proba_test[:,1])"
      ]
    },
    {
      "cell_type": "markdown",
      "id": "db5276c6",
      "metadata": {
        "id": "db5276c6"
      },
      "source": [
        "## Upsample"
      ]
    },
    {
      "cell_type": "code",
      "execution_count": 15,
      "id": "2dbae142",
      "metadata": {
        "id": "2dbae142"
      },
      "outputs": [],
      "source": [
        "df_majority = df_train[(df_train[target_col]==0)]\n",
        "df_minority = df_train[(df_train[target_col]==1)]\n",
        "# upsample minority class\n",
        "df_minority_upsampled = resample(df_minority,\n",
        "                                 replace=True,    # sample with replacement\n",
        "                                 n_samples= df_majority.shape[0], # to match majority class\n",
        "                                 random_state=42)  # reproducible results\n",
        "# Combine majority class with upsampled minority class\n",
        "df_upsampled = pd.concat([df_minority_upsampled, df_majority])"
      ]
    },
    {
      "cell_type": "code",
      "execution_count": 133,
      "id": "c4f6d139",
      "metadata": {
        "colab": {
          "base_uri": "https://localhost:8080/"
        },
        "id": "c4f6d139",
        "outputId": "4068f0f2-abca-413b-a2b9-da43644cb7b6"
      },
      "outputs": [
        {
          "output_type": "execute_result",
          "data": {
            "text/plain": [
              "1    15360\n",
              "0    15360\n",
              "Name: letter_a, dtype: int64"
            ]
          },
          "metadata": {},
          "execution_count": 133
        }
      ],
      "source": [
        "df_upsampled.letter_a.value_counts()"
      ]
    },
    {
      "cell_type": "code",
      "execution_count": 17,
      "id": "5eb75a6b",
      "metadata": {
        "id": "5eb75a6b"
      },
      "outputs": [],
      "source": [
        "X_train = df_upsampled.drop(columns=target_col)\n",
        "y_train = df_upsampled[target_col]"
      ]
    },
    {
      "cell_type": "code",
      "execution_count": 18,
      "id": "28d83e99",
      "metadata": {
        "colab": {
          "base_uri": "https://localhost:8080/",
          "height": 75
        },
        "id": "28d83e99",
        "outputId": "0e6aff92-cf01-4388-ffd5-ecd05d9b35e7"
      },
      "outputs": [
        {
          "output_type": "execute_result",
          "data": {
            "text/plain": [
              "LGBMClassifier()"
            ],
            "text/html": [
              "<style>#sk-container-id-2 {color: black;background-color: white;}#sk-container-id-2 pre{padding: 0;}#sk-container-id-2 div.sk-toggleable {background-color: white;}#sk-container-id-2 label.sk-toggleable__label {cursor: pointer;display: block;width: 100%;margin-bottom: 0;padding: 0.3em;box-sizing: border-box;text-align: center;}#sk-container-id-2 label.sk-toggleable__label-arrow:before {content: \"▸\";float: left;margin-right: 0.25em;color: #696969;}#sk-container-id-2 label.sk-toggleable__label-arrow:hover:before {color: black;}#sk-container-id-2 div.sk-estimator:hover label.sk-toggleable__label-arrow:before {color: black;}#sk-container-id-2 div.sk-toggleable__content {max-height: 0;max-width: 0;overflow: hidden;text-align: left;background-color: #f0f8ff;}#sk-container-id-2 div.sk-toggleable__content pre {margin: 0.2em;color: black;border-radius: 0.25em;background-color: #f0f8ff;}#sk-container-id-2 input.sk-toggleable__control:checked~div.sk-toggleable__content {max-height: 200px;max-width: 100%;overflow: auto;}#sk-container-id-2 input.sk-toggleable__control:checked~label.sk-toggleable__label-arrow:before {content: \"▾\";}#sk-container-id-2 div.sk-estimator input.sk-toggleable__control:checked~label.sk-toggleable__label {background-color: #d4ebff;}#sk-container-id-2 div.sk-label input.sk-toggleable__control:checked~label.sk-toggleable__label {background-color: #d4ebff;}#sk-container-id-2 input.sk-hidden--visually {border: 0;clip: rect(1px 1px 1px 1px);clip: rect(1px, 1px, 1px, 1px);height: 1px;margin: -1px;overflow: hidden;padding: 0;position: absolute;width: 1px;}#sk-container-id-2 div.sk-estimator {font-family: monospace;background-color: #f0f8ff;border: 1px dotted black;border-radius: 0.25em;box-sizing: border-box;margin-bottom: 0.5em;}#sk-container-id-2 div.sk-estimator:hover {background-color: #d4ebff;}#sk-container-id-2 div.sk-parallel-item::after {content: \"\";width: 100%;border-bottom: 1px solid gray;flex-grow: 1;}#sk-container-id-2 div.sk-label:hover label.sk-toggleable__label {background-color: #d4ebff;}#sk-container-id-2 div.sk-serial::before {content: \"\";position: absolute;border-left: 1px solid gray;box-sizing: border-box;top: 0;bottom: 0;left: 50%;z-index: 0;}#sk-container-id-2 div.sk-serial {display: flex;flex-direction: column;align-items: center;background-color: white;padding-right: 0.2em;padding-left: 0.2em;position: relative;}#sk-container-id-2 div.sk-item {position: relative;z-index: 1;}#sk-container-id-2 div.sk-parallel {display: flex;align-items: stretch;justify-content: center;background-color: white;position: relative;}#sk-container-id-2 div.sk-item::before, #sk-container-id-2 div.sk-parallel-item::before {content: \"\";position: absolute;border-left: 1px solid gray;box-sizing: border-box;top: 0;bottom: 0;left: 50%;z-index: -1;}#sk-container-id-2 div.sk-parallel-item {display: flex;flex-direction: column;z-index: 1;position: relative;background-color: white;}#sk-container-id-2 div.sk-parallel-item:first-child::after {align-self: flex-end;width: 50%;}#sk-container-id-2 div.sk-parallel-item:last-child::after {align-self: flex-start;width: 50%;}#sk-container-id-2 div.sk-parallel-item:only-child::after {width: 0;}#sk-container-id-2 div.sk-dashed-wrapped {border: 1px dashed gray;margin: 0 0.4em 0.5em 0.4em;box-sizing: border-box;padding-bottom: 0.4em;background-color: white;}#sk-container-id-2 div.sk-label label {font-family: monospace;font-weight: bold;display: inline-block;line-height: 1.2em;}#sk-container-id-2 div.sk-label-container {text-align: center;}#sk-container-id-2 div.sk-container {/* jupyter's `normalize.less` sets `[hidden] { display: none; }` but bootstrap.min.css set `[hidden] { display: none !important; }` so we also need the `!important` here to be able to override the default hidden behavior on the sphinx rendered scikit-learn.org. See: https://github.com/scikit-learn/scikit-learn/issues/21755 */display: inline-block !important;position: relative;}#sk-container-id-2 div.sk-text-repr-fallback {display: none;}</style><div id=\"sk-container-id-2\" class=\"sk-top-container\"><div class=\"sk-text-repr-fallback\"><pre>LGBMClassifier()</pre><b>In a Jupyter environment, please rerun this cell to show the HTML representation or trust the notebook. <br />On GitHub, the HTML representation is unable to render, please try loading this page with nbviewer.org.</b></div><div class=\"sk-container\" hidden><div class=\"sk-item\"><div class=\"sk-estimator sk-toggleable\"><input class=\"sk-toggleable__control sk-hidden--visually\" id=\"sk-estimator-id-2\" type=\"checkbox\" checked><label for=\"sk-estimator-id-2\" class=\"sk-toggleable__label sk-toggleable__label-arrow\">LGBMClassifier</label><div class=\"sk-toggleable__content\"><pre>LGBMClassifier()</pre></div></div></div></div></div>"
            ]
          },
          "metadata": {},
          "execution_count": 18
        }
      ],
      "source": [
        "clf = lgb.LGBMClassifier()\n",
        "clf.fit(X_train, y_train)"
      ]
    },
    {
      "cell_type": "code",
      "execution_count": 19,
      "id": "9f188815",
      "metadata": {
        "id": "9f188815"
      },
      "outputs": [],
      "source": [
        "prediction_train = clf.predict(X_train)\n",
        "prediction_test = clf.predict(X_test)\n",
        "prediction_proba_train=clf.predict_proba(X_train)\n",
        "prediction_proba_test=clf.predict_proba(X_test)"
      ]
    },
    {
      "cell_type": "code",
      "execution_count": 20,
      "id": "53d9737c",
      "metadata": {
        "colab": {
          "base_uri": "https://localhost:8080/"
        },
        "id": "53d9737c",
        "outputId": "97e45095-46f4-44bc-8d44-04c31440e19a"
      },
      "outputs": [
        {
          "output_type": "stream",
          "name": "stdout",
          "text": [
            "              precision    recall  f1-score   support\n",
            "\n",
            "           0       1.00      1.00      1.00      3851\n",
            "           1       0.99      0.99      0.99       149\n",
            "\n",
            "    accuracy                           1.00      4000\n",
            "   macro avg       0.99      0.99      0.99      4000\n",
            "weighted avg       1.00      1.00      1.00      4000\n",
            "\n",
            "              precision    recall  f1-score   support\n",
            "\n",
            "           0       1.00      1.00      1.00     15360\n",
            "           1       1.00      1.00      1.00     15360\n",
            "\n",
            "    accuracy                           1.00     30720\n",
            "   macro avg       1.00      1.00      1.00     30720\n",
            "weighted avg       1.00      1.00      1.00     30720\n",
            "\n"
          ]
        }
      ],
      "source": [
        "print(classification_report(y_test,prediction_test,zero_division=True))\n",
        "print(classification_report(y_train,prediction_train,zero_division=True))"
      ]
    },
    {
      "cell_type": "code",
      "execution_count": 21,
      "id": "fc07775e",
      "metadata": {
        "colab": {
          "base_uri": "https://localhost:8080/",
          "height": 482
        },
        "id": "fc07775e",
        "outputId": "29c18cb3-b452-4d6c-a46c-f5ab4d6921b1"
      },
      "outputs": [
        {
          "output_type": "stream",
          "name": "stdout",
          "text": [
            "0.9999512024245424\n"
          ]
        },
        {
          "output_type": "display_data",
          "data": {
            "text/plain": [
              "<Figure size 500x500 with 1 Axes>"
            ],
            "image/png": "[encoded data removed]"
          },
          "metadata": {}
        }
      ],
      "source": [
        "print(roc_auc_score(y_test, prediction_proba_test[:,1]))\n",
        "plot_sklearn_roc_curve(y_test,prediction_proba_test[:,1])"
      ]
    },
    {
      "cell_type": "markdown",
      "id": "4c5647eb",
      "metadata": {
        "id": "4c5647eb"
      },
      "source": [
        "## Downsampling"
      ]
    },
    {
      "cell_type": "code",
      "execution_count": 22,
      "id": "4363ec23",
      "metadata": {
        "id": "4363ec23"
      },
      "outputs": [],
      "source": [
        "df_majority = df_train[(df_train[target_col]==0)]\n",
        "df_minority = df_train[(df_train[target_col]==1)]\n",
        "# downsample majority class\n",
        "df_majority_upsampled = resample(df_majority,\n",
        "                                 replace=False,    # sample with replacement\n",
        "                                 n_samples= df_minority.shape[0], # to match majority class\n",
        "                                 random_state=42)  # reproducible results\n",
        "# Combine majority class with upsampled minority class\n",
        "df_downsampled = pd.concat([df_minority, df_majority_upsampled])"
      ]
    },
    {
      "cell_type": "code",
      "execution_count": 23,
      "id": "471dfdb5",
      "metadata": {
        "colab": {
          "base_uri": "https://localhost:8080/",
          "height": 424
        },
        "id": "471dfdb5",
        "outputId": "29cae595-e73b-40b2-cb95-79f745731893"
      },
      "outputs": [
        {
          "output_type": "execute_result",
          "data": {
            "text/plain": [
              "       x-box  y-box  width  high   onpix  x-bar  y-bar  x2bar  y2bar  xybar  \\\n",
              "23         2      2      4      3      1      6      2      2      2      5   \n",
              "65         3      6      6      4      3      7      5      2      3      6   \n",
              "71         3      7      6      5      4      5      5      3      3      3   \n",
              "73         3      8      5      6      3     12      3      2      2     10   \n",
              "80         4     11      6      8      5      7      4      2      1      7   \n",
              "...      ...    ...    ...    ...    ...    ...    ...    ...    ...    ...   \n",
              "11674      1      1      2      1      0      3     12      4      3     11   \n",
              "5824       3      5      5      4      2      7      7      3      8     11   \n",
              "3571       5      9      5      7      3      4     12      1      2      8   \n",
              "10179      3      5      5      8      3     11      5      3      5     10   \n",
              "7954       5      9      5      4      4      9      7      4      6     10   \n",
              "\n",
              "       x2ybr  xy2br  x-ege  xegvy  y-ege  yegvx  letter_a  \n",
              "23         2      8      2      6      2      6         1  \n",
              "65         2      6      2      6      3      5         1  \n",
              "71         2      6      4      6      4      4         1  \n",
              "73         2      9      2      6      2      8         1  \n",
              "80         1      8      2      7      2      7         1  \n",
              "...      ...    ...    ...    ...    ...    ...       ...  \n",
              "11674      9      6      0      8      2      7         0  \n",
              "5824       5      7      1      8      4      8         0  \n",
              "3571      10      7      3     10      1      7         0  \n",
              "10179      2      7      2      7      5     11         0  \n",
              "7954       2      6      5      5      5      6         0  \n",
              "\n",
              "[1280 rows x 17 columns]"
            ],
            "text/html": [
              "\n",
              "\n",
              "  <div id=\"df-0ab4f8a4-edbe-4cc7-bcf6-d299c62274a9\">\n",
              "    <div class=\"colab-df-container\">\n",
              "      <div>\n",
              "<style scoped>\n",
              "    .dataframe tbody tr th:only-of-type {\n",
              "        vertical-align: middle;\n",
              "    }\n",
              "\n",
              "    .dataframe tbody tr th {\n",
              "        vertical-align: top;\n",
              "    }\n",
              "\n",
              "    .dataframe thead th {\n",
              "        text-align: right;\n",
              "    }\n",
              "</style>\n",
              "<table border=\"1\" class=\"dataframe\">\n",
              "  <thead>\n",
              "    <tr style=\"text-align: right;\">\n",
              "      <th></th>\n",
              "      <th>x-box</th>\n",
              "      <th>y-box</th>\n",
              "      <th>width</th>\n",
              "      <th>high</th>\n",
              "      <th>onpix</th>\n",
              "      <th>x-bar</th>\n",
              "      <th>y-bar</th>\n",
              "      <th>x2bar</th>\n",
              "      <th>y2bar</th>\n",
              "      <th>xybar</th>\n",
              "      <th>x2ybr</th>\n",
              "      <th>xy2br</th>\n",
              "      <th>x-ege</th>\n",
              "      <th>xegvy</th>\n",
              "      <th>y-ege</th>\n",
              "      <th>yegvx</th>\n",
              "      <th>letter_a</th>\n",
              "    </tr>\n",
              "  </thead>\n",
              "  <tbody>\n",
              "    <tr>\n",
              "      <th>23</th>\n",
              "      <td>2</td>\n",
              "      <td>2</td>\n",
              "      <td>4</td>\n",
              "      <td>3</td>\n",
              "      <td>1</td>\n",
              "      <td>6</td>\n",
              "      <td>2</td>\n",
              "      <td>2</td>\n",
              "      <td>2</td>\n",
              "      <td>5</td>\n",
              "      <td>2</td>\n",
              "      <td>8</td>\n",
              "      <td>2</td>\n",
              "      <td>6</td>\n",
              "      <td>2</td>\n",
              "      <td>6</td>\n",
              "      <td>1</td>\n",
              "    </tr>\n",
              "    <tr>\n",
              "      <th>65</th>\n",
              "      <td>3</td>\n",
              "      <td>6</td>\n",
              "      <td>6</td>\n",
              "      <td>4</td>\n",
              "      <td>3</td>\n",
              "      <td>7</td>\n",
              "      <td>5</td>\n",
              "      <td>2</td>\n",
              "      <td>3</td>\n",
              "      <td>6</td>\n",
              "      <td>2</td>\n",
              "      <td>6</td>\n",
              "      <td>2</td>\n",
              "      <td>6</td>\n",
              "      <td>3</td>\n",
              "      <td>5</td>\n",
              "      <td>1</td>\n",
              "    </tr>\n",
              "    <tr>\n",
              "      <th>71</th>\n",
              "      <td>3</td>\n",
              "      <td>7</td>\n",
              "      <td>6</td>\n",
              "      <td>5</td>\n",
              "      <td>4</td>\n",
              "      <td>5</td>\n",
              "      <td>5</td>\n",
              "      <td>3</td>\n",
              "      <td>3</td>\n",
              "      <td>3</td>\n",
              "      <td>2</td>\n",
              "      <td>6</td>\n",
              "      <td>4</td>\n",
              "      <td>6</td>\n",
              "      <td>4</td>\n",
              "      <td>4</td>\n",
              "      <td>1</td>\n",
              "    </tr>\n",
              "    <tr>\n",
              "      <th>73</th>\n",
              "      <td>3</td>\n",
              "      <td>8</td>\n",
              "      <td>5</td>\n",
              "      <td>6</td>\n",
              "      <td>3</td>\n",
              "      <td>12</td>\n",
              "      <td>3</td>\n",
              "      <td>2</td>\n",
              "      <td>2</td>\n",
              "      <td>10</td>\n",
              "      <td>2</td>\n",
              "      <td>9</td>\n",
              "      <td>2</td>\n",
              "      <td>6</td>\n",
              "      <td>2</td>\n",
              "      <td>8</td>\n",
              "      <td>1</td>\n",
              "    </tr>\n",
              "    <tr>\n",
              "      <th>80</th>\n",
              "      <td>4</td>\n",
              "      <td>11</td>\n",
              "      <td>6</td>\n",
              "      <td>8</td>\n",
              "      <td>5</td>\n",
              "      <td>7</td>\n",
              "      <td>4</td>\n",
              "      <td>2</td>\n",
              "      <td>1</td>\n",
              "      <td>7</td>\n",
              "      <td>1</td>\n",
              "      <td>8</td>\n",
              "      <td>2</td>\n",
              "      <td>7</td>\n",
              "      <td>2</td>\n",
              "      <td>7</td>\n",
              "      <td>1</td>\n",
              "    </tr>\n",
              "    <tr>\n",
              "      <th>...</th>\n",
              "      <td>...</td>\n",
              "      <td>...</td>\n",
              "      <td>...</td>\n",
              "      <td>...</td>\n",
              "      <td>...</td>\n",
              "      <td>...</td>\n",
              "      <td>...</td>\n",
              "      <td>...</td>\n",
              "      <td>...</td>\n",
              "      <td>...</td>\n",
              "      <td>...</td>\n",
              "      <td>...</td>\n",
              "      <td>...</td>\n",
              "      <td>...</td>\n",
              "      <td>...</td>\n",
              "      <td>...</td>\n",
              "      <td>...</td>\n",
              "    </tr>\n",
              "    <tr>\n",
              "      <th>11674</th>\n",
              "      <td>1</td>\n",
              "      <td>1</td>\n",
              "      <td>2</td>\n",
              "      <td>1</td>\n",
              "      <td>0</td>\n",
              "      <td>3</td>\n",
              "      <td>12</td>\n",
              "      <td>4</td>\n",
              "      <td>3</td>\n",
              "      <td>11</td>\n",
              "      <td>9</td>\n",
              "      <td>6</td>\n",
              "      <td>0</td>\n",
              "      <td>8</td>\n",
              "      <td>2</td>\n",
              "      <td>7</td>\n",
              "      <td>0</td>\n",
              "    </tr>\n",
              "    <tr>\n",
              "      <th>5824</th>\n",
              "      <td>3</td>\n",
              "      <td>5</td>\n",
              "      <td>5</td>\n",
              "      <td>4</td>\n",
              "      <td>2</td>\n",
              "      <td>7</td>\n",
              "      <td>7</td>\n",
              "      <td>3</td>\n",
              "      <td>8</td>\n",
              "      <td>11</td>\n",
              "      <td>5</td>\n",
              "      <td>7</td>\n",
              "      <td>1</td>\n",
              "      <td>8</td>\n",
              "      <td>4</td>\n",
              "      <td>8</td>\n",
              "      <td>0</td>\n",
              "    </tr>\n",
              "    <tr>\n",
              "      <th>3571</th>\n",
              "      <td>5</td>\n",
              "      <td>9</td>\n",
              "      <td>5</td>\n",
              "      <td>7</td>\n",
              "      <td>3</td>\n",
              "      <td>4</td>\n",
              "      <td>12</td>\n",
              "      <td>1</td>\n",
              "      <td>2</td>\n",
              "      <td>8</td>\n",
              "      <td>10</td>\n",
              "      <td>7</td>\n",
              "      <td>3</td>\n",
              "      <td>10</td>\n",
              "      <td>1</td>\n",
              "      <td>7</td>\n",
              "      <td>0</td>\n",
              "    </tr>\n",
              "    <tr>\n",
              "      <th>10179</th>\n",
              "      <td>3</td>\n",
              "      <td>5</td>\n",
              "      <td>5</td>\n",
              "      <td>8</td>\n",
              "      <td>3</td>\n",
              "      <td>11</td>\n",
              "      <td>5</td>\n",
              "      <td>3</td>\n",
              "      <td>5</td>\n",
              "      <td>10</td>\n",
              "      <td>2</td>\n",
              "      <td>7</td>\n",
              "      <td>2</td>\n",
              "      <td>7</td>\n",
              "      <td>5</td>\n",
              "      <td>11</td>\n",
              "      <td>0</td>\n",
              "    </tr>\n",
              "    <tr>\n",
              "      <th>7954</th>\n",
              "      <td>5</td>\n",
              "      <td>9</td>\n",
              "      <td>5</td>\n",
              "      <td>4</td>\n",
              "      <td>4</td>\n",
              "      <td>9</td>\n",
              "      <td>7</td>\n",
              "      <td>4</td>\n",
              "      <td>6</td>\n",
              "      <td>10</td>\n",
              "      <td>2</td>\n",
              "      <td>6</td>\n",
              "      <td>5</td>\n",
              "      <td>5</td>\n",
              "      <td>5</td>\n",
              "      <td>6</td>\n",
              "      <td>0</td>\n",
              "    </tr>\n",
              "  </tbody>\n",
              "</table>\n",
              "<p>1280 rows × 17 columns</p>\n",
              "</div>\n",
              "      <button class=\"colab-df-convert\" onclick=\"convertToInteractive('df-0ab4f8a4-edbe-4cc7-bcf6-d299c62274a9')\"\n",
              "              title=\"Convert this dataframe to an interactive table.\"\n",
              "              style=\"display:none;\">\n",
              "\n",
              "  <svg xmlns=\"http://www.w3.org/2000/svg\" height=\"24px\"viewBox=\"0 0 24 24\"\n",
              "       width=\"24px\">\n",
              "    <path d=\"M0 0h24v24H0V0z\" fill=\"none\"/>\n",
              "    <path d=\"M18.56 5.44l.94 2.06.94-2.06 2.06-.94-2.06-.94-.94-2.06-.94 2.06-2.06.94zm-11 1L8.5 8.5l.94-2.06 2.06-.94-2.06-.94L8.5 2.5l-.94 2.06-2.06.94zm10 10l.94 2.06.94-2.06 2.06-.94-2.06-.94-.94-2.06-.94 2.06-2.06.94z\"/><path d=\"M17.41 7.96l-1.37-1.37c-.4-.4-.92-.59-1.43-.59-.52 0-1.04.2-1.43.59L10.3 9.45l-7.72 7.72c-.78.78-.78 2.05 0 2.83L4 21.41c.39.39.9.59 1.41.59.51 0 1.02-.2 1.41-.59l7.78-7.78 2.81-2.81c.8-.78.8-2.07 0-2.86zM5.41 20L4 18.59l7.72-7.72 1.47 1.35L5.41 20z\"/>\n",
              "  </svg>\n",
              "      </button>\n",
              "\n",
              "\n",
              "\n",
              "    <div id=\"df-6b0deb53-e619-45b5-84a7-ed1a7ea0eb6f\">\n",
              "      <button class=\"colab-df-quickchart\" onclick=\"quickchart('df-6b0deb53-e619-45b5-84a7-ed1a7ea0eb6f')\"\n",
              "              title=\"Suggest charts.\"\n",
              "              style=\"display:none;\">\n",
              "\n",
              "<svg xmlns=\"http://www.w3.org/2000/svg\" height=\"24px\"viewBox=\"0 0 24 24\"\n",
              "     width=\"24px\">\n",
              "    <g>\n",
              "        <path d=\"M19 3H5c-1.1 0-2 .9-2 2v14c0 1.1.9 2 2 2h14c1.1 0 2-.9 2-2V5c0-1.1-.9-2-2-2zM9 17H7v-7h2v7zm4 0h-2V7h2v10zm4 0h-2v-4h2v4z\"/>\n",
              "    </g>\n",
              "</svg>\n",
              "      </button>\n",
              "    </div>\n",
              "\n",
              "<style>\n",
              "  .colab-df-quickchart {\n",
              "    background-color: #E8F0FE;\n",
              "    border: none;\n",
              "    border-radius: 50%;\n",
              "    cursor: pointer;\n",
              "    display: none;\n",
              "    fill: #1967D2;\n",
              "    height: 32px;\n",
              "    padding: 0 0 0 0;\n",
              "    width: 32px;\n",
              "  }\n",
              "\n",
              "  .colab-df-quickchart:hover {\n",
              "    background-color: #E2EBFA;\n",
              "    box-shadow: 0px 1px 2px rgba(60, 64, 67, 0.3), 0px 1px 3px 1px rgba(60, 64, 67, 0.15);\n",
              "    fill: #174EA6;\n",
              "  }\n",
              "\n",
              "  [theme=dark] .colab-df-quickchart {\n",
              "    background-color: #3B4455;\n",
              "    fill: #D2E3FC;\n",
              "  }\n",
              "\n",
              "  [theme=dark] .colab-df-quickchart:hover {\n",
              "    background-color: #434B5C;\n",
              "    box-shadow: 0px 1px 3px 1px rgba(0, 0, 0, 0.15);\n",
              "    filter: drop-shadow(0px 1px 2px rgba(0, 0, 0, 0.3));\n",
              "    fill: #FFFFFF;\n",
              "  }\n",
              "</style>\n",
              "\n",
              "    <script>\n",
              "      async function quickchart(key) {\n",
              "        const containerElement = document.querySelector('#' + key);\n",
              "        const charts = await google.colab.kernel.invokeFunction(\n",
              "            'suggestCharts', [key], {});\n",
              "      }\n",
              "    </script>\n",
              "\n",
              "      <script>\n",
              "\n",
              "function displayQuickchartButton(domScope) {\n",
              "  let quickchartButtonEl =\n",
              "    domScope.querySelector('#df-6b0deb53-e619-45b5-84a7-ed1a7ea0eb6f button.colab-df-quickchart');\n",
              "  quickchartButtonEl.style.display =\n",
              "    google.colab.kernel.accessAllowed ? 'block' : 'none';\n",
              "}\n",
              "\n",
              "        displayQuickchartButton(document);\n",
              "      </script>\n",
              "      <style>\n",
              "    .colab-df-container {\n",
              "      display:flex;\n",
              "      flex-wrap:wrap;\n",
              "      gap: 12px;\n",
              "    }\n",
              "\n",
              "    .colab-df-convert {\n",
              "      background-color: #E8F0FE;\n",
              "      border: none;\n",
              "      border-radius: 50%;\n",
              "      cursor: pointer;\n",
              "      display: none;\n",
              "      fill: #1967D2;\n",
              "      height: 32px;\n",
              "      padding: 0 0 0 0;\n",
              "      width: 32px;\n",
              "    }\n",
              "\n",
              "    .colab-df-convert:hover {\n",
              "      background-color: #E2EBFA;\n",
              "      box-shadow: 0px 1px 2px rgba(60, 64, 67, 0.3), 0px 1px 3px 1px rgba(60, 64, 67, 0.15);\n",
              "      fill: #174EA6;\n",
              "    }\n",
              "\n",
              "    [theme=dark] .colab-df-convert {\n",
              "      background-color: #3B4455;\n",
              "      fill: #D2E3FC;\n",
              "    }\n",
              "\n",
              "    [theme=dark] .colab-df-convert:hover {\n",
              "      background-color: #434B5C;\n",
              "      box-shadow: 0px 1px 3px 1px rgba(0, 0, 0, 0.15);\n",
              "      filter: drop-shadow(0px 1px 2px rgba(0, 0, 0, 0.3));\n",
              "      fill: #FFFFFF;\n",
              "    }\n",
              "  </style>\n",
              "\n",
              "      <script>\n",
              "        const buttonEl =\n",
              "          document.querySelector('#df-0ab4f8a4-edbe-4cc7-bcf6-d299c62274a9 button.colab-df-convert');\n",
              "        buttonEl.style.display =\n",
              "          google.colab.kernel.accessAllowed ? 'block' : 'none';\n",
              "\n",
              "        async function convertToInteractive(key) {\n",
              "          const element = document.querySelector('#df-0ab4f8a4-edbe-4cc7-bcf6-d299c62274a9');\n",
              "          const dataTable =\n",
              "            await google.colab.kernel.invokeFunction('convertToInteractive',\n",
              "                                                     [key], {});\n",
              "          if (!dataTable) return;\n",
              "\n",
              "          const docLinkHtml = 'Like what you see? Visit the ' +\n",
              "            '<a target=\"_blank\" href=https://colab.research.google.com/notebooks/data_table.ipynb>data table notebook</a>'\n",
              "            + ' to learn more about interactive tables.';\n",
              "          element.innerHTML = '';\n",
              "          dataTable['output_type'] = 'display_data';\n",
              "          await google.colab.output.renderOutput(dataTable, element);\n",
              "          const docLink = document.createElement('div');\n",
              "          docLink.innerHTML = docLinkHtml;\n",
              "          element.appendChild(docLink);\n",
              "        }\n",
              "      </script>\n",
              "    </div>\n",
              "  </div>\n"
            ]
          },
          "metadata": {},
          "execution_count": 23
        }
      ],
      "source": [
        "df_downsampled"
      ]
    },
    {
      "cell_type": "code",
      "execution_count": 30,
      "id": "acfe68fb",
      "metadata": {
        "id": "acfe68fb"
      },
      "outputs": [],
      "source": [
        "X_train = df_downsampled.drop(columns=target_col)\n",
        "y_train = df_downsampled[target_col]"
      ]
    },
    {
      "cell_type": "code",
      "execution_count": 25,
      "id": "03cafb78",
      "metadata": {
        "colab": {
          "base_uri": "https://localhost:8080/",
          "height": 75
        },
        "id": "03cafb78",
        "outputId": "2a366302-efef-497c-a983-865e4148bf70"
      },
      "outputs": [
        {
          "output_type": "execute_result",
          "data": {
            "text/plain": [
              "LGBMClassifier()"
            ],
            "text/html": [
              "<style>#sk-container-id-3 {color: black;background-color: white;}#sk-container-id-3 pre{padding: 0;}#sk-container-id-3 div.sk-toggleable {background-color: white;}#sk-container-id-3 label.sk-toggleable__label {cursor: pointer;display: block;width: 100%;margin-bottom: 0;padding: 0.3em;box-sizing: border-box;text-align: center;}#sk-container-id-3 label.sk-toggleable__label-arrow:before {content: \"▸\";float: left;margin-right: 0.25em;color: #696969;}#sk-container-id-3 label.sk-toggleable__label-arrow:hover:before {color: black;}#sk-container-id-3 div.sk-estimator:hover label.sk-toggleable__label-arrow:before {color: black;}#sk-container-id-3 div.sk-toggleable__content {max-height: 0;max-width: 0;overflow: hidden;text-align: left;background-color: #f0f8ff;}#sk-container-id-3 div.sk-toggleable__content pre {margin: 0.2em;color: black;border-radius: 0.25em;background-color: #f0f8ff;}#sk-container-id-3 input.sk-toggleable__control:checked~div.sk-toggleable__content {max-height: 200px;max-width: 100%;overflow: auto;}#sk-container-id-3 input.sk-toggleable__control:checked~label.sk-toggleable__label-arrow:before {content: \"▾\";}#sk-container-id-3 div.sk-estimator input.sk-toggleable__control:checked~label.sk-toggleable__label {background-color: #d4ebff;}#sk-container-id-3 div.sk-label input.sk-toggleable__control:checked~label.sk-toggleable__label {background-color: #d4ebff;}#sk-container-id-3 input.sk-hidden--visually {border: 0;clip: rect(1px 1px 1px 1px);clip: rect(1px, 1px, 1px, 1px);height: 1px;margin: -1px;overflow: hidden;padding: 0;position: absolute;width: 1px;}#sk-container-id-3 div.sk-estimator {font-family: monospace;background-color: #f0f8ff;border: 1px dotted black;border-radius: 0.25em;box-sizing: border-box;margin-bottom: 0.5em;}#sk-container-id-3 div.sk-estimator:hover {background-color: #d4ebff;}#sk-container-id-3 div.sk-parallel-item::after {content: \"\";width: 100%;border-bottom: 1px solid gray;flex-grow: 1;}#sk-container-id-3 div.sk-label:hover label.sk-toggleable__label {background-color: #d4ebff;}#sk-container-id-3 div.sk-serial::before {content: \"\";position: absolute;border-left: 1px solid gray;box-sizing: border-box;top: 0;bottom: 0;left: 50%;z-index: 0;}#sk-container-id-3 div.sk-serial {display: flex;flex-direction: column;align-items: center;background-color: white;padding-right: 0.2em;padding-left: 0.2em;position: relative;}#sk-container-id-3 div.sk-item {position: relative;z-index: 1;}#sk-container-id-3 div.sk-parallel {display: flex;align-items: stretch;justify-content: center;background-color: white;position: relative;}#sk-container-id-3 div.sk-item::before, #sk-container-id-3 div.sk-parallel-item::before {content: \"\";position: absolute;border-left: 1px solid gray;box-sizing: border-box;top: 0;bottom: 0;left: 50%;z-index: -1;}#sk-container-id-3 div.sk-parallel-item {display: flex;flex-direction: column;z-index: 1;position: relative;background-color: white;}#sk-container-id-3 div.sk-parallel-item:first-child::after {align-self: flex-end;width: 50%;}#sk-container-id-3 div.sk-parallel-item:last-child::after {align-self: flex-start;width: 50%;}#sk-container-id-3 div.sk-parallel-item:only-child::after {width: 0;}#sk-container-id-3 div.sk-dashed-wrapped {border: 1px dashed gray;margin: 0 0.4em 0.5em 0.4em;box-sizing: border-box;padding-bottom: 0.4em;background-color: white;}#sk-container-id-3 div.sk-label label {font-family: monospace;font-weight: bold;display: inline-block;line-height: 1.2em;}#sk-container-id-3 div.sk-label-container {text-align: center;}#sk-container-id-3 div.sk-container {/* jupyter's `normalize.less` sets `[hidden] { display: none; }` but bootstrap.min.css set `[hidden] { display: none !important; }` so we also need the `!important` here to be able to override the default hidden behavior on the sphinx rendered scikit-learn.org. See: https://github.com/scikit-learn/scikit-learn/issues/21755 */display: inline-block !important;position: relative;}#sk-container-id-3 div.sk-text-repr-fallback {display: none;}</style><div id=\"sk-container-id-3\" class=\"sk-top-container\"><div class=\"sk-text-repr-fallback\"><pre>LGBMClassifier()</pre><b>In a Jupyter environment, please rerun this cell to show the HTML representation or trust the notebook. <br />On GitHub, the HTML representation is unable to render, please try loading this page with nbviewer.org.</b></div><div class=\"sk-container\" hidden><div class=\"sk-item\"><div class=\"sk-estimator sk-toggleable\"><input class=\"sk-toggleable__control sk-hidden--visually\" id=\"sk-estimator-id-3\" type=\"checkbox\" checked><label for=\"sk-estimator-id-3\" class=\"sk-toggleable__label sk-toggleable__label-arrow\">LGBMClassifier</label><div class=\"sk-toggleable__content\"><pre>LGBMClassifier()</pre></div></div></div></div></div>"
            ]
          },
          "metadata": {},
          "execution_count": 25
        }
      ],
      "source": [
        "clf = lgb.LGBMClassifier()\n",
        "clf.fit(X_train, y_train)"
      ]
    },
    {
      "cell_type": "code",
      "execution_count": 26,
      "id": "107159da",
      "metadata": {
        "id": "107159da"
      },
      "outputs": [],
      "source": [
        "prediction_train = clf.predict(X_train)\n",
        "prediction_test = clf.predict(X_test)\n",
        "prediction_proba_train=clf.predict_proba(X_train)\n",
        "prediction_proba_test=clf.predict_proba(X_test)"
      ]
    },
    {
      "cell_type": "code",
      "execution_count": 41,
      "id": "8c380ac4",
      "metadata": {
        "colab": {
          "base_uri": "https://localhost:8080/"
        },
        "id": "8c380ac4",
        "outputId": "21ac3f6a-7c11-4907-f92e-f5a57ac89ce4"
      },
      "outputs": [
        {
          "output_type": "stream",
          "name": "stdout",
          "text": [
            "              precision    recall  f1-score   support\n",
            "\n",
            "           0       1.00      1.00      1.00      3851\n",
            "           1       0.98      0.99      0.99       149\n",
            "\n",
            "    accuracy                           1.00      4000\n",
            "   macro avg       0.99      1.00      0.99      4000\n",
            "weighted avg       1.00      1.00      1.00      4000\n",
            "\n",
            "              precision    recall  f1-score   support\n",
            "\n",
            "           0       1.00      1.00      1.00     15360\n",
            "           1       1.00      1.00      1.00     15360\n",
            "\n",
            "    accuracy                           1.00     30720\n",
            "   macro avg       1.00      1.00      1.00     30720\n",
            "weighted avg       1.00      1.00      1.00     30720\n",
            "\n"
          ]
        }
      ],
      "source": [
        "print(classification_report(y_test,prediction_test,zero_division=True))\n",
        "print(classification_report(y_train,prediction_train,zero_division=True))"
      ]
    },
    {
      "cell_type": "code",
      "execution_count": 43,
      "id": "d897f757",
      "metadata": {
        "colab": {
          "base_uri": "https://localhost:8080/",
          "height": 482
        },
        "id": "d897f757",
        "outputId": "9ccbb49c-b721-49d8-ac83-dcba8b8c1fa7"
      },
      "outputs": [
        {
          "output_type": "stream",
          "name": "stdout",
          "text": [
            "0.9999529451950944\n"
          ]
        },
        {
          "output_type": "display_data",
          "data": {
            "text/plain": [
              "<Figure size 500x500 with 1 Axes>"
            ],
            "image/png": "[encoded data removed]"
          },
          "metadata": {}
        }
      ],
      "source": [
        "print(roc_auc_score(y_test, prediction_proba_test[:,1]))\n",
        "plot_sklearn_roc_curve(y_test,prediction_proba_test[:,1])"
      ]
    },
    {
      "cell_type": "markdown",
      "source": [
        "## SMOTE"
      ],
      "metadata": {
        "id": "NJxo7PSnbIES"
      },
      "id": "NJxo7PSnbIES"
    },
    {
      "cell_type": "code",
      "source": [
        "X_train = df_train.drop(columns=target_col)\n",
        "y_train = df_train[target_col]"
      ],
      "metadata": {
        "id": "wFuv_pdvbGXR"
      },
      "id": "wFuv_pdvbGXR",
      "execution_count": 45,
      "outputs": []
    },
    {
      "cell_type": "code",
      "execution_count": 125,
      "id": "e9d53122",
      "metadata": {
        "id": "e9d53122"
      },
      "outputs": [],
      "source": [
        "\n",
        "# Resampling the minority class. The strategy can be changed as required.\n",
        "sm = SMOTE(sampling_strategy='minority', random_state=42)\n",
        "# Fit the model to generate the data.\n",
        "oversampled_X, oversampled_Y = sm.fit_resample(X_train, y_train)\n",
        "oversampled = pd.concat([pd.DataFrame(oversampled_Y), pd.DataFrame(oversampled_X)], axis=1)"
      ]
    },
    {
      "cell_type": "code",
      "source": [
        "oversampled"
      ],
      "metadata": {
        "colab": {
          "base_uri": "https://localhost:8080/",
          "height": 424
        },
        "id": "r3VlD1fJbU76",
        "outputId": "4759dcbf-7f98-4b4a-81f5-9b74b216bb4f"
      },
      "id": "r3VlD1fJbU76",
      "execution_count": 37,
      "outputs": [
        {
          "output_type": "execute_result",
          "data": {
            "text/plain": [
              "       letter_a  x-box  y-box  width  high   onpix  x-bar  y-bar  x2bar  \\\n",
              "0             0      4      7      5      5      4      6      7      3   \n",
              "1             0      4      7      6      5      5      6      8      3   \n",
              "2             0      3      5      4      3      3      7      8      5   \n",
              "3             0      4     10      6      7      6      5      7      5   \n",
              "4             0      4     10      6      8      4      8     11      2   \n",
              "...         ...    ...    ...    ...    ...    ...    ...    ...    ...   \n",
              "30715         1      6     13      6      7      5      9      3      5   \n",
              "30716         1      3      7      5      5      3     11      2      2   \n",
              "30717         1      3      8      5      6      3     12      2      2   \n",
              "30718         1      2      4      4      3      2      8      2      2   \n",
              "30719         1      5      9      7      8      6      7      7      2   \n",
              "\n",
              "       y2bar  xybar  x2ybr  xy2br  x-ege  xegvy  y-ege  yegvx  \n",
              "0          7     11      8      9      3      8      4      8  \n",
              "1          7     11      8      9      3      8      4      7  \n",
              "2          5      7      7      6      5      9      2      6  \n",
              "3          7      6      6     12      3      8      6      9  \n",
              "4          3      4     10      9      3     11      1      8  \n",
              "...      ...    ...    ...    ...    ...    ...    ...    ...  \n",
              "30715      2     10      5     12      7      1      6     11  \n",
              "30716      2      9      2      9      3      7      3      9  \n",
              "30717      2     10      2      9      2      6      2      8  \n",
              "30718      2      8      2      8      1      6      1      7  \n",
              "30719      4      7      7      9      8      6      4      7  \n",
              "\n",
              "[30720 rows x 17 columns]"
            ],
            "text/html": [
              "\n",
              "\n",
              "  <div id=\"df-53006a46-73bd-433a-980e-22a90878ab41\">\n",
              "    <div class=\"colab-df-container\">\n",
              "      <div>\n",
              "<style scoped>\n",
              "    .dataframe tbody tr th:only-of-type {\n",
              "        vertical-align: middle;\n",
              "    }\n",
              "\n",
              "    .dataframe tbody tr th {\n",
              "        vertical-align: top;\n",
              "    }\n",
              "\n",
              "    .dataframe thead th {\n",
              "        text-align: right;\n",
              "    }\n",
              "</style>\n",
              "<table border=\"1\" class=\"dataframe\">\n",
              "  <thead>\n",
              "    <tr style=\"text-align: right;\">\n",
              "      <th></th>\n",
              "      <th>letter_a</th>\n",
              "      <th>x-box</th>\n",
              "      <th>y-box</th>\n",
              "      <th>width</th>\n",
              "      <th>high</th>\n",
              "      <th>onpix</th>\n",
              "      <th>x-bar</th>\n",
              "      <th>y-bar</th>\n",
              "      <th>x2bar</th>\n",
              "      <th>y2bar</th>\n",
              "      <th>xybar</th>\n",
              "      <th>x2ybr</th>\n",
              "      <th>xy2br</th>\n",
              "      <th>x-ege</th>\n",
              "      <th>xegvy</th>\n",
              "      <th>y-ege</th>\n",
              "      <th>yegvx</th>\n",
              "    </tr>\n",
              "  </thead>\n",
              "  <tbody>\n",
              "    <tr>\n",
              "      <th>0</th>\n",
              "      <td>0</td>\n",
              "      <td>4</td>\n",
              "      <td>7</td>\n",
              "      <td>5</td>\n",
              "      <td>5</td>\n",
              "      <td>4</td>\n",
              "      <td>6</td>\n",
              "      <td>7</td>\n",
              "      <td>3</td>\n",
              "      <td>7</td>\n",
              "      <td>11</td>\n",
              "      <td>8</td>\n",
              "      <td>9</td>\n",
              "      <td>3</td>\n",
              "      <td>8</td>\n",
              "      <td>4</td>\n",
              "      <td>8</td>\n",
              "    </tr>\n",
              "    <tr>\n",
              "      <th>1</th>\n",
              "      <td>0</td>\n",
              "      <td>4</td>\n",
              "      <td>7</td>\n",
              "      <td>6</td>\n",
              "      <td>5</td>\n",
              "      <td>5</td>\n",
              "      <td>6</td>\n",
              "      <td>8</td>\n",
              "      <td>3</td>\n",
              "      <td>7</td>\n",
              "      <td>11</td>\n",
              "      <td>8</td>\n",
              "      <td>9</td>\n",
              "      <td>3</td>\n",
              "      <td>8</td>\n",
              "      <td>4</td>\n",
              "      <td>7</td>\n",
              "    </tr>\n",
              "    <tr>\n",
              "      <th>2</th>\n",
              "      <td>0</td>\n",
              "      <td>3</td>\n",
              "      <td>5</td>\n",
              "      <td>4</td>\n",
              "      <td>3</td>\n",
              "      <td>3</td>\n",
              "      <td>7</td>\n",
              "      <td>8</td>\n",
              "      <td>5</td>\n",
              "      <td>5</td>\n",
              "      <td>7</td>\n",
              "      <td>7</td>\n",
              "      <td>6</td>\n",
              "      <td>5</td>\n",
              "      <td>9</td>\n",
              "      <td>2</td>\n",
              "      <td>6</td>\n",
              "    </tr>\n",
              "    <tr>\n",
              "      <th>3</th>\n",
              "      <td>0</td>\n",
              "      <td>4</td>\n",
              "      <td>10</td>\n",
              "      <td>6</td>\n",
              "      <td>7</td>\n",
              "      <td>6</td>\n",
              "      <td>5</td>\n",
              "      <td>7</td>\n",
              "      <td>5</td>\n",
              "      <td>7</td>\n",
              "      <td>6</td>\n",
              "      <td>6</td>\n",
              "      <td>12</td>\n",
              "      <td>3</td>\n",
              "      <td>8</td>\n",
              "      <td>6</td>\n",
              "      <td>9</td>\n",
              "    </tr>\n",
              "    <tr>\n",
              "      <th>4</th>\n",
              "      <td>0</td>\n",
              "      <td>4</td>\n",
              "      <td>10</td>\n",
              "      <td>6</td>\n",
              "      <td>8</td>\n",
              "      <td>4</td>\n",
              "      <td>8</td>\n",
              "      <td>11</td>\n",
              "      <td>2</td>\n",
              "      <td>3</td>\n",
              "      <td>4</td>\n",
              "      <td>10</td>\n",
              "      <td>9</td>\n",
              "      <td>3</td>\n",
              "      <td>11</td>\n",
              "      <td>1</td>\n",
              "      <td>8</td>\n",
              "    </tr>\n",
              "    <tr>\n",
              "      <th>...</th>\n",
              "      <td>...</td>\n",
              "      <td>...</td>\n",
              "      <td>...</td>\n",
              "      <td>...</td>\n",
              "      <td>...</td>\n",
              "      <td>...</td>\n",
              "      <td>...</td>\n",
              "      <td>...</td>\n",
              "      <td>...</td>\n",
              "      <td>...</td>\n",
              "      <td>...</td>\n",
              "      <td>...</td>\n",
              "      <td>...</td>\n",
              "      <td>...</td>\n",
              "      <td>...</td>\n",
              "      <td>...</td>\n",
              "      <td>...</td>\n",
              "    </tr>\n",
              "    <tr>\n",
              "      <th>30715</th>\n",
              "      <td>1</td>\n",
              "      <td>6</td>\n",
              "      <td>13</td>\n",
              "      <td>6</td>\n",
              "      <td>7</td>\n",
              "      <td>5</td>\n",
              "      <td>9</td>\n",
              "      <td>3</td>\n",
              "      <td>5</td>\n",
              "      <td>2</td>\n",
              "      <td>10</td>\n",
              "      <td>5</td>\n",
              "      <td>12</td>\n",
              "      <td>7</td>\n",
              "      <td>1</td>\n",
              "      <td>6</td>\n",
              "      <td>11</td>\n",
              "    </tr>\n",
              "    <tr>\n",
              "      <th>30716</th>\n",
              "      <td>1</td>\n",
              "      <td>3</td>\n",
              "      <td>7</td>\n",
              "      <td>5</td>\n",
              "      <td>5</td>\n",
              "      <td>3</td>\n",
              "      <td>11</td>\n",
              "      <td>2</td>\n",
              "      <td>2</td>\n",
              "      <td>2</td>\n",
              "      <td>9</td>\n",
              "      <td>2</td>\n",
              "      <td>9</td>\n",
              "      <td>3</td>\n",
              "      <td>7</td>\n",
              "      <td>3</td>\n",
              "      <td>9</td>\n",
              "    </tr>\n",
              "    <tr>\n",
              "      <th>30717</th>\n",
              "      <td>1</td>\n",
              "      <td>3</td>\n",
              "      <td>8</td>\n",
              "      <td>5</td>\n",
              "      <td>6</td>\n",
              "      <td>3</td>\n",
              "      <td>12</td>\n",
              "      <td>2</td>\n",
              "      <td>2</td>\n",
              "      <td>2</td>\n",
              "      <td>10</td>\n",
              "      <td>2</td>\n",
              "      <td>9</td>\n",
              "      <td>2</td>\n",
              "      <td>6</td>\n",
              "      <td>2</td>\n",
              "      <td>8</td>\n",
              "    </tr>\n",
              "    <tr>\n",
              "      <th>30718</th>\n",
              "      <td>1</td>\n",
              "      <td>2</td>\n",
              "      <td>4</td>\n",
              "      <td>4</td>\n",
              "      <td>3</td>\n",
              "      <td>2</td>\n",
              "      <td>8</td>\n",
              "      <td>2</td>\n",
              "      <td>2</td>\n",
              "      <td>2</td>\n",
              "      <td>8</td>\n",
              "      <td>2</td>\n",
              "      <td>8</td>\n",
              "      <td>1</td>\n",
              "      <td>6</td>\n",
              "      <td>1</td>\n",
              "      <td>7</td>\n",
              "    </tr>\n",
              "    <tr>\n",
              "      <th>30719</th>\n",
              "      <td>1</td>\n",
              "      <td>5</td>\n",
              "      <td>9</td>\n",
              "      <td>7</td>\n",
              "      <td>8</td>\n",
              "      <td>6</td>\n",
              "      <td>7</td>\n",
              "      <td>7</td>\n",
              "      <td>2</td>\n",
              "      <td>4</td>\n",
              "      <td>7</td>\n",
              "      <td>7</td>\n",
              "      <td>9</td>\n",
              "      <td>8</td>\n",
              "      <td>6</td>\n",
              "      <td>4</td>\n",
              "      <td>7</td>\n",
              "    </tr>\n",
              "  </tbody>\n",
              "</table>\n",
              "<p>30720 rows × 17 columns</p>\n",
              "</div>\n",
              "      <button class=\"colab-df-convert\" onclick=\"convertToInteractive('df-53006a46-73bd-433a-980e-22a90878ab41')\"\n",
              "              title=\"Convert this dataframe to an interactive table.\"\n",
              "              style=\"display:none;\">\n",
              "\n",
              "  <svg xmlns=\"http://www.w3.org/2000/svg\" height=\"24px\"viewBox=\"0 0 24 24\"\n",
              "       width=\"24px\">\n",
              "    <path d=\"M0 0h24v24H0V0z\" fill=\"none\"/>\n",
              "    <path d=\"M18.56 5.44l.94 2.06.94-2.06 2.06-.94-2.06-.94-.94-2.06-.94 2.06-2.06.94zm-11 1L8.5 8.5l.94-2.06 2.06-.94-2.06-.94L8.5 2.5l-.94 2.06-2.06.94zm10 10l.94 2.06.94-2.06 2.06-.94-2.06-.94-.94-2.06-.94 2.06-2.06.94z\"/><path d=\"M17.41 7.96l-1.37-1.37c-.4-.4-.92-.59-1.43-.59-.52 0-1.04.2-1.43.59L10.3 9.45l-7.72 7.72c-.78.78-.78 2.05 0 2.83L4 21.41c.39.39.9.59 1.41.59.51 0 1.02-.2 1.41-.59l7.78-7.78 2.81-2.81c.8-.78.8-2.07 0-2.86zM5.41 20L4 18.59l7.72-7.72 1.47 1.35L5.41 20z\"/>\n",
              "  </svg>\n",
              "      </button>\n",
              "\n",
              "\n",
              "\n",
              "    <div id=\"df-c7d27c03-3437-4b8c-b9f7-e8859fb46bb7\">\n",
              "      <button class=\"colab-df-quickchart\" onclick=\"quickchart('df-c7d27c03-3437-4b8c-b9f7-e8859fb46bb7')\"\n",
              "              title=\"Suggest charts.\"\n",
              "              style=\"display:none;\">\n",
              "\n",
              "<svg xmlns=\"http://www.w3.org/2000/svg\" height=\"24px\"viewBox=\"0 0 24 24\"\n",
              "     width=\"24px\">\n",
              "    <g>\n",
              "        <path d=\"M19 3H5c-1.1 0-2 .9-2 2v14c0 1.1.9 2 2 2h14c1.1 0 2-.9 2-2V5c0-1.1-.9-2-2-2zM9 17H7v-7h2v7zm4 0h-2V7h2v10zm4 0h-2v-4h2v4z\"/>\n",
              "    </g>\n",
              "</svg>\n",
              "      </button>\n",
              "    </div>\n",
              "\n",
              "<style>\n",
              "  .colab-df-quickchart {\n",
              "    background-color: #E8F0FE;\n",
              "    border: none;\n",
              "    border-radius: 50%;\n",
              "    cursor: pointer;\n",
              "    display: none;\n",
              "    fill: #1967D2;\n",
              "    height: 32px;\n",
              "    padding: 0 0 0 0;\n",
              "    width: 32px;\n",
              "  }\n",
              "\n",
              "  .colab-df-quickchart:hover {\n",
              "    background-color: #E2EBFA;\n",
              "    box-shadow: 0px 1px 2px rgba(60, 64, 67, 0.3), 0px 1px 3px 1px rgba(60, 64, 67, 0.15);\n",
              "    fill: #174EA6;\n",
              "  }\n",
              "\n",
              "  [theme=dark] .colab-df-quickchart {\n",
              "    background-color: #3B4455;\n",
              "    fill: #D2E3FC;\n",
              "  }\n",
              "\n",
              "  [theme=dark] .colab-df-quickchart:hover {\n",
              "    background-color: #434B5C;\n",
              "    box-shadow: 0px 1px 3px 1px rgba(0, 0, 0, 0.15);\n",
              "    filter: drop-shadow(0px 1px 2px rgba(0, 0, 0, 0.3));\n",
              "    fill: #FFFFFF;\n",
              "  }\n",
              "</style>\n",
              "\n",
              "    <script>\n",
              "      async function quickchart(key) {\n",
              "        const containerElement = document.querySelector('#' + key);\n",
              "        const charts = await google.colab.kernel.invokeFunction(\n",
              "            'suggestCharts', [key], {});\n",
              "      }\n",
              "    </script>\n",
              "\n",
              "      <script>\n",
              "\n",
              "function displayQuickchartButton(domScope) {\n",
              "  let quickchartButtonEl =\n",
              "    domScope.querySelector('#df-c7d27c03-3437-4b8c-b9f7-e8859fb46bb7 button.colab-df-quickchart');\n",
              "  quickchartButtonEl.style.display =\n",
              "    google.colab.kernel.accessAllowed ? 'block' : 'none';\n",
              "}\n",
              "\n",
              "        displayQuickchartButton(document);\n",
              "      </script>\n",
              "      <style>\n",
              "    .colab-df-container {\n",
              "      display:flex;\n",
              "      flex-wrap:wrap;\n",
              "      gap: 12px;\n",
              "    }\n",
              "\n",
              "    .colab-df-convert {\n",
              "      background-color: #E8F0FE;\n",
              "      border: none;\n",
              "      border-radius: 50%;\n",
              "      cursor: pointer;\n",
              "      display: none;\n",
              "      fill: #1967D2;\n",
              "      height: 32px;\n",
              "      padding: 0 0 0 0;\n",
              "      width: 32px;\n",
              "    }\n",
              "\n",
              "    .colab-df-convert:hover {\n",
              "      background-color: #E2EBFA;\n",
              "      box-shadow: 0px 1px 2px rgba(60, 64, 67, 0.3), 0px 1px 3px 1px rgba(60, 64, 67, 0.15);\n",
              "      fill: #174EA6;\n",
              "    }\n",
              "\n",
              "    [theme=dark] .colab-df-convert {\n",
              "      background-color: #3B4455;\n",
              "      fill: #D2E3FC;\n",
              "    }\n",
              "\n",
              "    [theme=dark] .colab-df-convert:hover {\n",
              "      background-color: #434B5C;\n",
              "      box-shadow: 0px 1px 3px 1px rgba(0, 0, 0, 0.15);\n",
              "      filter: drop-shadow(0px 1px 2px rgba(0, 0, 0, 0.3));\n",
              "      fill: #FFFFFF;\n",
              "    }\n",
              "  </style>\n",
              "\n",
              "      <script>\n",
              "        const buttonEl =\n",
              "          document.querySelector('#df-53006a46-73bd-433a-980e-22a90878ab41 button.colab-df-convert');\n",
              "        buttonEl.style.display =\n",
              "          google.colab.kernel.accessAllowed ? 'block' : 'none';\n",
              "\n",
              "        async function convertToInteractive(key) {\n",
              "          const element = document.querySelector('#df-53006a46-73bd-433a-980e-22a90878ab41');\n",
              "          const dataTable =\n",
              "            await google.colab.kernel.invokeFunction('convertToInteractive',\n",
              "                                                     [key], {});\n",
              "          if (!dataTable) return;\n",
              "\n",
              "          const docLinkHtml = 'Like what you see? Visit the ' +\n",
              "            '<a target=\"_blank\" href=https://colab.research.google.com/notebooks/data_table.ipynb>data table notebook</a>'\n",
              "            + ' to learn more about interactive tables.';\n",
              "          element.innerHTML = '';\n",
              "          dataTable['output_type'] = 'display_data';\n",
              "          await google.colab.output.renderOutput(dataTable, element);\n",
              "          const docLink = document.createElement('div');\n",
              "          docLink.innerHTML = docLinkHtml;\n",
              "          element.appendChild(docLink);\n",
              "        }\n",
              "      </script>\n",
              "    </div>\n",
              "  </div>\n"
            ]
          },
          "metadata": {},
          "execution_count": 37
        }
      ]
    },
    {
      "cell_type": "code",
      "source": [
        "X_train = oversampled.drop(columns=target_col)\n",
        "y_train = oversampled[target_col]"
      ],
      "metadata": {
        "id": "SUCzQOXFbjao"
      },
      "id": "SUCzQOXFbjao",
      "execution_count": 47,
      "outputs": []
    },
    {
      "cell_type": "code",
      "source": [
        "clf = lgb.LGBMClassifier()\n",
        "clf.fit(X_train, y_train)"
      ],
      "metadata": {
        "colab": {
          "base_uri": "https://localhost:8080/",
          "height": 75
        },
        "id": "Yl4zLB_0b2NV",
        "outputId": "a97db1f9-b591-4d92-8a23-a72e6d7a6e13"
      },
      "id": "Yl4zLB_0b2NV",
      "execution_count": 39,
      "outputs": [
        {
          "output_type": "execute_result",
          "data": {
            "text/plain": [
              "LGBMClassifier()"
            ],
            "text/html": [
              "<style>#sk-container-id-4 {color: black;background-color: white;}#sk-container-id-4 pre{padding: 0;}#sk-container-id-4 div.sk-toggleable {background-color: white;}#sk-container-id-4 label.sk-toggleable__label {cursor: pointer;display: block;width: 100%;margin-bottom: 0;padding: 0.3em;box-sizing: border-box;text-align: center;}#sk-container-id-4 label.sk-toggleable__label-arrow:before {content: \"▸\";float: left;margin-right: 0.25em;color: #696969;}#sk-container-id-4 label.sk-toggleable__label-arrow:hover:before {color: black;}#sk-container-id-4 div.sk-estimator:hover label.sk-toggleable__label-arrow:before {color: black;}#sk-container-id-4 div.sk-toggleable__content {max-height: 0;max-width: 0;overflow: hidden;text-align: left;background-color: #f0f8ff;}#sk-container-id-4 div.sk-toggleable__content pre {margin: 0.2em;color: black;border-radius: 0.25em;background-color: #f0f8ff;}#sk-container-id-4 input.sk-toggleable__control:checked~div.sk-toggleable__content {max-height: 200px;max-width: 100%;overflow: auto;}#sk-container-id-4 input.sk-toggleable__control:checked~label.sk-toggleable__label-arrow:before {content: \"▾\";}#sk-container-id-4 div.sk-estimator input.sk-toggleable__control:checked~label.sk-toggleable__label {background-color: #d4ebff;}#sk-container-id-4 div.sk-label input.sk-toggleable__control:checked~label.sk-toggleable__label {background-color: #d4ebff;}#sk-container-id-4 input.sk-hidden--visually {border: 0;clip: rect(1px 1px 1px 1px);clip: rect(1px, 1px, 1px, 1px);height: 1px;margin: -1px;overflow: hidden;padding: 0;position: absolute;width: 1px;}#sk-container-id-4 div.sk-estimator {font-family: monospace;background-color: #f0f8ff;border: 1px dotted black;border-radius: 0.25em;box-sizing: border-box;margin-bottom: 0.5em;}#sk-container-id-4 div.sk-estimator:hover {background-color: #d4ebff;}#sk-container-id-4 div.sk-parallel-item::after {content: \"\";width: 100%;border-bottom: 1px solid gray;flex-grow: 1;}#sk-container-id-4 div.sk-label:hover label.sk-toggleable__label {background-color: #d4ebff;}#sk-container-id-4 div.sk-serial::before {content: \"\";position: absolute;border-left: 1px solid gray;box-sizing: border-box;top: 0;bottom: 0;left: 50%;z-index: 0;}#sk-container-id-4 div.sk-serial {display: flex;flex-direction: column;align-items: center;background-color: white;padding-right: 0.2em;padding-left: 0.2em;position: relative;}#sk-container-id-4 div.sk-item {position: relative;z-index: 1;}#sk-container-id-4 div.sk-parallel {display: flex;align-items: stretch;justify-content: center;background-color: white;position: relative;}#sk-container-id-4 div.sk-item::before, #sk-container-id-4 div.sk-parallel-item::before {content: \"\";position: absolute;border-left: 1px solid gray;box-sizing: border-box;top: 0;bottom: 0;left: 50%;z-index: -1;}#sk-container-id-4 div.sk-parallel-item {display: flex;flex-direction: column;z-index: 1;position: relative;background-color: white;}#sk-container-id-4 div.sk-parallel-item:first-child::after {align-self: flex-end;width: 50%;}#sk-container-id-4 div.sk-parallel-item:last-child::after {align-self: flex-start;width: 50%;}#sk-container-id-4 div.sk-parallel-item:only-child::after {width: 0;}#sk-container-id-4 div.sk-dashed-wrapped {border: 1px dashed gray;margin: 0 0.4em 0.5em 0.4em;box-sizing: border-box;padding-bottom: 0.4em;background-color: white;}#sk-container-id-4 div.sk-label label {font-family: monospace;font-weight: bold;display: inline-block;line-height: 1.2em;}#sk-container-id-4 div.sk-label-container {text-align: center;}#sk-container-id-4 div.sk-container {/* jupyter's `normalize.less` sets `[hidden] { display: none; }` but bootstrap.min.css set `[hidden] { display: none !important; }` so we also need the `!important` here to be able to override the default hidden behavior on the sphinx rendered scikit-learn.org. See: https://github.com/scikit-learn/scikit-learn/issues/21755 */display: inline-block !important;position: relative;}#sk-container-id-4 div.sk-text-repr-fallback {display: none;}</style><div id=\"sk-container-id-4\" class=\"sk-top-container\"><div class=\"sk-text-repr-fallback\"><pre>LGBMClassifier()</pre><b>In a Jupyter environment, please rerun this cell to show the HTML representation or trust the notebook. <br />On GitHub, the HTML representation is unable to render, please try loading this page with nbviewer.org.</b></div><div class=\"sk-container\" hidden><div class=\"sk-item\"><div class=\"sk-estimator sk-toggleable\"><input class=\"sk-toggleable__control sk-hidden--visually\" id=\"sk-estimator-id-4\" type=\"checkbox\" checked><label for=\"sk-estimator-id-4\" class=\"sk-toggleable__label sk-toggleable__label-arrow\">LGBMClassifier</label><div class=\"sk-toggleable__content\"><pre>LGBMClassifier()</pre></div></div></div></div></div>"
            ]
          },
          "metadata": {},
          "execution_count": 39
        }
      ]
    },
    {
      "cell_type": "code",
      "source": [
        "prediction_train = clf.predict(X_train)\n",
        "prediction_test = clf.predict(X_test)\n",
        "prediction_proba_train=clf.predict_proba(X_train)\n",
        "prediction_proba_test=clf.predict_proba(X_test)"
      ],
      "metadata": {
        "colab": {
          "base_uri": "https://localhost:8080/",
          "height": 364
        },
        "id": "7s_8hizKb4cH",
        "outputId": "3a08fa5f-3380-4727-cffd-2e5e6436d49d"
      },
      "id": "7s_8hizKb4cH",
      "execution_count": 53,
      "outputs": [
        {
          "output_type": "error",
          "ename": "NotFittedError",
          "evalue": "ignored",
          "traceback": [
            "\u001b[0;31m---------------------------------------------------------------------------\u001b[0m",
            "\u001b[0;31mNotFittedError\u001b[0m                            Traceback (most recent call last)",
            "\u001b[0;32m<ipython-input-53-483da70b7104>\u001b[0m in \u001b[0;36m<cell line: 1>\u001b[0;34m()\u001b[0m\n\u001b[0;32m----> 1\u001b[0;31m \u001b[0mprediction_train\u001b[0m \u001b[0;34m=\u001b[0m \u001b[0mclf\u001b[0m\u001b[0;34m.\u001b[0m\u001b[0mpredict\u001b[0m\u001b[0;34m(\u001b[0m\u001b[0mX_train\u001b[0m\u001b[0;34m)\u001b[0m\u001b[0;34m\u001b[0m\u001b[0;34m\u001b[0m\u001b[0m\n\u001b[0m\u001b[1;32m      2\u001b[0m \u001b[0mprediction_test\u001b[0m \u001b[0;34m=\u001b[0m \u001b[0mclf\u001b[0m\u001b[0;34m.\u001b[0m\u001b[0mpredict\u001b[0m\u001b[0;34m(\u001b[0m\u001b[0mX_test\u001b[0m\u001b[0;34m)\u001b[0m\u001b[0;34m\u001b[0m\u001b[0;34m\u001b[0m\u001b[0m\n\u001b[1;32m      3\u001b[0m \u001b[0mprediction_proba_train\u001b[0m\u001b[0;34m=\u001b[0m\u001b[0mclf\u001b[0m\u001b[0;34m.\u001b[0m\u001b[0mpredict_proba\u001b[0m\u001b[0;34m(\u001b[0m\u001b[0mX_train\u001b[0m\u001b[0;34m)\u001b[0m\u001b[0;34m\u001b[0m\u001b[0;34m\u001b[0m\u001b[0m\n\u001b[1;32m      4\u001b[0m \u001b[0mprediction_proba_test\u001b[0m\u001b[0;34m=\u001b[0m\u001b[0mclf\u001b[0m\u001b[0;34m.\u001b[0m\u001b[0mpredict_proba\u001b[0m\u001b[0;34m(\u001b[0m\u001b[0mX_test\u001b[0m\u001b[0;34m)\u001b[0m\u001b[0;34m\u001b[0m\u001b[0;34m\u001b[0m\u001b[0m\n",
            "\u001b[0;32m/usr/local/lib/python3.10/dist-packages/lightgbm/sklearn.py\u001b[0m in \u001b[0;36mpredict\u001b[0;34m(self, X, raw_score, start_iteration, num_iteration, pred_leaf, pred_contrib, **kwargs)\u001b[0m\n\u001b[1;32m    982\u001b[0m                 pred_leaf=False, pred_contrib=False, **kwargs):\n\u001b[1;32m    983\u001b[0m         \u001b[0;34m\"\"\"Docstring is inherited from the LGBMModel.\"\"\"\u001b[0m\u001b[0;34m\u001b[0m\u001b[0;34m\u001b[0m\u001b[0m\n\u001b[0;32m--> 984\u001b[0;31m         result = self.predict_proba(X, raw_score, start_iteration, num_iteration,\n\u001b[0m\u001b[1;32m    985\u001b[0m                                     pred_leaf, pred_contrib, **kwargs)\n\u001b[1;32m    986\u001b[0m         \u001b[0;32mif\u001b[0m \u001b[0mcallable\u001b[0m\u001b[0;34m(\u001b[0m\u001b[0mself\u001b[0m\u001b[0;34m.\u001b[0m\u001b[0m_objective\u001b[0m\u001b[0;34m)\u001b[0m \u001b[0;32mor\u001b[0m \u001b[0mraw_score\u001b[0m \u001b[0;32mor\u001b[0m \u001b[0mpred_leaf\u001b[0m \u001b[0;32mor\u001b[0m \u001b[0mpred_contrib\u001b[0m\u001b[0;34m:\u001b[0m\u001b[0;34m\u001b[0m\u001b[0;34m\u001b[0m\u001b[0m\n",
            "\u001b[0;32m/usr/local/lib/python3.10/dist-packages/lightgbm/sklearn.py\u001b[0m in \u001b[0;36mpredict_proba\u001b[0;34m(self, X, raw_score, start_iteration, num_iteration, pred_leaf, pred_contrib, **kwargs)\u001b[0m\n\u001b[1;32m    995\u001b[0m                       pred_leaf=False, pred_contrib=False, **kwargs):\n\u001b[1;32m    996\u001b[0m         \u001b[0;34m\"\"\"Docstring is set after definition, using a template.\"\"\"\u001b[0m\u001b[0;34m\u001b[0m\u001b[0;34m\u001b[0m\u001b[0m\n\u001b[0;32m--> 997\u001b[0;31m         \u001b[0mresult\u001b[0m \u001b[0;34m=\u001b[0m \u001b[0msuper\u001b[0m\u001b[0;34m(\u001b[0m\u001b[0;34m)\u001b[0m\u001b[0;34m.\u001b[0m\u001b[0mpredict\u001b[0m\u001b[0;34m(\u001b[0m\u001b[0mX\u001b[0m\u001b[0;34m,\u001b[0m \u001b[0mraw_score\u001b[0m\u001b[0;34m,\u001b[0m \u001b[0mstart_iteration\u001b[0m\u001b[0;34m,\u001b[0m \u001b[0mnum_iteration\u001b[0m\u001b[0;34m,\u001b[0m \u001b[0mpred_leaf\u001b[0m\u001b[0;34m,\u001b[0m \u001b[0mpred_contrib\u001b[0m\u001b[0;34m,\u001b[0m \u001b[0;34m**\u001b[0m\u001b[0mkwargs\u001b[0m\u001b[0;34m)\u001b[0m\u001b[0;34m\u001b[0m\u001b[0;34m\u001b[0m\u001b[0m\n\u001b[0m\u001b[1;32m    998\u001b[0m         \u001b[0;32mif\u001b[0m \u001b[0mcallable\u001b[0m\u001b[0;34m(\u001b[0m\u001b[0mself\u001b[0m\u001b[0;34m.\u001b[0m\u001b[0m_objective\u001b[0m\u001b[0;34m)\u001b[0m \u001b[0;32mand\u001b[0m \u001b[0;32mnot\u001b[0m \u001b[0;34m(\u001b[0m\u001b[0mraw_score\u001b[0m \u001b[0;32mor\u001b[0m \u001b[0mpred_leaf\u001b[0m \u001b[0;32mor\u001b[0m \u001b[0mpred_contrib\u001b[0m\u001b[0;34m)\u001b[0m\u001b[0;34m:\u001b[0m\u001b[0;34m\u001b[0m\u001b[0;34m\u001b[0m\u001b[0m\n\u001b[1;32m    999\u001b[0m             _log_warning(\"Cannot compute class probabilities or labels \"\n",
            "\u001b[0;32m/usr/local/lib/python3.10/dist-packages/lightgbm/sklearn.py\u001b[0m in \u001b[0;36mpredict\u001b[0;34m(self, X, raw_score, start_iteration, num_iteration, pred_leaf, pred_contrib, **kwargs)\u001b[0m\n\u001b[1;32m    793\u001b[0m         \u001b[0;34m\"\"\"Docstring is set after definition, using a template.\"\"\"\u001b[0m\u001b[0;34m\u001b[0m\u001b[0;34m\u001b[0m\u001b[0m\n\u001b[1;32m    794\u001b[0m         \u001b[0;32mif\u001b[0m \u001b[0;32mnot\u001b[0m \u001b[0mself\u001b[0m\u001b[0;34m.\u001b[0m\u001b[0m__sklearn_is_fitted__\u001b[0m\u001b[0;34m(\u001b[0m\u001b[0;34m)\u001b[0m\u001b[0;34m:\u001b[0m\u001b[0;34m\u001b[0m\u001b[0;34m\u001b[0m\u001b[0m\n\u001b[0;32m--> 795\u001b[0;31m             \u001b[0;32mraise\u001b[0m \u001b[0mLGBMNotFittedError\u001b[0m\u001b[0;34m(\u001b[0m\u001b[0;34m\"Estimator not fitted, call fit before exploiting the model.\"\u001b[0m\u001b[0;34m)\u001b[0m\u001b[0;34m\u001b[0m\u001b[0;34m\u001b[0m\u001b[0m\n\u001b[0m\u001b[1;32m    796\u001b[0m         \u001b[0;32mif\u001b[0m \u001b[0;32mnot\u001b[0m \u001b[0misinstance\u001b[0m\u001b[0;34m(\u001b[0m\u001b[0mX\u001b[0m\u001b[0;34m,\u001b[0m \u001b[0;34m(\u001b[0m\u001b[0mpd_DataFrame\u001b[0m\u001b[0;34m,\u001b[0m \u001b[0mdt_DataTable\u001b[0m\u001b[0;34m)\u001b[0m\u001b[0;34m)\u001b[0m\u001b[0;34m:\u001b[0m\u001b[0;34m\u001b[0m\u001b[0;34m\u001b[0m\u001b[0m\n\u001b[1;32m    797\u001b[0m             \u001b[0mX\u001b[0m \u001b[0;34m=\u001b[0m \u001b[0m_LGBMCheckArray\u001b[0m\u001b[0;34m(\u001b[0m\u001b[0mX\u001b[0m\u001b[0;34m,\u001b[0m \u001b[0maccept_sparse\u001b[0m\u001b[0;34m=\u001b[0m\u001b[0;32mTrue\u001b[0m\u001b[0;34m,\u001b[0m \u001b[0mforce_all_finite\u001b[0m\u001b[0;34m=\u001b[0m\u001b[0;32mFalse\u001b[0m\u001b[0;34m)\u001b[0m\u001b[0;34m\u001b[0m\u001b[0;34m\u001b[0m\u001b[0m\n",
            "\u001b[0;31mNotFittedError\u001b[0m: Estimator not fitted, call fit before exploiting the model."
          ]
        }
      ]
    },
    {
      "cell_type": "code",
      "source": [
        "print(classification_report(y_test,prediction_test,zero_division=True))\n",
        "print(classification_report(y_train,prediction_train,zero_division=True))"
      ],
      "metadata": {
        "colab": {
          "base_uri": "https://localhost:8080/"
        },
        "id": "Vzl52za_b8Ge",
        "outputId": "46539330-ed26-4bc2-884c-443e5b79a9ab"
      },
      "id": "Vzl52za_b8Ge",
      "execution_count": 55,
      "outputs": [
        {
          "output_type": "stream",
          "name": "stdout",
          "text": [
            "              precision    recall  f1-score   support\n",
            "\n",
            "           0       1.00      1.00      1.00      3851\n",
            "           1       0.99      0.98      0.98       149\n",
            "\n",
            "    accuracy                           1.00      4000\n",
            "   macro avg       0.99      0.99      0.99      4000\n",
            "weighted avg       1.00      1.00      1.00      4000\n",
            "\n",
            "              precision    recall  f1-score   support\n",
            "\n",
            "           0       1.00      1.00      1.00     15360\n",
            "           1       1.00      1.00      1.00       640\n",
            "\n",
            "    accuracy                           1.00     16000\n",
            "   macro avg       1.00      1.00      1.00     16000\n",
            "weighted avg       1.00      1.00      1.00     16000\n",
            "\n"
          ]
        }
      ]
    },
    {
      "cell_type": "code",
      "source": [
        "print(roc_auc_score(y_test, prediction_proba_test[:,1]))\n",
        "plot_sklearn_roc_curve(y_test,prediction_proba_test[:,1])"
      ],
      "metadata": {
        "colab": {
          "base_uri": "https://localhost:8080/",
          "height": 482
        },
        "id": "Wx86p7wrb-te",
        "outputId": "f865edc9-ded5-4391-80c5-fc5fd3a097a9"
      },
      "id": "Wx86p7wrb-te",
      "execution_count": 57,
      "outputs": [
        {
          "output_type": "stream",
          "name": "stdout",
          "text": [
            "0.9999546879656465\n"
          ]
        },
        {
          "output_type": "display_data",
          "data": {
            "text/plain": [
              "<Figure size 500x500 with 1 Axes>"
            ],
            "image/png": "[encoded data removed]"
          },
          "metadata": {}
        }
      ]
    },
    {
      "cell_type": "code",
      "source": [],
      "metadata": {
        "id": "WsNTp6mCcCco"
      },
      "id": "WsNTp6mCcCco",
      "execution_count": null,
      "outputs": []
    },
    {
      "cell_type": "markdown",
      "source": [
        "## BalancedBaggingClassifier"
      ],
      "metadata": {
        "id": "1f67ml5VedBm"
      },
      "id": "1f67ml5VedBm"
    },
    {
      "cell_type": "code",
      "source": [
        "X_train = df_train.drop(columns=target_col)\n",
        "y_train = df_train[target_col]"
      ],
      "metadata": {
        "id": "FnCcOGNOetyh"
      },
      "id": "FnCcOGNOetyh",
      "execution_count": 50,
      "outputs": []
    },
    {
      "cell_type": "code",
      "source": [
        "\n",
        "clf = lgb.LGBMClassifier()\n",
        "#Create an instance\n",
        "classifier = BalancedBaggingClassifier(estimator=clf,\n",
        "                                sampling_strategy='not majority',\n",
        "                                replacement=False,\n",
        "                                random_state=42)\n",
        "classifier.fit(X_train, y_train)"
      ],
      "metadata": {
        "colab": {
          "base_uri": "https://localhost:8080/",
          "height": 117
        },
        "id": "hJiefXOaefUn",
        "outputId": "89d5bb14-3dc4-40bb-a7c9-bdde60c1ac44"
      },
      "id": "hJiefXOaefUn",
      "execution_count": 52,
      "outputs": [
        {
          "output_type": "execute_result",
          "data": {
            "text/plain": [
              "BalancedBaggingClassifier(estimator=LGBMClassifier(), random_state=42,\n",
              "                          sampling_strategy='not majority')"
            ],
            "text/html": [
              "<style>#sk-container-id-6 {color: black;background-color: white;}#sk-container-id-6 pre{padding: 0;}#sk-container-id-6 div.sk-toggleable {background-color: white;}#sk-container-id-6 label.sk-toggleable__label {cursor: pointer;display: block;width: 100%;margin-bottom: 0;padding: 0.3em;box-sizing: border-box;text-align: center;}#sk-container-id-6 label.sk-toggleable__label-arrow:before {content: \"▸\";float: left;margin-right: 0.25em;color: #696969;}#sk-container-id-6 label.sk-toggleable__label-arrow:hover:before {color: black;}#sk-container-id-6 div.sk-estimator:hover label.sk-toggleable__label-arrow:before {color: black;}#sk-container-id-6 div.sk-toggleable__content {max-height: 0;max-width: 0;overflow: hidden;text-align: left;background-color: #f0f8ff;}#sk-container-id-6 div.sk-toggleable__content pre {margin: 0.2em;color: black;border-radius: 0.25em;background-color: #f0f8ff;}#sk-container-id-6 input.sk-toggleable__control:checked~div.sk-toggleable__content {max-height: 200px;max-width: 100%;overflow: auto;}#sk-container-id-6 input.sk-toggleable__control:checked~label.sk-toggleable__label-arrow:before {content: \"▾\";}#sk-container-id-6 div.sk-estimator input.sk-toggleable__control:checked~label.sk-toggleable__label {background-color: #d4ebff;}#sk-container-id-6 div.sk-label input.sk-toggleable__control:checked~label.sk-toggleable__label {background-color: #d4ebff;}#sk-container-id-6 input.sk-hidden--visually {border: 0;clip: rect(1px 1px 1px 1px);clip: rect(1px, 1px, 1px, 1px);height: 1px;margin: -1px;overflow: hidden;padding: 0;position: absolute;width: 1px;}#sk-container-id-6 div.sk-estimator {font-family: monospace;background-color: #f0f8ff;border: 1px dotted black;border-radius: 0.25em;box-sizing: border-box;margin-bottom: 0.5em;}#sk-container-id-6 div.sk-estimator:hover {background-color: #d4ebff;}#sk-container-id-6 div.sk-parallel-item::after {content: \"\";width: 100%;border-bottom: 1px solid gray;flex-grow: 1;}#sk-container-id-6 div.sk-label:hover label.sk-toggleable__label {background-color: #d4ebff;}#sk-container-id-6 div.sk-serial::before {content: \"\";position: absolute;border-left: 1px solid gray;box-sizing: border-box;top: 0;bottom: 0;left: 50%;z-index: 0;}#sk-container-id-6 div.sk-serial {display: flex;flex-direction: column;align-items: center;background-color: white;padding-right: 0.2em;padding-left: 0.2em;position: relative;}#sk-container-id-6 div.sk-item {position: relative;z-index: 1;}#sk-container-id-6 div.sk-parallel {display: flex;align-items: stretch;justify-content: center;background-color: white;position: relative;}#sk-container-id-6 div.sk-item::before, #sk-container-id-6 div.sk-parallel-item::before {content: \"\";position: absolute;border-left: 1px solid gray;box-sizing: border-box;top: 0;bottom: 0;left: 50%;z-index: -1;}#sk-container-id-6 div.sk-parallel-item {display: flex;flex-direction: column;z-index: 1;position: relative;background-color: white;}#sk-container-id-6 div.sk-parallel-item:first-child::after {align-self: flex-end;width: 50%;}#sk-container-id-6 div.sk-parallel-item:last-child::after {align-self: flex-start;width: 50%;}#sk-container-id-6 div.sk-parallel-item:only-child::after {width: 0;}#sk-container-id-6 div.sk-dashed-wrapped {border: 1px dashed gray;margin: 0 0.4em 0.5em 0.4em;box-sizing: border-box;padding-bottom: 0.4em;background-color: white;}#sk-container-id-6 div.sk-label label {font-family: monospace;font-weight: bold;display: inline-block;line-height: 1.2em;}#sk-container-id-6 div.sk-label-container {text-align: center;}#sk-container-id-6 div.sk-container {/* jupyter's `normalize.less` sets `[hidden] { display: none; }` but bootstrap.min.css set `[hidden] { display: none !important; }` so we also need the `!important` here to be able to override the default hidden behavior on the sphinx rendered scikit-learn.org. See: https://github.com/scikit-learn/scikit-learn/issues/21755 */display: inline-block !important;position: relative;}#sk-container-id-6 div.sk-text-repr-fallback {display: none;}</style><div id=\"sk-container-id-6\" class=\"sk-top-container\"><div class=\"sk-text-repr-fallback\"><pre>BalancedBaggingClassifier(estimator=LGBMClassifier(), random_state=42,\n",
              "                          sampling_strategy=&#x27;not majority&#x27;)</pre><b>In a Jupyter environment, please rerun this cell to show the HTML representation or trust the notebook. <br />On GitHub, the HTML representation is unable to render, please try loading this page with nbviewer.org.</b></div><div class=\"sk-container\" hidden><div class=\"sk-item sk-dashed-wrapped\"><div class=\"sk-label-container\"><div class=\"sk-label sk-toggleable\"><input class=\"sk-toggleable__control sk-hidden--visually\" id=\"sk-estimator-id-8\" type=\"checkbox\" ><label for=\"sk-estimator-id-8\" class=\"sk-toggleable__label sk-toggleable__label-arrow\">BalancedBaggingClassifier</label><div class=\"sk-toggleable__content\"><pre>BalancedBaggingClassifier(estimator=LGBMClassifier(), random_state=42,\n",
              "                          sampling_strategy=&#x27;not majority&#x27;)</pre></div></div></div><div class=\"sk-parallel\"><div class=\"sk-parallel-item\"><div class=\"sk-item\"><div class=\"sk-label-container\"><div class=\"sk-label sk-toggleable\"><input class=\"sk-toggleable__control sk-hidden--visually\" id=\"sk-estimator-id-9\" type=\"checkbox\" ><label for=\"sk-estimator-id-9\" class=\"sk-toggleable__label sk-toggleable__label-arrow\">estimator: LGBMClassifier</label><div class=\"sk-toggleable__content\"><pre>LGBMClassifier()</pre></div></div></div><div class=\"sk-serial\"><div class=\"sk-item\"><div class=\"sk-estimator sk-toggleable\"><input class=\"sk-toggleable__control sk-hidden--visually\" id=\"sk-estimator-id-10\" type=\"checkbox\" ><label for=\"sk-estimator-id-10\" class=\"sk-toggleable__label sk-toggleable__label-arrow\">LGBMClassifier</label><div class=\"sk-toggleable__content\"><pre>LGBMClassifier()</pre></div></div></div></div></div></div></div></div></div></div>"
            ]
          },
          "metadata": {},
          "execution_count": 52
        }
      ]
    },
    {
      "cell_type": "code",
      "source": [
        "prediction_train = classifier.predict(X_train)\n",
        "prediction_test = classifier.predict(X_test)\n",
        "prediction_proba_train=classifier.predict_proba(X_train)\n",
        "prediction_proba_test=classifier.predict_proba(X_test)"
      ],
      "metadata": {
        "id": "xjQ1l2qhexvD"
      },
      "id": "xjQ1l2qhexvD",
      "execution_count": 54,
      "outputs": []
    },
    {
      "cell_type": "code",
      "source": [
        "print(classification_report(y_test,prediction_test,zero_division=True))\n",
        "print(classification_report(y_train,prediction_train,zero_division=True))"
      ],
      "metadata": {
        "colab": {
          "base_uri": "https://localhost:8080/"
        },
        "id": "WoJiwi_-e8j0",
        "outputId": "a533c83c-5bc3-41e7-a30e-5181f38fb857"
      },
      "id": "WoJiwi_-e8j0",
      "execution_count": 56,
      "outputs": [
        {
          "output_type": "stream",
          "name": "stdout",
          "text": [
            "              precision    recall  f1-score   support\n",
            "\n",
            "           0       1.00      1.00      1.00      3851\n",
            "           1       0.99      0.98      0.98       149\n",
            "\n",
            "    accuracy                           1.00      4000\n",
            "   macro avg       0.99      0.99      0.99      4000\n",
            "weighted avg       1.00      1.00      1.00      4000\n",
            "\n",
            "              precision    recall  f1-score   support\n",
            "\n",
            "           0       1.00      1.00      1.00     15360\n",
            "           1       1.00      1.00      1.00       640\n",
            "\n",
            "    accuracy                           1.00     16000\n",
            "   macro avg       1.00      1.00      1.00     16000\n",
            "weighted avg       1.00      1.00      1.00     16000\n",
            "\n"
          ]
        }
      ]
    },
    {
      "cell_type": "code",
      "source": [
        "print(roc_auc_score(y_test, prediction_proba_test[:,1]))\n",
        "plot_sklearn_roc_curve(y_test,prediction_proba_test[:,1])"
      ],
      "metadata": {
        "colab": {
          "base_uri": "https://localhost:8080/",
          "height": 482
        },
        "id": "B1oeKxkPfAgP",
        "outputId": "9018c479-1736-4e01-9349-59054058c313"
      },
      "id": "B1oeKxkPfAgP",
      "execution_count": 58,
      "outputs": [
        {
          "output_type": "stream",
          "name": "stdout",
          "text": [
            "0.9999546879656465\n"
          ]
        },
        {
          "output_type": "display_data",
          "data": {
            "text/plain": [
              "<Figure size 500x500 with 1 Axes>"
            ],
            "image/png": "[encoded data removed]"
          },
          "metadata": {}
        }
      ]
    },
    {
      "cell_type": "code",
      "source": [],
      "metadata": {
        "id": "z5lOQoSxfD9X"
      },
      "id": "z5lOQoSxfD9X",
      "execution_count": null,
      "outputs": []
    },
    {
      "cell_type": "markdown",
      "source": [
        "## LightGBM with imbalance setting"
      ],
      "metadata": {
        "id": "Hwd8IKBogsu2"
      },
      "id": "Hwd8IKBogsu2"
    },
    {
      "cell_type": "code",
      "execution_count": 59,
      "metadata": {
        "id": "ly4kcNKKiFlJ"
      },
      "outputs": [],
      "source": [
        "X_train = df_train.drop(columns=target_col)\n",
        "y_train = df_train[target_col]"
      ],
      "id": "ly4kcNKKiFlJ"
    },
    {
      "cell_type": "code",
      "execution_count": 61,
      "metadata": {
        "colab": {
          "base_uri": "https://localhost:8080/"
        },
        "outputId": "a7b059e6-fdff-42fe-dc16-115bc6b4dc51",
        "id": "4g9Wh5xCiFlK"
      },
      "outputs": [
        {
          "output_type": "stream",
          "name": "stdout",
          "text": [
            "[LightGBM] [Warning] Found whitespace in feature_names, replace with underlines\n",
            "[LightGBM] [Info] Number of positive: 640, number of negative: 15360\n",
            "[LightGBM] [Warning] Auto-choosing row-wise multi-threading, the overhead of testing was 0.001003 seconds.\n",
            "You can set `force_row_wise=true` to remove the overhead.\n",
            "And if memory is not enough, you can set `force_col_wise=true`.\n",
            "[LightGBM] [Info] Total Bins 254\n",
            "[LightGBM] [Info] Number of data points in the train set: 16000, number of used features: 16\n",
            "[LightGBM] [Warning] Found whitespace in feature_names, replace with underlines\n",
            "[LightGBM] [Info] [binary:BoostFromScore]: pavg=0.040000 -> initscore=-3.178054\n",
            "[LightGBM] [Info] Start training from score -3.178054\n",
            "[1]\tvalid_0's auc: 0.984033\n",
            "[2]\tvalid_0's auc: 0.99752\n",
            "[3]\tvalid_0's auc: 0.997996\n",
            "[4]\tvalid_0's auc: 0.998394\n",
            "[5]\tvalid_0's auc: 0.998469\n",
            "[6]\tvalid_0's auc: 0.998788\n",
            "[7]\tvalid_0's auc: 0.998753\n",
            "[8]\tvalid_0's auc: 0.99887\n",
            "[9]\tvalid_0's auc: 0.999209\n",
            "[10]\tvalid_0's auc: 0.999315\n",
            "[11]\tvalid_0's auc: 0.999388\n",
            "[12]\tvalid_0's auc: 0.999434\n",
            "[13]\tvalid_0's auc: 0.99946\n",
            "[14]\tvalid_0's auc: 0.999503\n",
            "[15]\tvalid_0's auc: 0.99951\n",
            "[16]\tvalid_0's auc: 0.999522\n",
            "[17]\tvalid_0's auc: 0.99956\n",
            "[18]\tvalid_0's auc: 0.999562\n",
            "[19]\tvalid_0's auc: 0.999593\n",
            "[20]\tvalid_0's auc: 0.999604\n",
            "[21]\tvalid_0's auc: 0.999631\n",
            "[22]\tvalid_0's auc: 0.999638\n",
            "[23]\tvalid_0's auc: 0.999652\n",
            "[24]\tvalid_0's auc: 0.999654\n",
            "[25]\tvalid_0's auc: 0.999652\n",
            "[26]\tvalid_0's auc: 0.999652\n",
            "[27]\tvalid_0's auc: 0.999684\n",
            "[28]\tvalid_0's auc: 0.999684\n",
            "[29]\tvalid_0's auc: 0.999685\n",
            "[30]\tvalid_0's auc: 0.999706\n",
            "[31]\tvalid_0's auc: 0.99971\n",
            "[32]\tvalid_0's auc: 0.999715\n",
            "[33]\tvalid_0's auc: 0.999713\n",
            "[34]\tvalid_0's auc: 0.999712\n",
            "[35]\tvalid_0's auc: 0.999717\n",
            "[36]\tvalid_0's auc: 0.999715\n",
            "[37]\tvalid_0's auc: 0.999807\n",
            "[38]\tvalid_0's auc: 0.99982\n",
            "[39]\tvalid_0's auc: 0.999823\n",
            "[40]\tvalid_0's auc: 0.999842\n",
            "[41]\tvalid_0's auc: 0.999881\n",
            "[42]\tvalid_0's auc: 0.999883\n",
            "[43]\tvalid_0's auc: 0.999883\n",
            "[44]\tvalid_0's auc: 0.99989\n",
            "[45]\tvalid_0's auc: 0.999892\n",
            "[46]\tvalid_0's auc: 0.999887\n",
            "[47]\tvalid_0's auc: 0.99989\n",
            "[48]\tvalid_0's auc: 0.999885\n",
            "[49]\tvalid_0's auc: 0.999885\n",
            "[50]\tvalid_0's auc: 0.999887\n",
            "[51]\tvalid_0's auc: 0.999887\n",
            "[52]\tvalid_0's auc: 0.999888\n",
            "[53]\tvalid_0's auc: 0.999906\n",
            "[54]\tvalid_0's auc: 0.999909\n",
            "[55]\tvalid_0's auc: 0.999916\n",
            "[56]\tvalid_0's auc: 0.99992\n",
            "[57]\tvalid_0's auc: 0.999923\n",
            "[58]\tvalid_0's auc: 0.999929\n",
            "[59]\tvalid_0's auc: 0.999929\n",
            "[60]\tvalid_0's auc: 0.999929\n",
            "[61]\tvalid_0's auc: 0.999932\n",
            "[62]\tvalid_0's auc: 0.999936\n",
            "[63]\tvalid_0's auc: 0.999932\n",
            "[64]\tvalid_0's auc: 0.999932\n",
            "[65]\tvalid_0's auc: 0.999932\n",
            "[66]\tvalid_0's auc: 0.99993\n",
            "[67]\tvalid_0's auc: 0.99993\n",
            "[68]\tvalid_0's auc: 0.999932\n",
            "[69]\tvalid_0's auc: 0.999932\n",
            "[70]\tvalid_0's auc: 0.999932\n",
            "[71]\tvalid_0's auc: 0.999934\n",
            "[72]\tvalid_0's auc: 0.999937\n",
            "[73]\tvalid_0's auc: 0.999937\n",
            "[74]\tvalid_0's auc: 0.999936\n",
            "[75]\tvalid_0's auc: 0.999936\n",
            "[76]\tvalid_0's auc: 0.999937\n",
            "[77]\tvalid_0's auc: 0.999942\n",
            "[78]\tvalid_0's auc: 0.999937\n",
            "[79]\tvalid_0's auc: 0.999939\n",
            "[80]\tvalid_0's auc: 0.999941\n",
            "[81]\tvalid_0's auc: 0.999941\n",
            "[82]\tvalid_0's auc: 0.999944\n",
            "[83]\tvalid_0's auc: 0.999946\n",
            "[84]\tvalid_0's auc: 0.999944\n",
            "[85]\tvalid_0's auc: 0.999942\n",
            "[86]\tvalid_0's auc: 0.999941\n",
            "[87]\tvalid_0's auc: 0.999946\n",
            "[88]\tvalid_0's auc: 0.999948\n",
            "[89]\tvalid_0's auc: 0.999949\n",
            "[90]\tvalid_0's auc: 0.999951\n",
            "[91]\tvalid_0's auc: 0.999951\n",
            "[92]\tvalid_0's auc: 0.999949\n",
            "[93]\tvalid_0's auc: 0.999949\n",
            "[94]\tvalid_0's auc: 0.999949\n",
            "[95]\tvalid_0's auc: 0.999949\n",
            "[96]\tvalid_0's auc: 0.999949\n",
            "[97]\tvalid_0's auc: 0.999951\n",
            "[98]\tvalid_0's auc: 0.999951\n",
            "[99]\tvalid_0's auc: 0.999951\n",
            "[100]\tvalid_0's auc: 0.999951\n"
          ]
        }
      ],
      "source": [
        "d_train=lgb.Dataset(X_train, label=y_train)\n",
        "\n",
        "d_test=lgb.Dataset(X_test, label=y_test)\n",
        "\n",
        "\n",
        "parameters = {\n",
        "    'objective': 'binary',\n",
        "    'metric': 'auc',\n",
        "    'is_unbalance': 'true'\n",
        "}\n",
        "\n",
        "clf2 = lgb.train(params=parameters, train_set=d_train, valid_sets=d_test)"
      ],
      "id": "4g9Wh5xCiFlK"
    },
    {
      "cell_type": "code",
      "execution_count": 62,
      "metadata": {
        "id": "8IMXkSC8iFlM"
      },
      "outputs": [],
      "source": [
        "prediction_train_proba = clf2.predict(X_train)\n",
        "prediction_test_proba = clf2.predict(X_test)"
      ],
      "id": "8IMXkSC8iFlM"
    },
    {
      "cell_type": "code",
      "execution_count": 64,
      "metadata": {
        "id": "EkcEszxsiFlM"
      },
      "outputs": [],
      "source": [
        "threshold = 0.5"
      ],
      "id": "EkcEszxsiFlM"
    },
    {
      "cell_type": "code",
      "execution_count": 65,
      "metadata": {
        "id": "z_WTisjZiFlN"
      },
      "outputs": [],
      "source": [
        "prediction_train = np.where(prediction_train_proba>threshold,1,0)\n",
        "prediction_test = np.where(prediction_test_proba>threshold,1,0)"
      ],
      "id": "z_WTisjZiFlN"
    },
    {
      "cell_type": "code",
      "source": [
        "print(classification_report(y_test,prediction_test,zero_division=True))\n",
        "print(classification_report(y_train,prediction_train,zero_division=True))"
      ],
      "metadata": {
        "colab": {
          "base_uri": "https://localhost:8080/"
        },
        "id": "KPnDisW1jM2F",
        "outputId": "bc3cf0c1-6504-48eb-84ba-e68c48d7dbea"
      },
      "id": "KPnDisW1jM2F",
      "execution_count": 66,
      "outputs": [
        {
          "output_type": "stream",
          "name": "stdout",
          "text": [
            "              precision    recall  f1-score   support\n",
            "\n",
            "           0       1.00      1.00      1.00      3851\n",
            "           1       0.99      0.99      0.99       149\n",
            "\n",
            "    accuracy                           1.00      4000\n",
            "   macro avg       0.99      0.99      0.99      4000\n",
            "weighted avg       1.00      1.00      1.00      4000\n",
            "\n",
            "              precision    recall  f1-score   support\n",
            "\n",
            "           0       1.00      1.00      1.00     15360\n",
            "           1       1.00      1.00      1.00       640\n",
            "\n",
            "    accuracy                           1.00     16000\n",
            "   macro avg       1.00      1.00      1.00     16000\n",
            "weighted avg       1.00      1.00      1.00     16000\n",
            "\n"
          ]
        }
      ]
    },
    {
      "cell_type": "code",
      "source": [
        "print(roc_auc_score(y_test, prediction_test_proba))\n",
        "\n",
        "plot_sklearn_roc_curve(y_test, prediction_test_proba)"
      ],
      "metadata": {
        "colab": {
          "base_uri": "https://localhost:8080/",
          "height": 482
        },
        "id": "Twi3JZdKjOzI",
        "outputId": "63119063-c559-455f-83fe-ab9ef4506d17"
      },
      "id": "Twi3JZdKjOzI",
      "execution_count": 67,
      "outputs": [
        {
          "output_type": "stream",
          "name": "stdout",
          "text": [
            "0.9999512024245424\n"
          ]
        },
        {
          "output_type": "display_data",
          "data": {
            "text/plain": [
              "<Figure size 500x500 with 1 Axes>"
            ],
            "image/png": "[encoded data removed]"
          },
          "metadata": {}
        }
      ]
    },
    {
      "cell_type": "code",
      "source": [],
      "metadata": {
        "id": "cDKyrTY0jRXO"
      },
      "id": "cDKyrTY0jRXO",
      "execution_count": null,
      "outputs": []
    },
    {
      "cell_type": "markdown",
      "source": [
        "# Making functions for DRY Code"
      ],
      "metadata": {
        "id": "iltAFuMHr5Dy"
      },
      "id": "iltAFuMHr5Dy"
    },
    {
      "cell_type": "markdown",
      "source": [
        "## Base LGBM"
      ],
      "metadata": {
        "id": "mDyC6JNDxCMC"
      },
      "id": "mDyC6JNDxCMC"
    },
    {
      "cell_type": "code",
      "source": [
        "def base_lgbm(df_train:pd.DataFrame,\n",
        "              df_test:pd.DataFrame,\n",
        "              target_col:str,\n",
        "              dataset_name:str,\n",
        "              model_name:str=\"LGBM Baseline\",\n",
        "              message:str=\"Building LGBM Model...\"):\n",
        "  # Train data\n",
        "  X_train = df_train.drop(columns=target_col)\n",
        "  y_train = df_train[target_col]\n",
        "\n",
        "  # Test data\n",
        "  X_test = df_test.drop(columns=target_col)\n",
        "  y_test = df_test[target_col]\n",
        "\n",
        "  print(message)\n",
        "  clf = lgb.LGBMClassifier()\n",
        "  clf.fit(X_train, y_train)\n",
        "\n",
        "  prediction_train = clf.predict(X_train)\n",
        "  prediction_test = clf.predict(X_test)\n",
        "  prediction_proba_train=clf.predict_proba(X_train)\n",
        "  prediction_proba_test=clf.predict_proba(X_test)\n",
        "\n",
        "  cr_test = classification_report(y_test,prediction_test,zero_division=True, output_dict=True)\n",
        "  f1_test = cr_test['1']['f1-score']\n",
        "  acc_test = cr_test['accuracy']\n",
        "  auc_test = roc_auc_score(y_test, prediction_proba_test[:,1])\n",
        "  cr_train = classification_report(y_train,prediction_train,zero_division=True, output_dict=True)\n",
        "  f1_train = cr_train['1']['f1-score']\n",
        "  acc_train = cr_train['accuracy']\n",
        "  auc_train = roc_auc_score(y_train, prediction_proba_train[:,1])\n",
        "\n",
        "  report = {\n",
        "      \"Dataset\":dataset_name,\n",
        "      \"Model\":model_name,\n",
        "      \"f1_test\": f1_test,\n",
        "      \"f1_train\":f1_train,\n",
        "      \"accuracy_test\" : acc_test,\n",
        "      \"accuracy_train\" :acc_train,\n",
        "      \"AUC_test\" :auc_test,\n",
        "      \"AUC_train\" :auc_train\n",
        "  }\n",
        "  print(\"ROC Curve for test data: {}\".format(auc_test))\n",
        "  plot_sklearn_roc_curve(y_test,prediction_proba_test[:,1])\n",
        "  return clf, report\n"
      ],
      "metadata": {
        "id": "81eUybkur-mQ"
      },
      "id": "81eUybkur-mQ",
      "execution_count": 105,
      "outputs": []
    },
    {
      "cell_type": "code",
      "source": [
        "letter_a_train = pd.read_csv(\"letter_a_train.csv\")\n",
        "letter_a_test = pd.read_csv(\"letter_a_test.csv\")\n",
        "model, rep = base_lgbm(letter_a_train, letter_a_test,\"letter_a\",\"Letter_A\")"
      ],
      "metadata": {
        "colab": {
          "base_uri": "https://localhost:8080/",
          "height": 500
        },
        "id": "WPt21oQ0shCG",
        "outputId": "1797e2a1-c740-40c6-ae1b-32a28deef3a0"
      },
      "id": "WPt21oQ0shCG",
      "execution_count": 102,
      "outputs": [
        {
          "output_type": "stream",
          "name": "stdout",
          "text": [
            "Building LGBM Model...\n",
            "ROC Curve for test data: 0.999968630130063\n"
          ]
        },
        {
          "output_type": "display_data",
          "data": {
            "text/plain": [
              "<Figure size 500x500 with 1 Axes>"
            ],
            "image/png": "[encoded data removed]"
          },
          "metadata": {}
        }
      ]
    },
    {
      "cell_type": "code",
      "source": [
        "rep"
      ],
      "metadata": {
        "colab": {
          "base_uri": "https://localhost:8080/"
        },
        "id": "MB5pM813wZFW",
        "outputId": "a18efd00-c8c2-4d28-f932-16336f95f482"
      },
      "id": "MB5pM813wZFW",
      "execution_count": 103,
      "outputs": [
        {
          "output_type": "execute_result",
          "data": {
            "text/plain": [
              "{'Dataset': 'Letter_A',\n",
              " 'Model': 'LGBM Baseline',\n",
              " 'f1_test': 0.9797297297297297,\n",
              " 'f1_train': 1.0,\n",
              " 'accuracy_test': 0.9985,\n",
              " 'accuracy_train': 1.0,\n",
              " 'AUC_test': 0.999968630130063,\n",
              " 'AUC_train': 1.0}"
            ]
          },
          "metadata": {},
          "execution_count": 103
        }
      ]
    },
    {
      "cell_type": "code",
      "source": [],
      "metadata": {
        "id": "NUFimCMgzB4d"
      },
      "id": "NUFimCMgzB4d",
      "execution_count": null,
      "outputs": []
    },
    {
      "cell_type": "markdown",
      "source": [
        "## Upsample function"
      ],
      "metadata": {
        "id": "Q_aKNn6t2yP3"
      },
      "id": "Q_aKNn6t2yP3"
    },
    {
      "cell_type": "code",
      "source": [
        "def upsample(df_train:pd.DataFrame,\n",
        "              df_test:pd.DataFrame,\n",
        "              target_col:str,\n",
        "              dataset_name:str,\n",
        "              model_name:str=\"LGBM Upsample\",\n",
        "              message:str=\"Building LGBM Upsample Model...\"):\n",
        "  print(\"Upsampling is being applied...\")\n",
        "  df_majority = df_train[(df_train[target_col]==0)]\n",
        "  df_minority = df_train[(df_train[target_col]==1)]\n",
        "  # upsample minority class\n",
        "  df_minority_upsampled = resample(df_minority,\n",
        "                                  replace=True,    # sample with replacement\n",
        "                                  n_samples= df_majority.shape[0], # to match majority class\n",
        "                                  random_state=42)  # reproducible results\n",
        "  # Combine majority class with upsampled minority class\n",
        "  df_upsampled = pd.concat([df_minority_upsampled, df_majority])\n",
        "  return base_lgbm(df_upsampled, df_test, target_col, dataset_name, model_name, message)"
      ],
      "metadata": {
        "id": "bKES-1_622DC"
      },
      "id": "bKES-1_622DC",
      "execution_count": 114,
      "outputs": []
    },
    {
      "cell_type": "code",
      "source": [
        "letter_a_train = pd.read_csv(\"letter_a_train.csv\")\n",
        "letter_a_test = pd.read_csv(\"letter_a_test.csv\")\n",
        "#model, rep = base_lgbm(letter_a_train, letter_a_test,\"letter_a\",\"Letter_A\")\n",
        "model, rep = upsample(letter_a_train, letter_a_test,\"letter_a\",\"Letter_A\")"
      ],
      "metadata": {
        "colab": {
          "base_uri": "https://localhost:8080/",
          "height": 517
        },
        "id": "Og8N1RWb28YI",
        "outputId": "8130a916-5769-4435-8877-76ddea7c55fc"
      },
      "id": "Og8N1RWb28YI",
      "execution_count": 117,
      "outputs": [
        {
          "output_type": "stream",
          "name": "stdout",
          "text": [
            "Upsampling is being applied...\n",
            "Building LGBM Upsample Model...\n",
            "ROC Curve for test data: 0.9999512024245424\n"
          ]
        },
        {
          "output_type": "display_data",
          "data": {
            "text/plain": [
              "<Figure size 500x500 with 1 Axes>"
            ],
            "image/png": "[encoded data removed]"
          },
          "metadata": {}
        }
      ]
    },
    {
      "cell_type": "code",
      "source": [],
      "metadata": {
        "id": "4TJ7nUXy3YFh"
      },
      "id": "4TJ7nUXy3YFh",
      "execution_count": null,
      "outputs": []
    },
    {
      "cell_type": "markdown",
      "source": [
        "## DownSample Function"
      ],
      "metadata": {
        "id": "5sMvUoKa5PMK"
      },
      "id": "5sMvUoKa5PMK"
    },
    {
      "cell_type": "code",
      "source": [
        "def downsample(df_train:pd.DataFrame,\n",
        "               df_test:pd.DataFrame,\n",
        "               target_col:str,\n",
        "               dataset_name:str,\n",
        "               model_name:str=\"LGBM Downsample\",\n",
        "               message:str=\"Building LGBM Downsample Model...\"):\n",
        "  print(\"Downsampling is being applied...\")\n",
        "  df_majority = df_train[(df_train[target_col]==0)]\n",
        "  df_minority = df_train[(df_train[target_col]==1)]\n",
        "  # downsample majority class\n",
        "  df_majority_upsampled = resample(df_majority,\n",
        "                                  replace=False,    # sample with replacement\n",
        "                                  n_samples= df_minority.shape[0], # to match majority class\n",
        "                                  random_state=42)  # reproducible results\n",
        "  # Combine majority class with upsampled minority class\n",
        "  df_downsampled = pd.concat([df_minority, df_majority_upsampled])\n",
        "  return base_lgbm(df_downsampled, df_test, target_col, dataset_name, model_name, message)"
      ],
      "metadata": {
        "id": "gZEkkpa65Ye-"
      },
      "id": "gZEkkpa65Ye-",
      "execution_count": 121,
      "outputs": []
    },
    {
      "cell_type": "code",
      "source": [
        "letter_a_train = pd.read_csv(\"letter_a_train.csv\")\n",
        "letter_a_test = pd.read_csv(\"letter_a_test.csv\")\n",
        "#model, rep = base_lgbm(letter_a_train, letter_a_test,\"letter_a\",\"Letter_A\")\n",
        "model, rep = downsample(letter_a_train, letter_a_test,\"letter_a\",\"Letter_A\")"
      ],
      "metadata": {
        "colab": {
          "base_uri": "https://localhost:8080/",
          "height": 517
        },
        "id": "jkrsk84W52Xa",
        "outputId": "f105ff9a-5535-4ccb-d677-a39558a4f3cd"
      },
      "id": "jkrsk84W52Xa",
      "execution_count": 128,
      "outputs": [
        {
          "output_type": "stream",
          "name": "stdout",
          "text": [
            "Downsampling is being applied...\n",
            "Building LGBM Downsample Model...\n",
            "ROC Curve for test data: 0.9998745205202519\n"
          ]
        },
        {
          "output_type": "display_data",
          "data": {
            "text/plain": [
              "<Figure size 500x500 with 1 Axes>"
            ],
            "image/png": "[encoded data removed]"
          },
          "metadata": {}
        }
      ]
    },
    {
      "cell_type": "code",
      "source": [],
      "metadata": {
        "id": "5zffS90P6EyL"
      },
      "id": "5zffS90P6EyL",
      "execution_count": null,
      "outputs": []
    },
    {
      "cell_type": "markdown",
      "source": [
        "## SMOTE LGBM"
      ],
      "metadata": {
        "id": "mgQP49KxB001"
      },
      "id": "mgQP49KxB001"
    },
    {
      "cell_type": "code",
      "source": [
        "def smote_lgbm(df_train:pd.DataFrame,\n",
        "               df_test:pd.DataFrame,\n",
        "               target_col:str,\n",
        "               dataset_name:str,\n",
        "               model_name:str=\"SMOTE LGBM\",\n",
        "               message:str=\"Building SMOTE LGBM Model...\"):\n",
        "  print(\"SMOTE is being applied...\")\n",
        "  # Resampling the minority class. The strategy can be changed as required.\n",
        "  sm = SMOTE(sampling_strategy='minority', random_state=42)\n",
        "  # Fit the model to generate the data.\n",
        "  oversampled_X, oversampled_Y = sm.fit_resample(X_train, y_train)\n",
        "  oversampled = pd.concat([pd.DataFrame(oversampled_Y), pd.DataFrame(oversampled_X)], axis=1)\n",
        "  return base_lgbm(oversampled, df_test, target_col, dataset_name, model_name, message)"
      ],
      "metadata": {
        "id": "kOdMlM3_CJ2S"
      },
      "id": "kOdMlM3_CJ2S",
      "execution_count": 131,
      "outputs": []
    },
    {
      "cell_type": "code",
      "source": [
        "letter_a_train = pd.read_csv(\"letter_a_train.csv\")\n",
        "letter_a_test = pd.read_csv(\"letter_a_test.csv\")\n",
        "#model, rep = base_lgbm(letter_a_train, letter_a_test,\"letter_a\",\"Letter_A\")\n",
        "model, rep = smote_lgbm(letter_a_train, letter_a_test,\"letter_a\",\"Letter_A\")"
      ],
      "metadata": {
        "colab": {
          "base_uri": "https://localhost:8080/",
          "height": 517
        },
        "id": "-ZMnc3kzCWd5",
        "outputId": "66ff06c5-2654-4a1c-9590-dd0ac8c333b7"
      },
      "id": "-ZMnc3kzCWd5",
      "execution_count": 129,
      "outputs": [
        {
          "output_type": "stream",
          "name": "stdout",
          "text": [
            "SMOTE is being applied...\n",
            "Building SMOTE LGBM Model...\n",
            "ROC Curve for test data: 0.9999529451950944\n"
          ]
        },
        {
          "output_type": "display_data",
          "data": {
            "text/plain": [
              "<Figure size 500x500 with 1 Axes>"
            ],
            "image/png": "[encoded data removed]"
          },
          "metadata": {}
        }
      ]
    },
    {
      "cell_type": "code",
      "source": [
        "rep"
      ],
      "metadata": {
        "colab": {
          "base_uri": "https://localhost:8080/"
        },
        "id": "PTGMrv4ICZ6U",
        "outputId": "b295a7a0-bd52-437d-c3da-b3f3295345f7"
      },
      "id": "PTGMrv4ICZ6U",
      "execution_count": 130,
      "outputs": [
        {
          "output_type": "execute_result",
          "data": {
            "text/plain": [
              "{'Dataset': 'Letter_A',\n",
              " 'Model': 'SMOTE LGBM',\n",
              " 'f1_test': 0.9866666666666667,\n",
              " 'f1_train': 1.0,\n",
              " 'accuracy_test': 0.999,\n",
              " 'accuracy_train': 1.0,\n",
              " 'AUC_test': 0.9999529451950944,\n",
              " 'AUC_train': 0.9999999999999999}"
            ]
          },
          "metadata": {},
          "execution_count": 130
        }
      ]
    },
    {
      "cell_type": "code",
      "source": [],
      "metadata": {
        "id": "56lMdr8ACeZo"
      },
      "id": "56lMdr8ACeZo",
      "execution_count": null,
      "outputs": []
    },
    {
      "cell_type": "markdown",
      "source": [
        "## Balanced Bagging"
      ],
      "metadata": {
        "id": "1x-G4wLRD1cq"
      },
      "id": "1x-G4wLRD1cq"
    },
    {
      "cell_type": "code",
      "source": [
        "def balanced_bagging_lgbm(df_train:pd.DataFrame,\n",
        "                          df_test:pd.DataFrame,\n",
        "                          target_col:str,\n",
        "                          dataset_name:str,\n",
        "                          model_name:str=\"LGBM Balanced Bagging\",\n",
        "                          message:str=\"Building LGBM Balanced Bagging Model...\"):\n",
        "  # Train data\n",
        "  X_train = df_train.drop(columns=target_col)\n",
        "  y_train = df_train[target_col]\n",
        "\n",
        "  # Test data\n",
        "  X_test = df_test.drop(columns=target_col)\n",
        "  y_test = df_test[target_col]\n",
        "\n",
        "  print(message)\n",
        "  clf = lgb.LGBMClassifier()\n",
        "  classifier = BalancedBaggingClassifier(estimator=clf,\n",
        "                                  sampling_strategy='not majority',\n",
        "                                  replacement=False,\n",
        "                                  random_state=42)\n",
        "  classifier.fit(X_train, y_train)\n",
        "\n",
        "  prediction_train = classifier.predict(X_train)\n",
        "  prediction_test = classifier.predict(X_test)\n",
        "  prediction_proba_train=classifier.predict_proba(X_train)\n",
        "  prediction_proba_test=classifier.predict_proba(X_test)\n",
        "\n",
        "  cr_test = classification_report(y_test,prediction_test,zero_division=True, output_dict=True)\n",
        "  f1_test = cr_test['1']['f1-score']\n",
        "  acc_test = cr_test['accuracy']\n",
        "  auc_test = roc_auc_score(y_test, prediction_proba_test[:,1])\n",
        "  cr_train = classification_report(y_train,prediction_train,zero_division=True, output_dict=True)\n",
        "  f1_train = cr_train['1']['f1-score']\n",
        "  acc_train = cr_train['accuracy']\n",
        "  auc_train = roc_auc_score(y_train, prediction_proba_train[:,1])\n",
        "\n",
        "  report = {\n",
        "      \"Dataset\":dataset_name,\n",
        "      \"Model\":model_name,\n",
        "      \"f1_test\": f1_test,\n",
        "      \"f1_train\":f1_train,\n",
        "      \"accuracy_test\" : acc_test,\n",
        "      \"accuracy_train\" :acc_train,\n",
        "      \"AUC_test\" :auc_test,\n",
        "      \"AUC_train\" :auc_train\n",
        "  }\n",
        "  print(\"ROC Curve for test data: {}\".format(auc_test))\n",
        "  plot_sklearn_roc_curve(y_test,prediction_proba_test[:,1])\n",
        "  return classifier, report"
      ],
      "metadata": {
        "id": "_EwPC5P9D2IT"
      },
      "id": "_EwPC5P9D2IT",
      "execution_count": 137,
      "outputs": []
    },
    {
      "cell_type": "code",
      "source": [
        "letter_a_train = pd.read_csv(\"letter_a_train.csv\")\n",
        "letter_a_test = pd.read_csv(\"letter_a_test.csv\")\n",
        "#model, rep = base_lgbm(letter_a_train, letter_a_test,\"letter_a\",\"Letter_A\")\n",
        "model, rep = balanced_bagging_lgbm(letter_a_train, letter_a_test,\"letter_a\",\"Letter_A\")"
      ],
      "metadata": {
        "colab": {
          "base_uri": "https://localhost:8080/",
          "height": 500
        },
        "id": "DglDObCSD9ji",
        "outputId": "d01823bf-70f1-455d-ec86-48874e3a0e35"
      },
      "execution_count": 144,
      "outputs": [
        {
          "output_type": "stream",
          "name": "stdout",
          "text": [
            "Building LGBM Balanced Bagging Model...\n",
            "ROC Curve for test data: 0.9999546879656465\n"
          ]
        },
        {
          "output_type": "display_data",
          "data": {
            "text/plain": [
              "<Figure size 500x500 with 1 Axes>"
            ],
            "image/png": "[encoded data removed]"
          },
          "metadata": {}
        }
      ],
      "id": "DglDObCSD9ji"
    },
    {
      "cell_type": "code",
      "source": [
        "rep"
      ],
      "metadata": {
        "colab": {
          "base_uri": "https://localhost:8080/"
        },
        "id": "7JHxf3P_E2tJ",
        "outputId": "fac9684b-dd93-4e18-953f-4b3b46b4221a"
      },
      "id": "7JHxf3P_E2tJ",
      "execution_count": 136,
      "outputs": [
        {
          "output_type": "execute_result",
          "data": {
            "text/plain": [
              "{'Dataset': 'Letter_A',\n",
              " 'Model': 'LGBM Balanced Bagging',\n",
              " 'f1_test': 0.9831649831649831,\n",
              " 'f1_train': 0.9984350547730829,\n",
              " 'accuracy_test': 0.99875,\n",
              " 'accuracy_train': 0.999875,\n",
              " 'AUC_test': 0.9999546879656465,\n",
              " 'AUC_train': 1.0}"
            ]
          },
          "metadata": {},
          "execution_count": 136
        }
      ]
    },
    {
      "cell_type": "code",
      "source": [],
      "metadata": {
        "id": "KQEMBcA2E4t9"
      },
      "id": "KQEMBcA2E4t9",
      "execution_count": null,
      "outputs": []
    },
    {
      "cell_type": "markdown",
      "source": [
        "## LGBM Imbalanced"
      ],
      "metadata": {
        "id": "Of8MEDMqIK4U"
      },
      "id": "Of8MEDMqIK4U"
    },
    {
      "cell_type": "code",
      "source": [
        "def lgbm_imbalance(df_train:pd.DataFrame,\n",
        "                   df_test:pd.DataFrame,\n",
        "                   target_col:str,\n",
        "                   dataset_name:str,\n",
        "                   model_name:str=\"LGBM_Imbalance\",\n",
        "                   message:str=\"Building LGBM Imbalance Model...\"):\n",
        "  # Train data\n",
        "  X_train = df_train.drop(columns=target_col)\n",
        "  y_train = df_train[target_col]\n",
        "\n",
        "  # Test data\n",
        "  X_test = df_test.drop(columns=target_col)\n",
        "  y_test = df_test[target_col]\n",
        "\n",
        "  d_train=lgb.Dataset(X_train, label=y_train)\n",
        "  d_test=lgb.Dataset(X_test, label=y_test)\n",
        "\n",
        "  parameters = {\n",
        "      'objective': 'binary',\n",
        "      'metric': 'auc',\n",
        "      'is_unbalance': 'true'\n",
        "  }\n",
        "\n",
        "  clf2 = lgb.train(params=parameters, train_set=d_train, valid_sets=d_test, verbose_eval=0)\n",
        "\n",
        "  prediction_train_proba = clf2.predict(X_train)\n",
        "  prediction_test_proba = clf2.predict(X_test)\n",
        "\n",
        "  prediction_train = np.where(prediction_train_proba>0.5,1,0)\n",
        "  prediction_test = np.where(prediction_test_proba>0.5,1,0)\n",
        "\n",
        "  cr_test = classification_report(y_test,prediction_test,zero_division=True, output_dict=True)\n",
        "  f1_test = cr_test['1']['f1-score']\n",
        "  acc_test = cr_test['accuracy']\n",
        "  auc_test = roc_auc_score(y_test, prediction_test_proba)\n",
        "  cr_train = classification_report(y_train,prediction_train,zero_division=True, output_dict=True)\n",
        "  f1_train = cr_train['1']['f1-score']\n",
        "  acc_train = cr_train['accuracy']\n",
        "  auc_train = roc_auc_score(y_train, prediction_train_proba)\n",
        "\n",
        "  report = {\n",
        "      \"Dataset\":dataset_name,\n",
        "      \"Model\":model_name,\n",
        "      \"f1_test\": f1_test,\n",
        "      \"f1_train\":f1_train,\n",
        "      \"accuracy_test\" : acc_test,\n",
        "      \"accuracy_train\" :acc_train,\n",
        "      \"AUC_test\" :auc_test,\n",
        "      \"AUC_train\" :auc_train\n",
        "  }\n",
        "  print(\"ROC Curve for test data: {}\".format(auc_test))\n",
        "  plot_sklearn_roc_curve(y_test, prediction_test_proba)\n",
        "  return clf2, report\n"
      ],
      "metadata": {
        "id": "HE3d8pO4IX0C"
      },
      "id": "HE3d8pO4IX0C",
      "execution_count": 148,
      "outputs": []
    },
    {
      "cell_type": "code",
      "source": [
        "letter_a_train = pd.read_csv(\"letter_a_train.csv\")\n",
        "letter_a_test = pd.read_csv(\"letter_a_test.csv\")\n",
        "#model, rep = base_lgbm(letter_a_train, letter_a_test,\"letter_a\",\"Letter_A\")\n",
        "model, rep = lgbm_imbalance(letter_a_train, letter_a_test,\"letter_a\",\"Letter_A\")"
      ],
      "metadata": {
        "colab": {
          "base_uri": "https://localhost:8080/",
          "height": 711
        },
        "id": "cujo-RuOI23F",
        "outputId": "9f10dd9c-f0e8-4398-a0c5-ea22566ae8e3"
      },
      "id": "cujo-RuOI23F",
      "execution_count": 158,
      "outputs": [
        {
          "output_type": "stream",
          "name": "stderr",
          "text": [
            "/usr/local/lib/python3.10/dist-packages/lightgbm/engine.py:239: UserWarning: 'verbose_eval' argument is deprecated and will be removed in a future release of LightGBM. Pass 'log_evaluation()' callback via 'callbacks' argument instead.\n",
            "  _log_warning(\"'verbose_eval' argument is deprecated and will be removed in a future release of LightGBM. \"\n"
          ]
        },
        {
          "output_type": "stream",
          "name": "stdout",
          "text": [
            "[LightGBM] [Warning] Found whitespace in feature_names, replace with underlines\n",
            "[LightGBM] [Info] Number of positive: 640, number of negative: 15360\n",
            "[LightGBM] [Warning] Auto-choosing row-wise multi-threading, the overhead of testing was 0.001004 seconds.\n",
            "You can set `force_row_wise=true` to remove the overhead.\n",
            "And if memory is not enough, you can set `force_col_wise=true`.\n",
            "[LightGBM] [Info] Total Bins 254\n",
            "[LightGBM] [Info] Number of data points in the train set: 16000, number of used features: 16\n",
            "[LightGBM] [Warning] Found whitespace in feature_names, replace with underlines\n",
            "[LightGBM] [Info] [binary:BoostFromScore]: pavg=0.040000 -> initscore=-3.178054\n",
            "[LightGBM] [Info] Start training from score -3.178054\n",
            "ROC Curve for test data: 0.9999512024245424\n"
          ]
        },
        {
          "output_type": "display_data",
          "data": {
            "text/plain": [
              "<Figure size 500x500 with 1 Axes>"
            ],
            "image/png": "[encoded data removed]"
          },
          "metadata": {}
        }
      ]
    },
    {
      "cell_type": "code",
      "execution_count": 140,
      "metadata": {
        "id": "evCfMUmsI3Hu"
      },
      "outputs": [],
      "source": [],
      "id": "evCfMUmsI3Hu"
    },
    {
      "cell_type": "code",
      "execution_count": 141,
      "metadata": {
        "id": "xkkCC56FI3Hw"
      },
      "outputs": [],
      "source": [],
      "id": "xkkCC56FI3Hw"
    },
    {
      "cell_type": "markdown",
      "source": [
        "## Combining ALL"
      ],
      "metadata": {
        "id": "8T9IzD09PSEy"
      },
      "id": "8T9IzD09PSEy"
    },
    {
      "cell_type": "code",
      "source": [
        "def built_experiment(df_train:pd.DataFrame,\n",
        "                     df_test:pd.DataFrame,\n",
        "                     target_col:str,\n",
        "                     dataset_name:str):\n",
        "  print(\"Running Experiment...\")\n",
        "  print(\"Dataset Name: {}\\nTarget Column: {}\".format(dataset_name, target_col))\n",
        "\n",
        "  lgbm_base_model, rep_lgbm_base = base_lgbm(df_train.copy(), df_test.copy(),target_col,dataset_name)\n",
        "  print(\"Saving model as pickle...\")\n",
        "  with open(\"{}_lgbm_base_model.pkl\".format(dataset_name), \"wb\") as f:\n",
        "      pickle.dump(lgbm_base_model, f)\n",
        "\n",
        "  upsample_model, rep_upsample = upsample(df_train.copy(), df_test.copy(),target_col,dataset_name)\n",
        "  print(\"Saving model as pickle...\")\n",
        "  with open(\"{}_upsample_model.pkl\".format(dataset_name), \"wb\") as f:\n",
        "      pickle.dump(upsample_model, f)\n",
        "\n",
        "  downsample_model, rep_downsample = downsample(df_train.copy(), df_test.copy(),target_col,dataset_name)\n",
        "  print(\"Saving model as pickle...\")\n",
        "  with open(\"{}_downsample_model.pkl\".format(dataset_name), \"wb\") as f:\n",
        "      pickle.dump(downsample_model, f)\n",
        "\n",
        "  smote_lgbm_model, rep_smote_lgbm = smote_lgbm(df_train.copy(), df_test.copy(),target_col,dataset_name)\n",
        "  print(\"Saving model as pickle...\")\n",
        "  with open(\"{}_smote_lgbm_model.pkl\".format(dataset_name), \"wb\") as f:\n",
        "      pickle.dump(smote_lgbm_model, f)\n",
        "\n",
        "  balanced_bagging_lgbm_model, rep_bb = balanced_bagging_lgbm(df_train.copy(), df_test.copy(),target_col,dataset_name)\n",
        "  print(\"Saving model as pickle...\")\n",
        "  with open(\"{}_balanced_bagging_lgbm_model.pkl\".format(dataset_name), \"wb\") as f:\n",
        "      pickle.dump(balanced_bagging_lgbm_model, f)\n",
        "\n",
        "  lgbm_imbalance_model, rep_lgbm_imbalance = lgbm_imbalance(df_train.copy(), df_test.copy(),target_col,dataset_name)\n",
        "  print(\"Saving model as pickle...\")\n",
        "  with open(\"{}_lgbm_imbalance_model.pkl\".format(dataset_name), \"wb\") as f:\n",
        "      pickle.dump(lgbm_imbalance_model, f)\n",
        "\n",
        "  return pd.DataFrame([rep_lgbm_base,rep_upsample,rep_downsample,rep_smote_lgbm,rep_bb,rep_lgbm_imbalance])"
      ],
      "metadata": {
        "id": "S9Nv_BLvPycj"
      },
      "id": "S9Nv_BLvPycj",
      "execution_count": 170,
      "outputs": []
    },
    {
      "cell_type": "code",
      "source": [
        "letter_a_train = pd.read_csv(\"letter_a_train.csv\")\n",
        "letter_a_test = pd.read_csv(\"letter_a_test.csv\")\n",
        "#model, rep = base_lgbm(letter_a_train, letter_a_test,\"letter_a\",\"Letter_A\")\n",
        "rep = built_experiment(letter_a_train, letter_a_test,\"letter_a\",\"Letter_A\")"
      ],
      "metadata": {
        "colab": {
          "base_uri": "https://localhost:8080/",
          "height": 1000
        },
        "id": "CPfOtfcgRyyR",
        "outputId": "eb328b81-0944-45cf-e291-532f060cb535"
      },
      "id": "CPfOtfcgRyyR",
      "execution_count": 168,
      "outputs": [
        {
          "output_type": "stream",
          "name": "stdout",
          "text": [
            "Running Experiment...\n",
            "Dataset Name: Letter_A\n",
            "Target Column: letter_a\n",
            "Building LGBM Model...\n",
            "ROC Curve for test data: 0.999968630130063\n",
            "Saving model as pickle...\n",
            "Upsampling is being applied...\n",
            "Building LGBM Upsample Model...\n",
            "ROC Curve for test data: 0.9999512024245424\n",
            "Saving model as pickle...\n",
            "Downsampling is being applied...\n",
            "Building LGBM Downsample Model...\n",
            "ROC Curve for test data: 0.9998745205202519\n",
            "Saving model as pickle...\n",
            "SMOTE is being applied...\n",
            "Building SMOTE LGBM Model...\n",
            "ROC Curve for test data: 0.9999529451950944\n",
            "Saving model as pickle...\n",
            "Building LGBM Balanced Bagging Model...\n",
            "ROC Curve for test data: 0.9999546879656465\n",
            "Saving model as pickle...\n",
            "[LightGBM] [Warning] Found whitespace in feature_names, replace with underlines\n",
            "[LightGBM] [Info] Number of positive: 640, number of negative: 15360\n",
            "[LightGBM] [Warning] Auto-choosing row-wise multi-threading, the overhead of testing was 0.001003 seconds.\n",
            "You can set `force_row_wise=true` to remove the overhead.\n",
            "And if memory is not enough, you can set `force_col_wise=true`.\n",
            "[LightGBM] [Info] Total Bins 254\n",
            "[LightGBM] [Info] Number of data points in the train set: 16000, number of used features: 16\n",
            "[LightGBM] [Warning] Found whitespace in feature_names, replace with underlines\n",
            "[LightGBM] [Info] [binary:BoostFromScore]: pavg=0.040000 -> initscore=-3.178054\n",
            "[LightGBM] [Info] Start training from score -3.178054\n"
          ]
        },
        {
          "output_type": "stream",
          "name": "stderr",
          "text": [
            "/usr/local/lib/python3.10/dist-packages/lightgbm/engine.py:239: UserWarning: 'verbose_eval' argument is deprecated and will be removed in a future release of LightGBM. Pass 'log_evaluation()' callback via 'callbacks' argument instead.\n",
            "  _log_warning(\"'verbose_eval' argument is deprecated and will be removed in a future release of LightGBM. \"\n"
          ]
        },
        {
          "output_type": "stream",
          "name": "stdout",
          "text": [
            "ROC Curve for test data: 0.9999512024245424\n",
            "Saving model as pickle...\n"
          ]
        },
        {
          "output_type": "display_data",
          "data": {
            "text/plain": [
              "<Figure size 500x500 with 1 Axes>"
            ],
            "image/png": "[encoded data removed]"
          },
          "metadata": {}
        },
        {
          "output_type": "display_data",
          "data": {
            "text/plain": [
              "<Figure size 500x500 with 1 Axes>"
            ],
            "image/png": "[encoded data removed]"
          },
          "metadata": {}
        },
        {
          "output_type": "display_data",
          "data": {
            "text/plain": [
              "<Figure size 500x500 with 1 Axes>"
            ],
            "image/png": "[encoded data removed]"
          },
          "metadata": {}
        },
        {
          "output_type": "display_data",
          "data": {
            "text/plain": [
              "<Figure size 500x500 with 1 Axes>"
            ],
            "image/png": "[encoded data removed]"
          },
          "metadata": {}
        },
        {
          "output_type": "display_data",
          "data": {
            "text/plain": [
              "<Figure size 500x500 with 1 Axes>"
            ],
            "image/png": "[encoded data removed]"
          },
          "metadata": {}
        },
        {
          "output_type": "display_data",
          "data": {
            "text/plain": [
              "<Figure size 500x500 with 1 Axes>"
            ],
            "image/png": "[encoded data removed]"
          },
          "metadata": {}
        }
      ]
    },
    {
      "cell_type": "code",
      "source": [
        "rep"
      ],
      "metadata": {
        "colab": {
          "base_uri": "https://localhost:8080/",
          "height": 237
        },
        "id": "2maNFOTcR6sc",
        "outputId": "6085725f-fca4-4909-ce25-d58dc02480d0"
      },
      "id": "2maNFOTcR6sc",
      "execution_count": 169,
      "outputs": [
        {
          "output_type": "execute_result",
          "data": {
            "text/plain": [
              "    Dataset                  Model   f1_test  f1_train  accuracy_test  \\\n",
              "0  Letter_A          LGBM Baseline  0.979730  1.000000        0.99850   \n",
              "1  Letter_A          LGBM Upsample  0.986577  1.000000        0.99900   \n",
              "2  Letter_A        LGBM Downsample  0.832402  1.000000        0.98500   \n",
              "3  Letter_A             SMOTE LGBM  0.986667  1.000000        0.99900   \n",
              "4  Letter_A  LGBM Balanced Bagging  0.983165  0.998435        0.99875   \n",
              "5  Letter_A         LGBM_Imbalance  0.986577  1.000000        0.99900   \n",
              "\n",
              "   accuracy_train  AUC_test  AUC_train  \n",
              "0        1.000000  0.999969        1.0  \n",
              "1        1.000000  0.999951        1.0  \n",
              "2        1.000000  0.999875        1.0  \n",
              "3        1.000000  0.999953        1.0  \n",
              "4        0.999875  0.999955        1.0  \n",
              "5        1.000000  0.999951        1.0  "
            ],
            "text/html": [
              "\n",
              "\n",
              "  <div id=\"df-c977d7da-7f92-4e2a-b648-10f19965ae15\">\n",
              "    <div class=\"colab-df-container\">\n",
              "      <div>\n",
              "<style scoped>\n",
              "    .dataframe tbody tr th:only-of-type {\n",
              "        vertical-align: middle;\n",
              "    }\n",
              "\n",
              "    .dataframe tbody tr th {\n",
              "        vertical-align: top;\n",
              "    }\n",
              "\n",
              "    .dataframe thead th {\n",
              "        text-align: right;\n",
              "    }\n",
              "</style>\n",
              "<table border=\"1\" class=\"dataframe\">\n",
              "  <thead>\n",
              "    <tr style=\"text-align: right;\">\n",
              "      <th></th>\n",
              "      <th>Dataset</th>\n",
              "      <th>Model</th>\n",
              "      <th>f1_test</th>\n",
              "      <th>f1_train</th>\n",
              "      <th>accuracy_test</th>\n",
              "      <th>accuracy_train</th>\n",
              "      <th>AUC_test</th>\n",
              "      <th>AUC_train</th>\n",
              "    </tr>\n",
              "  </thead>\n",
              "  <tbody>\n",
              "    <tr>\n",
              "      <th>0</th>\n",
              "      <td>Letter_A</td>\n",
              "      <td>LGBM Baseline</td>\n",
              "      <td>0.979730</td>\n",
              "      <td>1.000000</td>\n",
              "      <td>0.99850</td>\n",
              "      <td>1.000000</td>\n",
              "      <td>0.999969</td>\n",
              "      <td>1.0</td>\n",
              "    </tr>\n",
              "    <tr>\n",
              "      <th>1</th>\n",
              "      <td>Letter_A</td>\n",
              "      <td>LGBM Upsample</td>\n",
              "      <td>0.986577</td>\n",
              "      <td>1.000000</td>\n",
              "      <td>0.99900</td>\n",
              "      <td>1.000000</td>\n",
              "      <td>0.999951</td>\n",
              "      <td>1.0</td>\n",
              "    </tr>\n",
              "    <tr>\n",
              "      <th>2</th>\n",
              "      <td>Letter_A</td>\n",
              "      <td>LGBM Downsample</td>\n",
              "      <td>0.832402</td>\n",
              "      <td>1.000000</td>\n",
              "      <td>0.98500</td>\n",
              "      <td>1.000000</td>\n",
              "      <td>0.999875</td>\n",
              "      <td>1.0</td>\n",
              "    </tr>\n",
              "    <tr>\n",
              "      <th>3</th>\n",
              "      <td>Letter_A</td>\n",
              "      <td>SMOTE LGBM</td>\n",
              "      <td>0.986667</td>\n",
              "      <td>1.000000</td>\n",
              "      <td>0.99900</td>\n",
              "      <td>1.000000</td>\n",
              "      <td>0.999953</td>\n",
              "      <td>1.0</td>\n",
              "    </tr>\n",
              "    <tr>\n",
              "      <th>4</th>\n",
              "      <td>Letter_A</td>\n",
              "      <td>LGBM Balanced Bagging</td>\n",
              "      <td>0.983165</td>\n",
              "      <td>0.998435</td>\n",
              "      <td>0.99875</td>\n",
              "      <td>0.999875</td>\n",
              "      <td>0.999955</td>\n",
              "      <td>1.0</td>\n",
              "    </tr>\n",
              "    <tr>\n",
              "      <th>5</th>\n",
              "      <td>Letter_A</td>\n",
              "      <td>LGBM_Imbalance</td>\n",
              "      <td>0.986577</td>\n",
              "      <td>1.000000</td>\n",
              "      <td>0.99900</td>\n",
              "      <td>1.000000</td>\n",
              "      <td>0.999951</td>\n",
              "      <td>1.0</td>\n",
              "    </tr>\n",
              "  </tbody>\n",
              "</table>\n",
              "</div>\n",
              "      <button class=\"colab-df-convert\" onclick=\"convertToInteractive('df-c977d7da-7f92-4e2a-b648-10f19965ae15')\"\n",
              "              title=\"Convert this dataframe to an interactive table.\"\n",
              "              style=\"display:none;\">\n",
              "\n",
              "  <svg xmlns=\"http://www.w3.org/2000/svg\" height=\"24px\"viewBox=\"0 0 24 24\"\n",
              "       width=\"24px\">\n",
              "    <path d=\"M0 0h24v24H0V0z\" fill=\"none\"/>\n",
              "    <path d=\"M18.56 5.44l.94 2.06.94-2.06 2.06-.94-2.06-.94-.94-2.06-.94 2.06-2.06.94zm-11 1L8.5 8.5l.94-2.06 2.06-.94-2.06-.94L8.5 2.5l-.94 2.06-2.06.94zm10 10l.94 2.06.94-2.06 2.06-.94-2.06-.94-.94-2.06-.94 2.06-2.06.94z\"/><path d=\"M17.41 7.96l-1.37-1.37c-.4-.4-.92-.59-1.43-.59-.52 0-1.04.2-1.43.59L10.3 9.45l-7.72 7.72c-.78.78-.78 2.05 0 2.83L4 21.41c.39.39.9.59 1.41.59.51 0 1.02-.2 1.41-.59l7.78-7.78 2.81-2.81c.8-.78.8-2.07 0-2.86zM5.41 20L4 18.59l7.72-7.72 1.47 1.35L5.41 20z\"/>\n",
              "  </svg>\n",
              "      </button>\n",
              "\n",
              "\n",
              "\n",
              "    <div id=\"df-d5fcdc5d-327f-4db4-a998-ce35082d7ff5\">\n",
              "      <button class=\"colab-df-quickchart\" onclick=\"quickchart('df-d5fcdc5d-327f-4db4-a998-ce35082d7ff5')\"\n",
              "              title=\"Suggest charts.\"\n",
              "              style=\"display:none;\">\n",
              "\n",
              "<svg xmlns=\"http://www.w3.org/2000/svg\" height=\"24px\"viewBox=\"0 0 24 24\"\n",
              "     width=\"24px\">\n",
              "    <g>\n",
              "        <path d=\"M19 3H5c-1.1 0-2 .9-2 2v14c0 1.1.9 2 2 2h14c1.1 0 2-.9 2-2V5c0-1.1-.9-2-2-2zM9 17H7v-7h2v7zm4 0h-2V7h2v10zm4 0h-2v-4h2v4z\"/>\n",
              "    </g>\n",
              "</svg>\n",
              "      </button>\n",
              "    </div>\n",
              "\n",
              "<style>\n",
              "  .colab-df-quickchart {\n",
              "    background-color: #E8F0FE;\n",
              "    border: none;\n",
              "    border-radius: 50%;\n",
              "    cursor: pointer;\n",
              "    display: none;\n",
              "    fill: #1967D2;\n",
              "    height: 32px;\n",
              "    padding: 0 0 0 0;\n",
              "    width: 32px;\n",
              "  }\n",
              "\n",
              "  .colab-df-quickchart:hover {\n",
              "    background-color: #E2EBFA;\n",
              "    box-shadow: 0px 1px 2px rgba(60, 64, 67, 0.3), 0px 1px 3px 1px rgba(60, 64, 67, 0.15);\n",
              "    fill: #174EA6;\n",
              "  }\n",
              "\n",
              "  [theme=dark] .colab-df-quickchart {\n",
              "    background-color: #3B4455;\n",
              "    fill: #D2E3FC;\n",
              "  }\n",
              "\n",
              "  [theme=dark] .colab-df-quickchart:hover {\n",
              "    background-color: #434B5C;\n",
              "    box-shadow: 0px 1px 3px 1px rgba(0, 0, 0, 0.15);\n",
              "    filter: drop-shadow(0px 1px 2px rgba(0, 0, 0, 0.3));\n",
              "    fill: #FFFFFF;\n",
              "  }\n",
              "</style>\n",
              "\n",
              "    <script>\n",
              "      async function quickchart(key) {\n",
              "        const containerElement = document.querySelector('#' + key);\n",
              "        const charts = await google.colab.kernel.invokeFunction(\n",
              "            'suggestCharts', [key], {});\n",
              "      }\n",
              "    </script>\n",
              "\n",
              "      <script>\n",
              "\n",
              "function displayQuickchartButton(domScope) {\n",
              "  let quickchartButtonEl =\n",
              "    domScope.querySelector('#df-d5fcdc5d-327f-4db4-a998-ce35082d7ff5 button.colab-df-quickchart');\n",
              "  quickchartButtonEl.style.display =\n",
              "    google.colab.kernel.accessAllowed ? 'block' : 'none';\n",
              "}\n",
              "\n",
              "        displayQuickchartButton(document);\n",
              "      </script>\n",
              "      <style>\n",
              "    .colab-df-container {\n",
              "      display:flex;\n",
              "      flex-wrap:wrap;\n",
              "      gap: 12px;\n",
              "    }\n",
              "\n",
              "    .colab-df-convert {\n",
              "      background-color: #E8F0FE;\n",
              "      border: none;\n",
              "      border-radius: 50%;\n",
              "      cursor: pointer;\n",
              "      display: none;\n",
              "      fill: #1967D2;\n",
              "      height: 32px;\n",
              "      padding: 0 0 0 0;\n",
              "      width: 32px;\n",
              "    }\n",
              "\n",
              "    .colab-df-convert:hover {\n",
              "      background-color: #E2EBFA;\n",
              "      box-shadow: 0px 1px 2px rgba(60, 64, 67, 0.3), 0px 1px 3px 1px rgba(60, 64, 67, 0.15);\n",
              "      fill: #174EA6;\n",
              "    }\n",
              "\n",
              "    [theme=dark] .colab-df-convert {\n",
              "      background-color: #3B4455;\n",
              "      fill: #D2E3FC;\n",
              "    }\n",
              "\n",
              "    [theme=dark] .colab-df-convert:hover {\n",
              "      background-color: #434B5C;\n",
              "      box-shadow: 0px 1px 3px 1px rgba(0, 0, 0, 0.15);\n",
              "      filter: drop-shadow(0px 1px 2px rgba(0, 0, 0, 0.3));\n",
              "      fill: #FFFFFF;\n",
              "    }\n",
              "  </style>\n",
              "\n",
              "      <script>\n",
              "        const buttonEl =\n",
              "          document.querySelector('#df-c977d7da-7f92-4e2a-b648-10f19965ae15 button.colab-df-convert');\n",
              "        buttonEl.style.display =\n",
              "          google.colab.kernel.accessAllowed ? 'block' : 'none';\n",
              "\n",
              "        async function convertToInteractive(key) {\n",
              "          const element = document.querySelector('#df-c977d7da-7f92-4e2a-b648-10f19965ae15');\n",
              "          const dataTable =\n",
              "            await google.colab.kernel.invokeFunction('convertToInteractive',\n",
              "                                                     [key], {});\n",
              "          if (!dataTable) return;\n",
              "\n",
              "          const docLinkHtml = 'Like what you see? Visit the ' +\n",
              "            '<a target=\"_blank\" href=https://colab.research.google.com/notebooks/data_table.ipynb>data table notebook</a>'\n",
              "            + ' to learn more about interactive tables.';\n",
              "          element.innerHTML = '';\n",
              "          dataTable['output_type'] = 'display_data';\n",
              "          await google.colab.output.renderOutput(dataTable, element);\n",
              "          const docLink = document.createElement('div');\n",
              "          docLink.innerHTML = docLinkHtml;\n",
              "          element.appendChild(docLink);\n",
              "        }\n",
              "      </script>\n",
              "    </div>\n",
              "  </div>\n"
            ]
          },
          "metadata": {},
          "execution_count": 169
        }
      ]
    },
    {
      "cell_type": "code",
      "source": [],
      "metadata": {
        "id": "_TwpEMaiSEAR"
      },
      "id": "_TwpEMaiSEAR",
      "execution_count": null,
      "outputs": []
    }
  ],
  "metadata": {
    "kernelspec": {
      "display_name": "Python 3 (ipykernel)",
      "language": "python",
      "name": "python3"
    },
    "language_info": {
      "codemirror_mode": {
        "name": "ipython",
        "version": 3
      },
      "file_extension": ".py",
      "mimetype": "text/x-python",
      "name": "python",
      "nbconvert_exporter": "python",
      "pygments_lexer": "ipython3",
      "version": "3.9.7"
    },
    "colab": {
      "provenance": []
    }
  },
  "nbformat": 4,
  "nbformat_minor": 5
}