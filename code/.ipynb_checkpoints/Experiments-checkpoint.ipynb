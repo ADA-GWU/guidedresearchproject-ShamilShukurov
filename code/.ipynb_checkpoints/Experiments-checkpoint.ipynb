{
 "cells": [
  {
   "cell_type": "code",
   "execution_count": 2,
   "id": "cee2fa21",
   "metadata": {},
   "outputs": [],
   "source": [
    "from modelling import *"
   ]
  },
  {
   "cell_type": "code",
   "execution_count": 3,
   "id": "5efca41e",
   "metadata": {},
   "outputs": [
    {
     "data": {
      "text/html": [
       "<div>\n",
       "<style scoped>\n",
       "    .dataframe tbody tr th:only-of-type {\n",
       "        vertical-align: middle;\n",
       "    }\n",
       "\n",
       "    .dataframe tbody tr th {\n",
       "        vertical-align: top;\n",
       "    }\n",
       "\n",
       "    .dataframe thead th {\n",
       "        text-align: right;\n",
       "    }\n",
       "</style>\n",
       "<table border=\"1\" class=\"dataframe\">\n",
       "  <thead>\n",
       "    <tr style=\"text-align: right;\">\n",
       "      <th></th>\n",
       "      <th>Dataset_Name</th>\n",
       "      <th>Row_Count</th>\n",
       "      <th>Minority_Class_Percent</th>\n",
       "      <th>Target_Column</th>\n",
       "    </tr>\n",
       "  </thead>\n",
       "  <tbody>\n",
       "    <tr>\n",
       "      <th>0</th>\n",
       "      <td>Abalone</td>\n",
       "      <td>1477</td>\n",
       "      <td>4.520</td>\n",
       "      <td>target</td>\n",
       "    </tr>\n",
       "    <tr>\n",
       "      <th>1</th>\n",
       "      <td>Adult</td>\n",
       "      <td>32561</td>\n",
       "      <td>24.080</td>\n",
       "      <td>target</td>\n",
       "    </tr>\n",
       "    <tr>\n",
       "      <th>2</th>\n",
       "      <td>Churn</td>\n",
       "      <td>7043</td>\n",
       "      <td>26.530</td>\n",
       "      <td>target</td>\n",
       "    </tr>\n",
       "    <tr>\n",
       "      <th>3</th>\n",
       "      <td>Contraceptive</td>\n",
       "      <td>1743</td>\n",
       "      <td>22.600</td>\n",
       "      <td>target</td>\n",
       "    </tr>\n",
       "    <tr>\n",
       "      <th>4</th>\n",
       "      <td>Covertype</td>\n",
       "      <td>581012</td>\n",
       "      <td>14.770</td>\n",
       "      <td>target</td>\n",
       "    </tr>\n",
       "    <tr>\n",
       "      <th>5</th>\n",
       "      <td>Fraud</td>\n",
       "      <td>284807</td>\n",
       "      <td>0.172</td>\n",
       "      <td>Class</td>\n",
       "    </tr>\n",
       "    <tr>\n",
       "      <th>6</th>\n",
       "      <td>Fraud2</td>\n",
       "      <td>650000</td>\n",
       "      <td>0.500</td>\n",
       "      <td>is_fraud</td>\n",
       "    </tr>\n",
       "    <tr>\n",
       "      <th>7</th>\n",
       "      <td>Letter-a</td>\n",
       "      <td>20000</td>\n",
       "      <td>3.940</td>\n",
       "      <td>letter_a</td>\n",
       "    </tr>\n",
       "    <tr>\n",
       "      <th>8</th>\n",
       "      <td>Letter-vowel</td>\n",
       "      <td>20000</td>\n",
       "      <td>19.390</td>\n",
       "      <td>is_vowel</td>\n",
       "    </tr>\n",
       "    <tr>\n",
       "      <th>9</th>\n",
       "      <td>Pendigits</td>\n",
       "      <td>10992</td>\n",
       "      <td>9.590</td>\n",
       "      <td>is_9</td>\n",
       "    </tr>\n",
       "    <tr>\n",
       "      <th>10</th>\n",
       "      <td>Sick_euthyroid</td>\n",
       "      <td>2194</td>\n",
       "      <td>10.050</td>\n",
       "      <td>target</td>\n",
       "    </tr>\n",
       "    <tr>\n",
       "      <th>11</th>\n",
       "      <td>Splice-junction</td>\n",
       "      <td>3186</td>\n",
       "      <td>24.070</td>\n",
       "      <td>target</td>\n",
       "    </tr>\n",
       "    <tr>\n",
       "      <th>12</th>\n",
       "      <td>Wine</td>\n",
       "      <td>6497</td>\n",
       "      <td>3.760</td>\n",
       "      <td>target</td>\n",
       "    </tr>\n",
       "  </tbody>\n",
       "</table>\n",
       "</div>"
      ],
      "text/plain": [
       "       Dataset_Name  Row_Count  Minority_Class_Percent Target_Column\n",
       "0           Abalone       1477                   4.520        target\n",
       "1             Adult      32561                  24.080        target\n",
       "2             Churn       7043                  26.530        target\n",
       "3     Contraceptive       1743                  22.600        target\n",
       "4         Covertype     581012                  14.770        target\n",
       "5             Fraud     284807                   0.172         Class\n",
       "6            Fraud2     650000                   0.500      is_fraud\n",
       "7          Letter-a      20000                   3.940      letter_a\n",
       "8      Letter-vowel      20000                  19.390      is_vowel\n",
       "9         Pendigits      10992                   9.590          is_9\n",
       "10   Sick_euthyroid       2194                  10.050        target\n",
       "11  Splice-junction       3186                  24.070        target\n",
       "12             Wine       6497                   3.760        target"
      ]
     },
     "execution_count": 3,
     "metadata": {},
     "output_type": "execute_result"
    }
   ],
   "source": [
    "fp_di = r\"C:\\Users\\SukurovSB\\Desktop\\Guided_Research_New\\guidedresearchproject-ShamilShukurov\\data\\dataset_infos.csv\"\n",
    "dataset_infos = pd.read_csv(fp_di).drop(columns=\"Unnamed: 0\")\n",
    "dataset_infos"
   ]
  },
  {
   "cell_type": "code",
   "execution_count": 4,
   "id": "78daad05",
   "metadata": {},
   "outputs": [],
   "source": [
    "train_data_folder = r\"C:\\Users\\SukurovSB\\Desktop\\train_datasets\"\n",
    "test_data_folder = r\"C:\\Users\\SukurovSB\\Desktop\\test_datasets\""
   ]
  },
  {
   "cell_type": "code",
   "execution_count": 7,
   "id": "380539ba",
   "metadata": {},
   "outputs": [
    {
     "name": "stdout",
     "output_type": "stream",
     "text": [
      "Building LGBM Model...\n"
     ]
    },
    {
     "name": "stderr",
     "output_type": "stream",
     "text": [
      "No handles with labels found to put in legend.\n"
     ]
    },
    {
     "name": "stdout",
     "output_type": "stream",
     "text": [
      "ROC Curve for test data: 0.9308210763636028\n"
     ]
    },
    {
     "data": {
      "image/png": "[encoded data removed]",
      "text/plain": [
       "<Figure size 360x360 with 1 Axes>"
      ]
     },
     "metadata": {
      "needs_background": "light"
     },
     "output_type": "display_data"
    }
   ],
   "source": [
    "adult_train = pd.read_csv(os.path.join(train_data_folder,\"adult_train.csv\"))\n",
    "adult_test = pd.read_csv(os.path.join(test_data_folder,\"adult_test.csv\"))\n",
    "model, rep = base_lgbm(adult_train, adult_test,\"target\",\"Adult\")"
   ]
  },
  {
   "cell_type": "code",
   "execution_count": null,
   "id": "e99e7422",
   "metadata": {},
   "outputs": [],
   "source": []
  }
 ],
 "metadata": {
  "kernelspec": {
   "display_name": "Python 3 (ipykernel)",
   "language": "python",
   "name": "python3"
  },
  "language_info": {
   "codemirror_mode": {
    "name": "ipython",
    "version": 3
   },
   "file_extension": ".py",
   "mimetype": "text/x-python",
   "name": "python",
   "nbconvert_exporter": "python",
   "pygments_lexer": "ipython3",
   "version": "3.9.7"
  }
 },
 "nbformat": 4,
 "nbformat_minor": 5
}
