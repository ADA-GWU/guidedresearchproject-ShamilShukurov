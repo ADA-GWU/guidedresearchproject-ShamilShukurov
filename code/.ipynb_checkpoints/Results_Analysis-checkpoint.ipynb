{
 "cells": [
  {
   "cell_type": "code",
   "execution_count": 3,
   "id": "833f3c5b",
   "metadata": {},
   "outputs": [],
   "source": [
    "import pandas as pd\n",
    "import numpy as np\n",
    "from os.path import join"
   ]
  },
  {
   "cell_type": "code",
   "execution_count": 2,
   "id": "0decaba8",
   "metadata": {},
   "outputs": [],
   "source": [
    "data_folder = r\"C:\\Users\\SukurovSB\\Desktop\\Guided_Research_New\\guidedresearchproject-ShamilShukurov\\data\""
   ]
  },
  {
   "cell_type": "code",
   "execution_count": null,
   "id": "17fff26c",
   "metadata": {},
   "outputs": [],
   "source": []
  }
 ],
 "metadata": {
  "kernelspec": {
   "display_name": "Python 3 (ipykernel)",
   "language": "python",
   "name": "python3"
  },
  "language_info": {
   "codemirror_mode": {
    "name": "ipython",
    "version": 3
   },
   "file_extension": ".py",
   "mimetype": "text/x-python",
   "name": "python",
   "nbconvert_exporter": "python",
   "pygments_lexer": "ipython3",
   "version": "3.9.7"
  }
 },
 "nbformat": 4,
 "nbformat_minor": 5
}
